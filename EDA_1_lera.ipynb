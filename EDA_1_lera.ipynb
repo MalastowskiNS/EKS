{
 "cells": [
  {
   "cell_type": "markdown",
   "id": "69cd989c",
   "metadata": {},
   "source": [
    "<div style=\"border:solid green 3px; padding: 20px\">\n",
    "\n",
    "<b>Привет!</b>\n",
    "\n",
    "Меня зовут Сороколетов Илья и я буду проверять твой проект. \n",
    "\n",
    "Предлагаю общаться на «**ты**», но если тебе будет комфортнее общаться на «**вы**», то сообщи об этом в комментариях)\n",
    "\n",
    "\n",
    "Для твоего удобства, я буду выделять свои комментарии следующим образом:\n",
    "\n",
    "<div class=\"alert alert-danger\">\n",
    "<b>❌ Комментарий ревьюера v1:</b> Самые важные замечания. Они указывают на ключевые моменты, которые влияют на конечный результат проекта. </div>\n",
    "\n",
    "<div class=\"alert alert-warning\">\n",
    "<b>⚠️ Комментарий ревьюера v1:</b> Советы или замечания, которые помогут сделать твою работу лучше, но необязательны к выполнению.\n",
    "\n",
    "</div>\n",
    "\n",
    "<div class=\"alert alert-success\">\n",
    "<b>✔️ Комментарий ревьюера v1:</b> Так я выделяю все остальные комментарии.</div>\n",
    "\n",
    "\n",
    "Пометками <b>v1-v2-v3-...</b> я буду отмечать версию проверки. Так ты сможешь быстро найти мои новые комментарии.\n",
    "\n",
    "Давай работать над проектом в диалоге: если ты что-то меняешь в проекте по моим рекомендациям — пиши об этом. Выбери для своих комментариев какой-то заметный цвет, так мне будет легче отследить изменения, например вот так:\n",
    "    \n",
    "<div class=\"alert alert-info\">\n",
    "<b>Комментарий студента:</b>\n",
    "<br>\n",
    "</div>\n",
    "\n",
    "<b>Пожалуйста, не перемещай, не изменяй и не удаляй мои комментарии.</b> Если ты оставляешь свои комментарии, то делай это под моими, чтобы сообщения были расположены в хронологическом порядке. Всё это поможет выполнить повторную проверку твоего проекта быстрее. \n",
    "\n",
    "\n",
    "Перед отправкой работы я рекомендую нажимать Kernel -> Restart & Run All. Это перезапустит ядро и по очереди выполнит все ячейки. Так ты сможешь проверить, что всё работает корректно. Кнопка Kernel находится в панели сверху\n",
    "\n",
    "Обязательно задавай вопросы если они возникнут, а я перехожу к проверке)\n",
    "\n",
    "P.S. На всякий случай, я оставлю пустой шаблон для твоих комментариев ниже. Кликни два раза на мой комментарий, скопируй последние четыре строчки кода и вставляй их в пустую ячейку там, где ты хочешь оставить комментарий. Не забудь только перед этим сменить тип ячейки на Markdown. Быстро это можно сделать так: кликнуть на ячейку - нажать ESC - нажать M. \n",
    "    \n",
    "    \n",
    "<div class=\"alert alert-info\">\n",
    "<b>Комментарий студента:</b>\n",
    "<br>Место для твоего комментария\n",
    "</div>"
   ]
  },
  {
   "cell_type": "markdown",
   "id": "3e925cf5",
   "metadata": {},
   "source": [
    "# Исследование надежности заемщиков."
   ]
  },
  {
   "cell_type": "markdown",
   "id": "50b03685",
   "metadata": {},
   "source": [
    "<div class=\"alert alert-warning\">\n",
    "<b>⚠️ Комментарий ревьюера v1:</b> \n",
    "<br>Лучше оставляй перед проектом краткое описание задачи. Это поможет тебе быстро вспомнить о чем проект, если спустя время ты решишь к нему вернуться)\n",
    "</div>"
   ]
  },
  {
   "cell_type": "markdown",
   "id": "bfd6a5a0",
   "metadata": {},
   "source": [
    "Заказчик — кредитный отдел банка. Нужно разобраться, влияет ли семейное положение и количество детей клиента на факт погашения кредита в срок. Входные данные от банка — статистика о платёжеспособности клиентов.\n",
    "\n",
    "Результаты исследования будут учтены при построении модели кредитного скоринга — специальной системы, которая оценивает способность потенциального заёмщика вернуть кредит банку.\n",
    "\n",
    "Согласно документации к данным:\n",
    "* `children` — количество детей в семье\n",
    "* `days_employed` — общий трудовой стаж в днях\n",
    "* `dob_years` — возраст клиента в годах\n",
    "* `education` — уровень образования клиента\n",
    "* `education_id` — идентификатор уровня образования\n",
    "* `family_status` — семейное положение\n",
    "* `family_status_id` — идентификатор семейного положения\n",
    "* `gender` — пол клиента\n",
    "* `income_type` — тип занятости\n",
    "* `debt` — имел ли задолженность по возврату кредитов\n",
    "* `total_income` — ежемесячный доход\n",
    "* `purpose` — цель получения кредита"
   ]
  },
  {
   "cell_type": "markdown",
   "id": "8aac61bc",
   "metadata": {},
   "source": [
    "<div class=\"alert alert-info\">\n",
    "<b>Комментарий студента:</b>\n",
    "<br>Описание задачи добавлено.\n",
    "</div>"
   ]
  },
  {
   "cell_type": "markdown",
   "id": "072b1a3f",
   "metadata": {},
   "source": [
    "<div class=\"alert alert-success\">\n",
    "<b>✔️ Комментарий ревьюера v2:</b>\n",
    "<br>👍\n",
    "</div>"
   ]
  },
  {
   "cell_type": "markdown",
   "id": "c25ce714",
   "metadata": {},
   "source": [
    "## Обзор данных"
   ]
  },
  {
   "cell_type": "markdown",
   "id": "afbdecf2",
   "metadata": {},
   "source": [
    "Импорт библиотеки `pandas`:"
   ]
  },
  {
   "cell_type": "code",
   "execution_count": 1,
   "id": "384e8d1b",
   "metadata": {},
   "outputs": [],
   "source": [
    "import pandas as pd"
   ]
  },
  {
   "cell_type": "markdown",
   "id": "ee4e3cd9",
   "metadata": {},
   "source": [
    "Чтение файла `data.csv` из папки `/datasets` и сохранение его в переменной `data`:"
   ]
  },
  {
   "cell_type": "code",
   "execution_count": 2,
   "id": "5fa39fb4",
   "metadata": {
    "scrolled": true
   },
   "outputs": [],
   "source": [
    "data = pd.read_csv('/datasets/data.csv')"
   ]
  },
  {
   "cell_type": "markdown",
   "id": "28f75ee7",
   "metadata": {},
   "source": [
    "Вывод на экран первых десяти строк таблицы:"
   ]
  },
  {
   "cell_type": "code",
   "execution_count": 3,
   "id": "9f0962ce",
   "metadata": {},
   "outputs": [
    {
     "data": {
      "text/html": [
       "<div>\n",
       "<style scoped>\n",
       "    .dataframe tbody tr th:only-of-type {\n",
       "        vertical-align: middle;\n",
       "    }\n",
       "\n",
       "    .dataframe tbody tr th {\n",
       "        vertical-align: top;\n",
       "    }\n",
       "\n",
       "    .dataframe thead th {\n",
       "        text-align: right;\n",
       "    }\n",
       "</style>\n",
       "<table border=\"1\" class=\"dataframe\">\n",
       "  <thead>\n",
       "    <tr style=\"text-align: right;\">\n",
       "      <th></th>\n",
       "      <th>children</th>\n",
       "      <th>days_employed</th>\n",
       "      <th>dob_years</th>\n",
       "      <th>education</th>\n",
       "      <th>education_id</th>\n",
       "      <th>family_status</th>\n",
       "      <th>family_status_id</th>\n",
       "      <th>gender</th>\n",
       "      <th>income_type</th>\n",
       "      <th>debt</th>\n",
       "      <th>total_income</th>\n",
       "      <th>purpose</th>\n",
       "    </tr>\n",
       "  </thead>\n",
       "  <tbody>\n",
       "    <tr>\n",
       "      <th>0</th>\n",
       "      <td>1</td>\n",
       "      <td>-8437.673028</td>\n",
       "      <td>42</td>\n",
       "      <td>высшее</td>\n",
       "      <td>0</td>\n",
       "      <td>женат / замужем</td>\n",
       "      <td>0</td>\n",
       "      <td>F</td>\n",
       "      <td>сотрудник</td>\n",
       "      <td>0</td>\n",
       "      <td>253875.639453</td>\n",
       "      <td>покупка жилья</td>\n",
       "    </tr>\n",
       "    <tr>\n",
       "      <th>1</th>\n",
       "      <td>1</td>\n",
       "      <td>-4024.803754</td>\n",
       "      <td>36</td>\n",
       "      <td>среднее</td>\n",
       "      <td>1</td>\n",
       "      <td>женат / замужем</td>\n",
       "      <td>0</td>\n",
       "      <td>F</td>\n",
       "      <td>сотрудник</td>\n",
       "      <td>0</td>\n",
       "      <td>112080.014102</td>\n",
       "      <td>приобретение автомобиля</td>\n",
       "    </tr>\n",
       "    <tr>\n",
       "      <th>2</th>\n",
       "      <td>0</td>\n",
       "      <td>-5623.422610</td>\n",
       "      <td>33</td>\n",
       "      <td>Среднее</td>\n",
       "      <td>1</td>\n",
       "      <td>женат / замужем</td>\n",
       "      <td>0</td>\n",
       "      <td>M</td>\n",
       "      <td>сотрудник</td>\n",
       "      <td>0</td>\n",
       "      <td>145885.952297</td>\n",
       "      <td>покупка жилья</td>\n",
       "    </tr>\n",
       "    <tr>\n",
       "      <th>3</th>\n",
       "      <td>3</td>\n",
       "      <td>-4124.747207</td>\n",
       "      <td>32</td>\n",
       "      <td>среднее</td>\n",
       "      <td>1</td>\n",
       "      <td>женат / замужем</td>\n",
       "      <td>0</td>\n",
       "      <td>M</td>\n",
       "      <td>сотрудник</td>\n",
       "      <td>0</td>\n",
       "      <td>267628.550329</td>\n",
       "      <td>дополнительное образование</td>\n",
       "    </tr>\n",
       "    <tr>\n",
       "      <th>4</th>\n",
       "      <td>0</td>\n",
       "      <td>340266.072047</td>\n",
       "      <td>53</td>\n",
       "      <td>среднее</td>\n",
       "      <td>1</td>\n",
       "      <td>гражданский брак</td>\n",
       "      <td>1</td>\n",
       "      <td>F</td>\n",
       "      <td>пенсионер</td>\n",
       "      <td>0</td>\n",
       "      <td>158616.077870</td>\n",
       "      <td>сыграть свадьбу</td>\n",
       "    </tr>\n",
       "    <tr>\n",
       "      <th>5</th>\n",
       "      <td>0</td>\n",
       "      <td>-926.185831</td>\n",
       "      <td>27</td>\n",
       "      <td>высшее</td>\n",
       "      <td>0</td>\n",
       "      <td>гражданский брак</td>\n",
       "      <td>1</td>\n",
       "      <td>M</td>\n",
       "      <td>компаньон</td>\n",
       "      <td>0</td>\n",
       "      <td>255763.565419</td>\n",
       "      <td>покупка жилья</td>\n",
       "    </tr>\n",
       "    <tr>\n",
       "      <th>6</th>\n",
       "      <td>0</td>\n",
       "      <td>-2879.202052</td>\n",
       "      <td>43</td>\n",
       "      <td>высшее</td>\n",
       "      <td>0</td>\n",
       "      <td>женат / замужем</td>\n",
       "      <td>0</td>\n",
       "      <td>F</td>\n",
       "      <td>компаньон</td>\n",
       "      <td>0</td>\n",
       "      <td>240525.971920</td>\n",
       "      <td>операции с жильем</td>\n",
       "    </tr>\n",
       "    <tr>\n",
       "      <th>7</th>\n",
       "      <td>0</td>\n",
       "      <td>-152.779569</td>\n",
       "      <td>50</td>\n",
       "      <td>СРЕДНЕЕ</td>\n",
       "      <td>1</td>\n",
       "      <td>женат / замужем</td>\n",
       "      <td>0</td>\n",
       "      <td>M</td>\n",
       "      <td>сотрудник</td>\n",
       "      <td>0</td>\n",
       "      <td>135823.934197</td>\n",
       "      <td>образование</td>\n",
       "    </tr>\n",
       "    <tr>\n",
       "      <th>8</th>\n",
       "      <td>2</td>\n",
       "      <td>-6929.865299</td>\n",
       "      <td>35</td>\n",
       "      <td>ВЫСШЕЕ</td>\n",
       "      <td>0</td>\n",
       "      <td>гражданский брак</td>\n",
       "      <td>1</td>\n",
       "      <td>F</td>\n",
       "      <td>сотрудник</td>\n",
       "      <td>0</td>\n",
       "      <td>95856.832424</td>\n",
       "      <td>на проведение свадьбы</td>\n",
       "    </tr>\n",
       "    <tr>\n",
       "      <th>9</th>\n",
       "      <td>0</td>\n",
       "      <td>-2188.756445</td>\n",
       "      <td>41</td>\n",
       "      <td>среднее</td>\n",
       "      <td>1</td>\n",
       "      <td>женат / замужем</td>\n",
       "      <td>0</td>\n",
       "      <td>M</td>\n",
       "      <td>сотрудник</td>\n",
       "      <td>0</td>\n",
       "      <td>144425.938277</td>\n",
       "      <td>покупка жилья для семьи</td>\n",
       "    </tr>\n",
       "  </tbody>\n",
       "</table>\n",
       "</div>"
      ],
      "text/plain": [
       "   children  days_employed  dob_years education  education_id  \\\n",
       "0         1   -8437.673028         42    высшее             0   \n",
       "1         1   -4024.803754         36   среднее             1   \n",
       "2         0   -5623.422610         33   Среднее             1   \n",
       "3         3   -4124.747207         32   среднее             1   \n",
       "4         0  340266.072047         53   среднее             1   \n",
       "5         0    -926.185831         27    высшее             0   \n",
       "6         0   -2879.202052         43    высшее             0   \n",
       "7         0    -152.779569         50   СРЕДНЕЕ             1   \n",
       "8         2   -6929.865299         35    ВЫСШЕЕ             0   \n",
       "9         0   -2188.756445         41   среднее             1   \n",
       "\n",
       "      family_status  family_status_id gender income_type  debt   total_income  \\\n",
       "0   женат / замужем                 0      F   сотрудник     0  253875.639453   \n",
       "1   женат / замужем                 0      F   сотрудник     0  112080.014102   \n",
       "2   женат / замужем                 0      M   сотрудник     0  145885.952297   \n",
       "3   женат / замужем                 0      M   сотрудник     0  267628.550329   \n",
       "4  гражданский брак                 1      F   пенсионер     0  158616.077870   \n",
       "5  гражданский брак                 1      M   компаньон     0  255763.565419   \n",
       "6   женат / замужем                 0      F   компаньон     0  240525.971920   \n",
       "7   женат / замужем                 0      M   сотрудник     0  135823.934197   \n",
       "8  гражданский брак                 1      F   сотрудник     0   95856.832424   \n",
       "9   женат / замужем                 0      M   сотрудник     0  144425.938277   \n",
       "\n",
       "                      purpose  \n",
       "0               покупка жилья  \n",
       "1     приобретение автомобиля  \n",
       "2               покупка жилья  \n",
       "3  дополнительное образование  \n",
       "4             сыграть свадьбу  \n",
       "5               покупка жилья  \n",
       "6           операции с жильем  \n",
       "7                 образование  \n",
       "8       на проведение свадьбы  \n",
       "9     покупка жилья для семьи  "
      ]
     },
     "metadata": {},
     "output_type": "display_data"
    }
   ],
   "source": [
    "display(data.head(10))"
   ]
  },
  {
   "cell_type": "markdown",
   "id": "2a92d387",
   "metadata": {},
   "source": [
    "Проверим некоторые столбцы на уникальные значения."
   ]
  },
  {
   "cell_type": "code",
   "execution_count": 4,
   "id": "0aa1027d",
   "metadata": {},
   "outputs": [
    {
     "data": {
      "text/plain": [
       "array([ 1,  0,  3,  2, -1,  4, 20,  5])"
      ]
     },
     "execution_count": 4,
     "metadata": {},
     "output_type": "execute_result"
    }
   ],
   "source": [
    "data['children'].unique()"
   ]
  },
  {
   "cell_type": "code",
   "execution_count": 5,
   "id": "72994421",
   "metadata": {},
   "outputs": [
    {
     "data": {
      "text/plain": [
       "array(['высшее', 'среднее', 'Среднее', 'СРЕДНЕЕ', 'ВЫСШЕЕ',\n",
       "       'неоконченное высшее', 'начальное', 'Высшее',\n",
       "       'НЕОКОНЧЕННОЕ ВЫСШЕЕ', 'Неоконченное высшее', 'НАЧАЛЬНОЕ',\n",
       "       'Начальное', 'Ученая степень', 'УЧЕНАЯ СТЕПЕНЬ', 'ученая степень'],\n",
       "      dtype=object)"
      ]
     },
     "execution_count": 5,
     "metadata": {},
     "output_type": "execute_result"
    }
   ],
   "source": [
    "data['education'].unique()"
   ]
  },
  {
   "cell_type": "code",
   "execution_count": 6,
   "id": "99777fe3",
   "metadata": {},
   "outputs": [
    {
     "data": {
      "text/plain": [
       "array(['женат / замужем', 'гражданский брак', 'вдовец / вдова',\n",
       "       'в разводе', 'Не женат / не замужем'], dtype=object)"
      ]
     },
     "execution_count": 6,
     "metadata": {},
     "output_type": "execute_result"
    }
   ],
   "source": [
    "data['family_status'].unique()"
   ]
  },
  {
   "cell_type": "markdown",
   "id": "f154abb1",
   "metadata": {},
   "source": [
    "Получение общей информации о данных в таблице `data`:"
   ]
  },
  {
   "cell_type": "code",
   "execution_count": 7,
   "id": "f760fbfe",
   "metadata": {},
   "outputs": [
    {
     "name": "stdout",
     "output_type": "stream",
     "text": [
      "<class 'pandas.core.frame.DataFrame'>\n",
      "RangeIndex: 21525 entries, 0 to 21524\n",
      "Data columns (total 12 columns):\n",
      " #   Column            Non-Null Count  Dtype  \n",
      "---  ------            --------------  -----  \n",
      " 0   children          21525 non-null  int64  \n",
      " 1   days_employed     19351 non-null  float64\n",
      " 2   dob_years         21525 non-null  int64  \n",
      " 3   education         21525 non-null  object \n",
      " 4   education_id      21525 non-null  int64  \n",
      " 5   family_status     21525 non-null  object \n",
      " 6   family_status_id  21525 non-null  int64  \n",
      " 7   gender            21525 non-null  object \n",
      " 8   income_type       21525 non-null  object \n",
      " 9   debt              21525 non-null  int64  \n",
      " 10  total_income      19351 non-null  float64\n",
      " 11  purpose           21525 non-null  object \n",
      "dtypes: float64(2), int64(5), object(5)\n",
      "memory usage: 2.0+ MB\n"
     ]
    }
   ],
   "source": [
    "data.info()"
   ]
  },
  {
   "cell_type": "markdown",
   "id": "da98785d",
   "metadata": {},
   "source": [
    "Найдем с помощью метода `describe()` разброс значений, максимум, минимум, среднее и медиану для всех столбцов датафрейма с количественными значениями. "
   ]
  },
  {
   "cell_type": "code",
   "execution_count": 8,
   "id": "fae3f247",
   "metadata": {
    "scrolled": true
   },
   "outputs": [
    {
     "data": {
      "text/html": [
       "<div>\n",
       "<style scoped>\n",
       "    .dataframe tbody tr th:only-of-type {\n",
       "        vertical-align: middle;\n",
       "    }\n",
       "\n",
       "    .dataframe tbody tr th {\n",
       "        vertical-align: top;\n",
       "    }\n",
       "\n",
       "    .dataframe thead th {\n",
       "        text-align: right;\n",
       "    }\n",
       "</style>\n",
       "<table border=\"1\" class=\"dataframe\">\n",
       "  <thead>\n",
       "    <tr style=\"text-align: right;\">\n",
       "      <th></th>\n",
       "      <th>children</th>\n",
       "      <th>days_employed</th>\n",
       "      <th>dob_years</th>\n",
       "      <th>education_id</th>\n",
       "      <th>family_status_id</th>\n",
       "      <th>debt</th>\n",
       "      <th>total_income</th>\n",
       "    </tr>\n",
       "  </thead>\n",
       "  <tbody>\n",
       "    <tr>\n",
       "      <th>count</th>\n",
       "      <td>21525.000000</td>\n",
       "      <td>19351.000000</td>\n",
       "      <td>21525.000000</td>\n",
       "      <td>21525.000000</td>\n",
       "      <td>21525.000000</td>\n",
       "      <td>21525.000000</td>\n",
       "      <td>1.935100e+04</td>\n",
       "    </tr>\n",
       "    <tr>\n",
       "      <th>mean</th>\n",
       "      <td>0.538908</td>\n",
       "      <td>63046.497661</td>\n",
       "      <td>43.293380</td>\n",
       "      <td>0.817236</td>\n",
       "      <td>0.972544</td>\n",
       "      <td>0.080883</td>\n",
       "      <td>1.674223e+05</td>\n",
       "    </tr>\n",
       "    <tr>\n",
       "      <th>std</th>\n",
       "      <td>1.381587</td>\n",
       "      <td>140827.311974</td>\n",
       "      <td>12.574584</td>\n",
       "      <td>0.548138</td>\n",
       "      <td>1.420324</td>\n",
       "      <td>0.272661</td>\n",
       "      <td>1.029716e+05</td>\n",
       "    </tr>\n",
       "    <tr>\n",
       "      <th>min</th>\n",
       "      <td>-1.000000</td>\n",
       "      <td>-18388.949901</td>\n",
       "      <td>0.000000</td>\n",
       "      <td>0.000000</td>\n",
       "      <td>0.000000</td>\n",
       "      <td>0.000000</td>\n",
       "      <td>2.066726e+04</td>\n",
       "    </tr>\n",
       "    <tr>\n",
       "      <th>25%</th>\n",
       "      <td>0.000000</td>\n",
       "      <td>-2747.423625</td>\n",
       "      <td>33.000000</td>\n",
       "      <td>1.000000</td>\n",
       "      <td>0.000000</td>\n",
       "      <td>0.000000</td>\n",
       "      <td>1.030532e+05</td>\n",
       "    </tr>\n",
       "    <tr>\n",
       "      <th>50%</th>\n",
       "      <td>0.000000</td>\n",
       "      <td>-1203.369529</td>\n",
       "      <td>42.000000</td>\n",
       "      <td>1.000000</td>\n",
       "      <td>0.000000</td>\n",
       "      <td>0.000000</td>\n",
       "      <td>1.450179e+05</td>\n",
       "    </tr>\n",
       "    <tr>\n",
       "      <th>75%</th>\n",
       "      <td>1.000000</td>\n",
       "      <td>-291.095954</td>\n",
       "      <td>53.000000</td>\n",
       "      <td>1.000000</td>\n",
       "      <td>1.000000</td>\n",
       "      <td>0.000000</td>\n",
       "      <td>2.034351e+05</td>\n",
       "    </tr>\n",
       "    <tr>\n",
       "      <th>max</th>\n",
       "      <td>20.000000</td>\n",
       "      <td>401755.400475</td>\n",
       "      <td>75.000000</td>\n",
       "      <td>4.000000</td>\n",
       "      <td>4.000000</td>\n",
       "      <td>1.000000</td>\n",
       "      <td>2.265604e+06</td>\n",
       "    </tr>\n",
       "  </tbody>\n",
       "</table>\n",
       "</div>"
      ],
      "text/plain": [
       "           children  days_employed     dob_years  education_id  \\\n",
       "count  21525.000000   19351.000000  21525.000000  21525.000000   \n",
       "mean       0.538908   63046.497661     43.293380      0.817236   \n",
       "std        1.381587  140827.311974     12.574584      0.548138   \n",
       "min       -1.000000  -18388.949901      0.000000      0.000000   \n",
       "25%        0.000000   -2747.423625     33.000000      1.000000   \n",
       "50%        0.000000   -1203.369529     42.000000      1.000000   \n",
       "75%        1.000000    -291.095954     53.000000      1.000000   \n",
       "max       20.000000  401755.400475     75.000000      4.000000   \n",
       "\n",
       "       family_status_id          debt  total_income  \n",
       "count      21525.000000  21525.000000  1.935100e+04  \n",
       "mean           0.972544      0.080883  1.674223e+05  \n",
       "std            1.420324      0.272661  1.029716e+05  \n",
       "min            0.000000      0.000000  2.066726e+04  \n",
       "25%            0.000000      0.000000  1.030532e+05  \n",
       "50%            0.000000      0.000000  1.450179e+05  \n",
       "75%            1.000000      0.000000  2.034351e+05  \n",
       "max            4.000000      1.000000  2.265604e+06  "
      ]
     },
     "execution_count": 8,
     "metadata": {},
     "output_type": "execute_result"
    }
   ],
   "source": [
    "data.describe()"
   ]
  },
  {
   "cell_type": "markdown",
   "id": "72abcbed",
   "metadata": {},
   "source": [
    "* В столбце `children` медиана равна 0, минимальное количество детей -1, что говорит о наличии аномалий в данных. Стандартное отклонение 1,38 - скорее всего, данные весьма неоднородны, возможно, в данных есть выбросы. \n",
    "* В столбце `days_employed` медиана принимает отрицательные значения, в то время как среднее - положительное. Очевидно наличие аномалий в данных. Стандартное отклонение весьма велико и составляет 140827.311974, в то время как среднее всего 63046.497661.\n",
    "* В столбце `dob_years` медиана и среднее принимают близкие значения, стандартное отклонение составляет 12.57, т.е. данные неоднородны."
   ]
  },
  {
   "cell_type": "markdown",
   "id": "745aa61a",
   "metadata": {},
   "source": [
    "В таблице одиннадцать столбцов. Тип данных: `float` - в 2-ух столбцах,  `int` - в 5-и столбцах, `object` - в 5-и столбцах.\n",
    "\n",
    "Итак, видно, что:\n",
    "* в столбце `days_employed` имеются аномалии, а именно, отрицательные значения общего трудового стажа;\n",
    "* в значениях столбцов `education` и `family_status` используются разные регистры, что говорит о наличии неявных дубликатов.\n",
    "* количество значений в столбцах различается. Значит, в данных есть пропущенные значения. "
   ]
  },
  {
   "cell_type": "markdown",
   "id": "d169cb78",
   "metadata": {},
   "source": [
    "<div class=\"alert alert-success\">\n",
    "<b>✔️ Комментарий ревьюера v1:</b> \n",
    "<br>Целью первичного анализа данных является выявление проблем с данными, с которыми нужно будет поработать. Чем больше всего мы найдём в этом шаге, тем лучше сможем построить дальнейший план работы и понять с чем нам стоит работать, а на что можно закрыть глаза. Старайся указывать как можно больше проблем в данных, которые ты найдешь (пропуски, дубликаты, неверный тип данных, странные значения и т.д.)\n",
    "<br>Также во время первичного анализа данных, может помочь метод describe(). Он покажет разброс значений, максимум, минимум, среднее и медиану. \n",
    "</div>"
   ]
  },
  {
   "cell_type": "markdown",
   "id": "9dd75ee0",
   "metadata": {},
   "source": [
    "<div class=\"alert alert-info\">\n",
    "<b>Комментарий студента:</b>\n",
    "<br>Добавила анализ уникальных значений в столбцах children, education, family_status, а также общий вывод по пункту 1 с указанием основных проблем в данных. Также поэкспериментировала с методом describe().\n",
    "</div>"
   ]
  },
  {
   "cell_type": "markdown",
   "id": "5d904d40",
   "metadata": {},
   "source": [
    "<div class=\"alert alert-success\">\n",
    "<b>✔️ Комментарий ревьюера v2:</b>\n",
    "<br>Отлично)\n",
    "</div>"
   ]
  },
  {
   "cell_type": "markdown",
   "id": "ef09c9b9",
   "metadata": {},
   "source": [
    "## Предобработка данных"
   ]
  },
  {
   "cell_type": "markdown",
   "id": "d1312ce8",
   "metadata": {},
   "source": [
    "### Заполнение пропусков"
   ]
  },
  {
   "cell_type": "markdown",
   "id": "e8b1171f",
   "metadata": {},
   "source": [
    "В двух столбцах есть пропущенные значения. Один из них — `days_employed`. Пропуски в этом столбце вы обработаете на следующем этапе. Найдите другой столбец и заполните пропущенные значения в нём медианным значением по столбцу:\n",
    "* опишите, какие пропущенные значения вы обнаружили;\n",
    "* проверьте, какую долю составляют пропущенные значения в каждом из столбцов с пропусками;\n",
    "* приведите возможные причины появления пропусков в данных;\n",
    "* объясните, почему заполнить пропуски медианным значением — лучшее решение для количественных переменных."
   ]
  },
  {
   "cell_type": "markdown",
   "id": "08909560",
   "metadata": {},
   "source": [
    "Подсчёт пропущенных значений в таблице с помощью метода `.isna()` из библиотеки `pandas`:"
   ]
  },
  {
   "cell_type": "code",
   "execution_count": 9,
   "id": "4b0c16db",
   "metadata": {},
   "outputs": [
    {
     "data": {
      "text/plain": [
       "children               0\n",
       "days_employed       2174\n",
       "dob_years              0\n",
       "education              0\n",
       "education_id           0\n",
       "family_status          0\n",
       "family_status_id       0\n",
       "gender                 0\n",
       "income_type            0\n",
       "debt                   0\n",
       "total_income        2174\n",
       "purpose                0\n",
       "dtype: int64"
      ]
     },
     "execution_count": 9,
     "metadata": {},
     "output_type": "execute_result"
    }
   ],
   "source": [
    "data.isna().sum()"
   ]
  },
  {
   "cell_type": "markdown",
   "id": "02743bf4",
   "metadata": {},
   "source": [
    "В двух столбцах есть пропущенные значения:\n",
    "* столбец `days_employed`, пропуски в котором будут обработаны на следующем этапе;\n",
    "* столбец  `total_income`, пропуски в нем будут заполнены медианным значением по столбцу."
   ]
  },
  {
   "cell_type": "markdown",
   "id": "7b3dda1e",
   "metadata": {},
   "source": [
    "Ежемесячный доход и общий трудовой стаж в днях пропущены в 2174 случаях. Это 10% от всех значений датафрейма `data`, в котором 21 525 строк.\n",
    "С помощью метода `isna()` найдём все строки с пропусками в столбце `total_income` и просмотрим первые пять."
   ]
  },
  {
   "cell_type": "code",
   "execution_count": 10,
   "id": "31f27ab4",
   "metadata": {},
   "outputs": [
    {
     "data": {
      "text/html": [
       "<div>\n",
       "<style scoped>\n",
       "    .dataframe tbody tr th:only-of-type {\n",
       "        vertical-align: middle;\n",
       "    }\n",
       "\n",
       "    .dataframe tbody tr th {\n",
       "        vertical-align: top;\n",
       "    }\n",
       "\n",
       "    .dataframe thead th {\n",
       "        text-align: right;\n",
       "    }\n",
       "</style>\n",
       "<table border=\"1\" class=\"dataframe\">\n",
       "  <thead>\n",
       "    <tr style=\"text-align: right;\">\n",
       "      <th></th>\n",
       "      <th>children</th>\n",
       "      <th>days_employed</th>\n",
       "      <th>dob_years</th>\n",
       "      <th>education</th>\n",
       "      <th>education_id</th>\n",
       "      <th>family_status</th>\n",
       "      <th>family_status_id</th>\n",
       "      <th>gender</th>\n",
       "      <th>income_type</th>\n",
       "      <th>debt</th>\n",
       "      <th>total_income</th>\n",
       "      <th>purpose</th>\n",
       "    </tr>\n",
       "  </thead>\n",
       "  <tbody>\n",
       "    <tr>\n",
       "      <th>12</th>\n",
       "      <td>0</td>\n",
       "      <td>NaN</td>\n",
       "      <td>65</td>\n",
       "      <td>среднее</td>\n",
       "      <td>1</td>\n",
       "      <td>гражданский брак</td>\n",
       "      <td>1</td>\n",
       "      <td>M</td>\n",
       "      <td>пенсионер</td>\n",
       "      <td>0</td>\n",
       "      <td>NaN</td>\n",
       "      <td>сыграть свадьбу</td>\n",
       "    </tr>\n",
       "    <tr>\n",
       "      <th>26</th>\n",
       "      <td>0</td>\n",
       "      <td>NaN</td>\n",
       "      <td>41</td>\n",
       "      <td>среднее</td>\n",
       "      <td>1</td>\n",
       "      <td>женат / замужем</td>\n",
       "      <td>0</td>\n",
       "      <td>M</td>\n",
       "      <td>госслужащий</td>\n",
       "      <td>0</td>\n",
       "      <td>NaN</td>\n",
       "      <td>образование</td>\n",
       "    </tr>\n",
       "    <tr>\n",
       "      <th>29</th>\n",
       "      <td>0</td>\n",
       "      <td>NaN</td>\n",
       "      <td>63</td>\n",
       "      <td>среднее</td>\n",
       "      <td>1</td>\n",
       "      <td>Не женат / не замужем</td>\n",
       "      <td>4</td>\n",
       "      <td>F</td>\n",
       "      <td>пенсионер</td>\n",
       "      <td>0</td>\n",
       "      <td>NaN</td>\n",
       "      <td>строительство жилой недвижимости</td>\n",
       "    </tr>\n",
       "    <tr>\n",
       "      <th>41</th>\n",
       "      <td>0</td>\n",
       "      <td>NaN</td>\n",
       "      <td>50</td>\n",
       "      <td>среднее</td>\n",
       "      <td>1</td>\n",
       "      <td>женат / замужем</td>\n",
       "      <td>0</td>\n",
       "      <td>F</td>\n",
       "      <td>госслужащий</td>\n",
       "      <td>0</td>\n",
       "      <td>NaN</td>\n",
       "      <td>сделка с подержанным автомобилем</td>\n",
       "    </tr>\n",
       "    <tr>\n",
       "      <th>55</th>\n",
       "      <td>0</td>\n",
       "      <td>NaN</td>\n",
       "      <td>54</td>\n",
       "      <td>среднее</td>\n",
       "      <td>1</td>\n",
       "      <td>гражданский брак</td>\n",
       "      <td>1</td>\n",
       "      <td>F</td>\n",
       "      <td>пенсионер</td>\n",
       "      <td>1</td>\n",
       "      <td>NaN</td>\n",
       "      <td>сыграть свадьбу</td>\n",
       "    </tr>\n",
       "  </tbody>\n",
       "</table>\n",
       "</div>"
      ],
      "text/plain": [
       "    children  days_employed  dob_years education  education_id  \\\n",
       "12         0            NaN         65   среднее             1   \n",
       "26         0            NaN         41   среднее             1   \n",
       "29         0            NaN         63   среднее             1   \n",
       "41         0            NaN         50   среднее             1   \n",
       "55         0            NaN         54   среднее             1   \n",
       "\n",
       "            family_status  family_status_id gender  income_type  debt  \\\n",
       "12       гражданский брак                 1      M    пенсионер     0   \n",
       "26        женат / замужем                 0      M  госслужащий     0   \n",
       "29  Не женат / не замужем                 4      F    пенсионер     0   \n",
       "41        женат / замужем                 0      F  госслужащий     0   \n",
       "55       гражданский брак                 1      F    пенсионер     1   \n",
       "\n",
       "    total_income                           purpose  \n",
       "12           NaN                   сыграть свадьбу  \n",
       "26           NaN                       образование  \n",
       "29           NaN  строительство жилой недвижимости  \n",
       "41           NaN  сделка с подержанным автомобилем  \n",
       "55           NaN                   сыграть свадьбу  "
      ]
     },
     "metadata": {},
     "output_type": "display_data"
    }
   ],
   "source": [
    "display(data[data['total_income'].isna()].head()) "
   ]
  },
  {
   "cell_type": "markdown",
   "id": "b2d3ad65",
   "metadata": {},
   "source": [
    "Чтобы сосчитать строки без ежемесячного дохода, также можно воспользоваться функцией `len()`."
   ]
  },
  {
   "cell_type": "code",
   "execution_count": 11,
   "id": "f7e68659",
   "metadata": {
    "scrolled": true
   },
   "outputs": [
    {
     "data": {
      "text/plain": [
       "2174"
      ]
     },
     "execution_count": 11,
     "metadata": {},
     "output_type": "execute_result"
    }
   ],
   "source": [
    "len(data[data['total_income'].isna()])"
   ]
  },
  {
   "cell_type": "markdown",
   "id": "2f6a77e4",
   "metadata": {},
   "source": [
    "В столбце `total_income` имеются значения `NaN`, относящиеся к типу `float`. \n",
    "\n",
    "Пропуски могут быть вызваны тем, что клиентами не были предоставлены документы о работе либо данные не были внесены в таблицу. \n",
    "\n",
    "Пропуски нельзя оставлять без внимания: группировка данных с `NaN` может привести к некорректным результатам анализа. Переменные в столбце `total_income` являются количественными, поэтому пропуски необходимо заполнить характерными значениями. Среднее значение некорректно характеризует данные, когда некоторые значения сильно выделяются среди большинства. Этого недостатка лишена медиана, поэтому в качестве характерного значения выберем ее.\n",
    "\n",
    "Медианное значение ежемесячного дохода найдем с помощью метода `median`, в зависимости от типа занятости, для чего используем функцию `transform()`. Заменим пропущенные значения в столбце `total_income` на медианное значение с помощью метода `fillna()`. Проверим успешность замены с помощью функции `len`:"
   ]
  },
  {
   "cell_type": "code",
   "execution_count": 12,
   "id": "41c67f11",
   "metadata": {},
   "outputs": [
    {
     "data": {
      "text/plain": [
       "0"
      ]
     },
     "execution_count": 12,
     "metadata": {},
     "output_type": "execute_result"
    }
   ],
   "source": [
    "data['total_income'] = data['total_income'].fillna(data.groupby('income_type')['total_income'].transform(\"median\"))\n",
    "len(data[data['total_income'].isna()])"
   ]
  },
  {
   "cell_type": "markdown",
   "id": "cdd29fa6",
   "metadata": {},
   "source": [
    "<div class=\"alert alert-success\">\n",
    "<b>✔️ Комментарий ревьюера v1:</b> \n",
    "<br>Всё верно! Также здесь можно заполнить пропуски более оптимальным способом - медианой, в зависимости от типа занятости. Для этого отлично подойдёт функция transform:\n",
    "\n",
    "    df['total_income'] = df['total_income'].fillna(df.groupby('income_type')['total_income'].transform(\"median\"))\n",
    "\n",
    "<br>Она создаёт новый столбец, который содержит столько же строк, сколько и изначальный, но только вместо оригинальных значений в каждой строке содержится медиана посчитанная по заданной группе. После этого вместо пропусков в оригинальном столбце мы подставляем значения из созданного столбца, то есть медианы в зависимости от группы.\n",
    "</div>"
   ]
  },
  {
   "cell_type": "markdown",
   "id": "74569473",
   "metadata": {},
   "source": [
    "<div class=\"alert alert-info\">\n",
    "<b>Комментарий студента:</b>\n",
    "<br>Опробовала функцию transform() для замены пропусков медианным значением для группировки по типу занятости :-)\n",
    "</div>"
   ]
  },
  {
   "cell_type": "markdown",
   "id": "79f81582",
   "metadata": {},
   "source": [
    "<div class=\"alert alert-success\">\n",
    "<b>✔️ Комментарий ревьюера v2:</b>\n",
    "<br>Подробнее можно почитать здесь\n",
    "    \n",
    "    https://dfedorov.spb.ru/pandas/Понимание%20функции%20transform%20в%20Pandas.html\n",
    "</div>"
   ]
  },
  {
   "cell_type": "markdown",
   "id": "f22ced83",
   "metadata": {},
   "source": [
    "### Проверка данных на аномалии и исправления."
   ]
  },
  {
   "cell_type": "markdown",
   "id": "f4a72e9d",
   "metadata": {},
   "source": [
    "В данных могут встречаться артефакты (аномалии) — значения, которые не отражают действительность и появились по какой-то ошибке. Например, отрицательное количество дней трудового стажа в столбце `days_employed`. Для реальных данных это нормально. Обработайте значения в столбцах с аномалиями и опишите возможные причины появления таких данных. После обработки аномалий заполните пропуски в `days_employed` медианными значениями по этому столбцу.\n",
    "\n",
    "Отсортируем датафрейм `data` по столбцу `days_employed` в порядке убывания и выведем на экран первые десять строк."
   ]
  },
  {
   "cell_type": "code",
   "execution_count": 13,
   "id": "cb482c32",
   "metadata": {},
   "outputs": [
    {
     "data": {
      "text/html": [
       "<div>\n",
       "<style scoped>\n",
       "    .dataframe tbody tr th:only-of-type {\n",
       "        vertical-align: middle;\n",
       "    }\n",
       "\n",
       "    .dataframe tbody tr th {\n",
       "        vertical-align: top;\n",
       "    }\n",
       "\n",
       "    .dataframe thead th {\n",
       "        text-align: right;\n",
       "    }\n",
       "</style>\n",
       "<table border=\"1\" class=\"dataframe\">\n",
       "  <thead>\n",
       "    <tr style=\"text-align: right;\">\n",
       "      <th></th>\n",
       "      <th>children</th>\n",
       "      <th>days_employed</th>\n",
       "      <th>dob_years</th>\n",
       "      <th>education</th>\n",
       "      <th>education_id</th>\n",
       "      <th>family_status</th>\n",
       "      <th>family_status_id</th>\n",
       "      <th>gender</th>\n",
       "      <th>income_type</th>\n",
       "      <th>debt</th>\n",
       "      <th>total_income</th>\n",
       "      <th>purpose</th>\n",
       "    </tr>\n",
       "  </thead>\n",
       "  <tbody>\n",
       "    <tr>\n",
       "      <th>16335</th>\n",
       "      <td>1</td>\n",
       "      <td>-18388.949901</td>\n",
       "      <td>61</td>\n",
       "      <td>среднее</td>\n",
       "      <td>1</td>\n",
       "      <td>женат / замужем</td>\n",
       "      <td>0</td>\n",
       "      <td>F</td>\n",
       "      <td>сотрудник</td>\n",
       "      <td>0</td>\n",
       "      <td>186178.934089</td>\n",
       "      <td>операции с недвижимостью</td>\n",
       "    </tr>\n",
       "    <tr>\n",
       "      <th>4299</th>\n",
       "      <td>0</td>\n",
       "      <td>-17615.563266</td>\n",
       "      <td>61</td>\n",
       "      <td>среднее</td>\n",
       "      <td>1</td>\n",
       "      <td>женат / замужем</td>\n",
       "      <td>0</td>\n",
       "      <td>F</td>\n",
       "      <td>компаньон</td>\n",
       "      <td>0</td>\n",
       "      <td>122560.741753</td>\n",
       "      <td>покупка жилья</td>\n",
       "    </tr>\n",
       "    <tr>\n",
       "      <th>7329</th>\n",
       "      <td>0</td>\n",
       "      <td>-16593.472817</td>\n",
       "      <td>60</td>\n",
       "      <td>высшее</td>\n",
       "      <td>0</td>\n",
       "      <td>женат / замужем</td>\n",
       "      <td>0</td>\n",
       "      <td>F</td>\n",
       "      <td>сотрудник</td>\n",
       "      <td>0</td>\n",
       "      <td>124697.846781</td>\n",
       "      <td>заняться высшим образованием</td>\n",
       "    </tr>\n",
       "    <tr>\n",
       "      <th>17838</th>\n",
       "      <td>0</td>\n",
       "      <td>-16264.699501</td>\n",
       "      <td>59</td>\n",
       "      <td>среднее</td>\n",
       "      <td>1</td>\n",
       "      <td>женат / замужем</td>\n",
       "      <td>0</td>\n",
       "      <td>F</td>\n",
       "      <td>сотрудник</td>\n",
       "      <td>0</td>\n",
       "      <td>51238.967133</td>\n",
       "      <td>на покупку автомобиля</td>\n",
       "    </tr>\n",
       "    <tr>\n",
       "      <th>16825</th>\n",
       "      <td>0</td>\n",
       "      <td>-16119.687737</td>\n",
       "      <td>64</td>\n",
       "      <td>среднее</td>\n",
       "      <td>1</td>\n",
       "      <td>женат / замужем</td>\n",
       "      <td>0</td>\n",
       "      <td>F</td>\n",
       "      <td>сотрудник</td>\n",
       "      <td>0</td>\n",
       "      <td>91527.685995</td>\n",
       "      <td>покупка жилой недвижимости</td>\n",
       "    </tr>\n",
       "    <tr>\n",
       "      <th>3974</th>\n",
       "      <td>0</td>\n",
       "      <td>-15835.725775</td>\n",
       "      <td>64</td>\n",
       "      <td>среднее</td>\n",
       "      <td>1</td>\n",
       "      <td>гражданский брак</td>\n",
       "      <td>1</td>\n",
       "      <td>F</td>\n",
       "      <td>компаньон</td>\n",
       "      <td>0</td>\n",
       "      <td>96858.531436</td>\n",
       "      <td>сыграть свадьбу</td>\n",
       "    </tr>\n",
       "    <tr>\n",
       "      <th>1539</th>\n",
       "      <td>0</td>\n",
       "      <td>-15785.678893</td>\n",
       "      <td>59</td>\n",
       "      <td>высшее</td>\n",
       "      <td>0</td>\n",
       "      <td>Не женат / не замужем</td>\n",
       "      <td>4</td>\n",
       "      <td>F</td>\n",
       "      <td>сотрудник</td>\n",
       "      <td>0</td>\n",
       "      <td>119563.851852</td>\n",
       "      <td>операции с коммерческой недвижимостью</td>\n",
       "    </tr>\n",
       "    <tr>\n",
       "      <th>4321</th>\n",
       "      <td>0</td>\n",
       "      <td>-15773.061335</td>\n",
       "      <td>61</td>\n",
       "      <td>среднее</td>\n",
       "      <td>1</td>\n",
       "      <td>гражданский брак</td>\n",
       "      <td>1</td>\n",
       "      <td>F</td>\n",
       "      <td>сотрудник</td>\n",
       "      <td>0</td>\n",
       "      <td>205868.585780</td>\n",
       "      <td>свадьба</td>\n",
       "    </tr>\n",
       "    <tr>\n",
       "      <th>7731</th>\n",
       "      <td>0</td>\n",
       "      <td>-15618.063786</td>\n",
       "      <td>64</td>\n",
       "      <td>среднее</td>\n",
       "      <td>1</td>\n",
       "      <td>женат / замужем</td>\n",
       "      <td>0</td>\n",
       "      <td>F</td>\n",
       "      <td>компаньон</td>\n",
       "      <td>0</td>\n",
       "      <td>296525.358574</td>\n",
       "      <td>высшее образование</td>\n",
       "    </tr>\n",
       "    <tr>\n",
       "      <th>15675</th>\n",
       "      <td>0</td>\n",
       "      <td>-15410.040779</td>\n",
       "      <td>65</td>\n",
       "      <td>высшее</td>\n",
       "      <td>0</td>\n",
       "      <td>женат / замужем</td>\n",
       "      <td>0</td>\n",
       "      <td>F</td>\n",
       "      <td>сотрудник</td>\n",
       "      <td>0</td>\n",
       "      <td>188800.068859</td>\n",
       "      <td>покупка жилой недвижимости</td>\n",
       "    </tr>\n",
       "  </tbody>\n",
       "</table>\n",
       "</div>"
      ],
      "text/plain": [
       "       children  days_employed  dob_years education  education_id  \\\n",
       "16335         1  -18388.949901         61   среднее             1   \n",
       "4299          0  -17615.563266         61   среднее             1   \n",
       "7329          0  -16593.472817         60    высшее             0   \n",
       "17838         0  -16264.699501         59   среднее             1   \n",
       "16825         0  -16119.687737         64   среднее             1   \n",
       "3974          0  -15835.725775         64   среднее             1   \n",
       "1539          0  -15785.678893         59    высшее             0   \n",
       "4321          0  -15773.061335         61   среднее             1   \n",
       "7731          0  -15618.063786         64   среднее             1   \n",
       "15675         0  -15410.040779         65    высшее             0   \n",
       "\n",
       "               family_status  family_status_id gender income_type  debt  \\\n",
       "16335        женат / замужем                 0      F   сотрудник     0   \n",
       "4299         женат / замужем                 0      F   компаньон     0   \n",
       "7329         женат / замужем                 0      F   сотрудник     0   \n",
       "17838        женат / замужем                 0      F   сотрудник     0   \n",
       "16825        женат / замужем                 0      F   сотрудник     0   \n",
       "3974        гражданский брак                 1      F   компаньон     0   \n",
       "1539   Не женат / не замужем                 4      F   сотрудник     0   \n",
       "4321        гражданский брак                 1      F   сотрудник     0   \n",
       "7731         женат / замужем                 0      F   компаньон     0   \n",
       "15675        женат / замужем                 0      F   сотрудник     0   \n",
       "\n",
       "        total_income                                purpose  \n",
       "16335  186178.934089               операции с недвижимостью  \n",
       "4299   122560.741753                          покупка жилья  \n",
       "7329   124697.846781           заняться высшим образованием  \n",
       "17838   51238.967133                  на покупку автомобиля  \n",
       "16825   91527.685995             покупка жилой недвижимости  \n",
       "3974    96858.531436                        сыграть свадьбу  \n",
       "1539   119563.851852  операции с коммерческой недвижимостью  \n",
       "4321   205868.585780                                свадьба  \n",
       "7731   296525.358574                     высшее образование  \n",
       "15675  188800.068859             покупка жилой недвижимости  "
      ]
     },
     "metadata": {},
     "output_type": "display_data"
    }
   ],
   "source": [
    "display(data.sort_values(by='days_employed').head(10))"
   ]
  },
  {
   "cell_type": "markdown",
   "id": "78f6686d",
   "metadata": {},
   "source": [
    "Из выведенных данных видно, что в столбце `days_employed` имеются отрицательные значения. Данная аномалия может быть вызвана технологической ошибкой при копировании, считывании, смене формата. Например, изначально общий трудовой стаж был записан с использованием знака тире \"—\", который при считывании распознался как знак минуса.\n",
    "\n",
    "Для обработки столбца с аномалиями воспользуемся функцией `abs()`:"
   ]
  },
  {
   "cell_type": "code",
   "execution_count": 14,
   "id": "06e1a2eb",
   "metadata": {
    "scrolled": true
   },
   "outputs": [],
   "source": [
    "data['days_employed'] = data['days_employed'].abs()"
   ]
  },
  {
   "cell_type": "markdown",
   "id": "b1b33c66",
   "metadata": {},
   "source": [
    "Для того, чтобы убедиться, что аномалии устранены, еще  раз отсортируем датафрейм `data` по столбцу `days_employed` в порядке убывания и выведем на экран первые десять строк."
   ]
  },
  {
   "cell_type": "code",
   "execution_count": 15,
   "id": "fa5f4d0d",
   "metadata": {
    "scrolled": true
   },
   "outputs": [
    {
     "data": {
      "text/html": [
       "<div>\n",
       "<style scoped>\n",
       "    .dataframe tbody tr th:only-of-type {\n",
       "        vertical-align: middle;\n",
       "    }\n",
       "\n",
       "    .dataframe tbody tr th {\n",
       "        vertical-align: top;\n",
       "    }\n",
       "\n",
       "    .dataframe thead th {\n",
       "        text-align: right;\n",
       "    }\n",
       "</style>\n",
       "<table border=\"1\" class=\"dataframe\">\n",
       "  <thead>\n",
       "    <tr style=\"text-align: right;\">\n",
       "      <th></th>\n",
       "      <th>children</th>\n",
       "      <th>days_employed</th>\n",
       "      <th>dob_years</th>\n",
       "      <th>education</th>\n",
       "      <th>education_id</th>\n",
       "      <th>family_status</th>\n",
       "      <th>family_status_id</th>\n",
       "      <th>gender</th>\n",
       "      <th>income_type</th>\n",
       "      <th>debt</th>\n",
       "      <th>total_income</th>\n",
       "      <th>purpose</th>\n",
       "    </tr>\n",
       "  </thead>\n",
       "  <tbody>\n",
       "    <tr>\n",
       "      <th>17437</th>\n",
       "      <td>1</td>\n",
       "      <td>24.141633</td>\n",
       "      <td>31</td>\n",
       "      <td>среднее</td>\n",
       "      <td>1</td>\n",
       "      <td>женат / замужем</td>\n",
       "      <td>0</td>\n",
       "      <td>F</td>\n",
       "      <td>сотрудник</td>\n",
       "      <td>1</td>\n",
       "      <td>166952.415427</td>\n",
       "      <td>высшее образование</td>\n",
       "    </tr>\n",
       "    <tr>\n",
       "      <th>8336</th>\n",
       "      <td>0</td>\n",
       "      <td>24.240695</td>\n",
       "      <td>32</td>\n",
       "      <td>высшее</td>\n",
       "      <td>0</td>\n",
       "      <td>Не женат / не замужем</td>\n",
       "      <td>4</td>\n",
       "      <td>M</td>\n",
       "      <td>сотрудник</td>\n",
       "      <td>0</td>\n",
       "      <td>124115.373655</td>\n",
       "      <td>получение дополнительного образования</td>\n",
       "    </tr>\n",
       "    <tr>\n",
       "      <th>6157</th>\n",
       "      <td>2</td>\n",
       "      <td>30.195337</td>\n",
       "      <td>47</td>\n",
       "      <td>среднее</td>\n",
       "      <td>1</td>\n",
       "      <td>гражданский брак</td>\n",
       "      <td>1</td>\n",
       "      <td>M</td>\n",
       "      <td>компаньон</td>\n",
       "      <td>0</td>\n",
       "      <td>231461.185606</td>\n",
       "      <td>свадьба</td>\n",
       "    </tr>\n",
       "    <tr>\n",
       "      <th>9683</th>\n",
       "      <td>0</td>\n",
       "      <td>33.520665</td>\n",
       "      <td>43</td>\n",
       "      <td>среднее</td>\n",
       "      <td>1</td>\n",
       "      <td>Не женат / не замужем</td>\n",
       "      <td>4</td>\n",
       "      <td>M</td>\n",
       "      <td>сотрудник</td>\n",
       "      <td>1</td>\n",
       "      <td>128555.897209</td>\n",
       "      <td>приобретение автомобиля</td>\n",
       "    </tr>\n",
       "    <tr>\n",
       "      <th>2127</th>\n",
       "      <td>1</td>\n",
       "      <td>34.701045</td>\n",
       "      <td>31</td>\n",
       "      <td>высшее</td>\n",
       "      <td>0</td>\n",
       "      <td>женат / замужем</td>\n",
       "      <td>0</td>\n",
       "      <td>F</td>\n",
       "      <td>компаньон</td>\n",
       "      <td>0</td>\n",
       "      <td>90557.994311</td>\n",
       "      <td>получение образования</td>\n",
       "    </tr>\n",
       "    <tr>\n",
       "      <th>5287</th>\n",
       "      <td>1</td>\n",
       "      <td>37.726602</td>\n",
       "      <td>36</td>\n",
       "      <td>среднее</td>\n",
       "      <td>1</td>\n",
       "      <td>женат / замужем</td>\n",
       "      <td>0</td>\n",
       "      <td>F</td>\n",
       "      <td>сотрудник</td>\n",
       "      <td>0</td>\n",
       "      <td>64954.565099</td>\n",
       "      <td>операции со своей недвижимостью</td>\n",
       "    </tr>\n",
       "    <tr>\n",
       "      <th>17270</th>\n",
       "      <td>0</td>\n",
       "      <td>39.954170</td>\n",
       "      <td>34</td>\n",
       "      <td>высшее</td>\n",
       "      <td>0</td>\n",
       "      <td>женат / замужем</td>\n",
       "      <td>0</td>\n",
       "      <td>F</td>\n",
       "      <td>госслужащий</td>\n",
       "      <td>0</td>\n",
       "      <td>97264.767002</td>\n",
       "      <td>жилье</td>\n",
       "    </tr>\n",
       "    <tr>\n",
       "      <th>13846</th>\n",
       "      <td>2</td>\n",
       "      <td>46.952793</td>\n",
       "      <td>33</td>\n",
       "      <td>среднее</td>\n",
       "      <td>1</td>\n",
       "      <td>женат / замужем</td>\n",
       "      <td>0</td>\n",
       "      <td>F</td>\n",
       "      <td>сотрудник</td>\n",
       "      <td>1</td>\n",
       "      <td>177554.195351</td>\n",
       "      <td>покупка жилья для сдачи</td>\n",
       "    </tr>\n",
       "    <tr>\n",
       "      <th>7964</th>\n",
       "      <td>0</td>\n",
       "      <td>47.109840</td>\n",
       "      <td>49</td>\n",
       "      <td>высшее</td>\n",
       "      <td>0</td>\n",
       "      <td>женат / замужем</td>\n",
       "      <td>0</td>\n",
       "      <td>F</td>\n",
       "      <td>сотрудник</td>\n",
       "      <td>0</td>\n",
       "      <td>197545.271278</td>\n",
       "      <td>на покупку подержанного автомобиля</td>\n",
       "    </tr>\n",
       "    <tr>\n",
       "      <th>3235</th>\n",
       "      <td>0</td>\n",
       "      <td>50.128298</td>\n",
       "      <td>43</td>\n",
       "      <td>среднее</td>\n",
       "      <td>1</td>\n",
       "      <td>гражданский брак</td>\n",
       "      <td>1</td>\n",
       "      <td>F</td>\n",
       "      <td>компаньон</td>\n",
       "      <td>0</td>\n",
       "      <td>99381.947946</td>\n",
       "      <td>на проведение свадьбы</td>\n",
       "    </tr>\n",
       "  </tbody>\n",
       "</table>\n",
       "</div>"
      ],
      "text/plain": [
       "       children  days_employed  dob_years education  education_id  \\\n",
       "17437         1      24.141633         31   среднее             1   \n",
       "8336          0      24.240695         32    высшее             0   \n",
       "6157          2      30.195337         47   среднее             1   \n",
       "9683          0      33.520665         43   среднее             1   \n",
       "2127          1      34.701045         31    высшее             0   \n",
       "5287          1      37.726602         36   среднее             1   \n",
       "17270         0      39.954170         34    высшее             0   \n",
       "13846         2      46.952793         33   среднее             1   \n",
       "7964          0      47.109840         49    высшее             0   \n",
       "3235          0      50.128298         43   среднее             1   \n",
       "\n",
       "               family_status  family_status_id gender  income_type  debt  \\\n",
       "17437        женат / замужем                 0      F    сотрудник     1   \n",
       "8336   Не женат / не замужем                 4      M    сотрудник     0   \n",
       "6157        гражданский брак                 1      M    компаньон     0   \n",
       "9683   Не женат / не замужем                 4      M    сотрудник     1   \n",
       "2127         женат / замужем                 0      F    компаньон     0   \n",
       "5287         женат / замужем                 0      F    сотрудник     0   \n",
       "17270        женат / замужем                 0      F  госслужащий     0   \n",
       "13846        женат / замужем                 0      F    сотрудник     1   \n",
       "7964         женат / замужем                 0      F    сотрудник     0   \n",
       "3235        гражданский брак                 1      F    компаньон     0   \n",
       "\n",
       "        total_income                                purpose  \n",
       "17437  166952.415427                     высшее образование  \n",
       "8336   124115.373655  получение дополнительного образования  \n",
       "6157   231461.185606                                свадьба  \n",
       "9683   128555.897209                приобретение автомобиля  \n",
       "2127    90557.994311                  получение образования  \n",
       "5287    64954.565099        операции со своей недвижимостью  \n",
       "17270   97264.767002                                  жилье  \n",
       "13846  177554.195351                покупка жилья для сдачи  \n",
       "7964   197545.271278     на покупку подержанного автомобиля  \n",
       "3235    99381.947946                  на проведение свадьбы  "
      ]
     },
     "metadata": {},
     "output_type": "display_data"
    }
   ],
   "source": [
    "display(data.sort_values(by='days_employed').head(10))"
   ]
  },
  {
   "cell_type": "markdown",
   "id": "184a656e",
   "metadata": {},
   "source": [
    "Заменим пропущенные значения в столбце `days_employed` на медианное значение количества дней трудового стажа с помощью метода `fillna()`. Медианное значение найдем с помощью метода `median()` Проверим успешность замены с помощью функции `len`:"
   ]
  },
  {
   "cell_type": "code",
   "execution_count": 16,
   "id": "ae51d4f7",
   "metadata": {},
   "outputs": [
    {
     "data": {
      "text/plain": [
       "0"
      ]
     },
     "execution_count": 16,
     "metadata": {},
     "output_type": "execute_result"
    }
   ],
   "source": [
    "data['days_employed'] = data['days_employed'].fillna(data.groupby('income_type')['days_employed'].transform(\"median\"))\n",
    "len(data[data['days_employed'].isna()])"
   ]
  },
  {
   "cell_type": "markdown",
   "id": "b62db584",
   "metadata": {},
   "source": [
    "<div class=\"alert alert-success\">\n",
    "<b>✔️ Комментарий ревьюера v1:</b> \n",
    "<br>Супер) Лучший способ - заменить пропуски в столбце days_employed через медианы с группировкой по возрасту или типу занятости\n",
    "</div>"
   ]
  },
  {
   "cell_type": "markdown",
   "id": "9799bed6",
   "metadata": {},
   "source": [
    "<div class=\"alert alert-info\">\n",
    "<b>Комментарий студента:</b>\n",
    "<br>Использовала функцию transform() для замены пропусков медианным значением для группировки по типу занятости.\n",
    "</div>"
   ]
  },
  {
   "cell_type": "markdown",
   "id": "f59ccad8",
   "metadata": {},
   "source": [
    "<div class=\"alert alert-success\">\n",
    "<b>✔️ Комментарий ревьюера v2:</b>\n",
    "<br>Красота)\n",
    "</div>"
   ]
  },
  {
   "cell_type": "markdown",
   "id": "dd948ddc",
   "metadata": {},
   "source": [
    "Проверим на аномалии столбец `children`, для этого применим метод `value_counts()`:"
   ]
  },
  {
   "cell_type": "code",
   "execution_count": 17,
   "id": "c86bc749",
   "metadata": {},
   "outputs": [
    {
     "data": {
      "text/plain": [
       " 0     14149\n",
       " 1      4818\n",
       " 2      2055\n",
       " 3       330\n",
       " 20       76\n",
       "-1        47\n",
       " 4        41\n",
       " 5         9\n",
       "Name: children, dtype: int64"
      ]
     },
     "execution_count": 17,
     "metadata": {},
     "output_type": "execute_result"
    }
   ],
   "source": [
    "data['children'].value_counts()"
   ]
  },
  {
   "cell_type": "markdown",
   "id": "d57e407c",
   "metadata": {},
   "source": [
    "Как видно, количество детей в 47 строках принимает отрицательное значение. Для обработки аномалий в столбце воспользуемся функцией `abs()`:"
   ]
  },
  {
   "cell_type": "code",
   "execution_count": 18,
   "id": "2ea08850",
   "metadata": {},
   "outputs": [],
   "source": [
    "data['children'] = data['children'].abs()"
   ]
  },
  {
   "cell_type": "markdown",
   "id": "90fc198c",
   "metadata": {},
   "source": [
    "<div class=\"alert alert-warning\">\n",
    "<b>⚠️ Комментарий ревьюера v1:</b> \n",
    "<br>Как вариант, 20 детей можно было бы заменить на 2\n",
    "</div>"
   ]
  },
  {
   "cell_type": "code",
   "execution_count": 19,
   "id": "70006f89",
   "metadata": {},
   "outputs": [],
   "source": [
    "data.loc[data['children'] == 20, 'children'] = 2"
   ]
  },
  {
   "cell_type": "markdown",
   "id": "7f25876a",
   "metadata": {},
   "source": [
    "<div class=\"alert alert-info\">\n",
    "<b>Комментарий студента:</b>\n",
    "<br>Заменила 20 детей на 2.\n",
    "</div>"
   ]
  },
  {
   "cell_type": "markdown",
   "id": "a0b48a14",
   "metadata": {},
   "source": [
    "<div class=\"alert alert-success\">\n",
    "<b>✔️ Комментарий ревьюера v2:</b>\n",
    "<br>👍\n",
    "</div>"
   ]
  },
  {
   "cell_type": "markdown",
   "id": "0c28d4d2",
   "metadata": {},
   "source": [
    "### Изменение типов данных."
   ]
  },
  {
   "cell_type": "markdown",
   "id": "95c19bf0",
   "metadata": {},
   "source": [
    "Замените вещественный тип данных в столбце `total_income` на целочисленный, например, с помощью метода `astype()`."
   ]
  },
  {
   "cell_type": "code",
   "execution_count": 20,
   "id": "5a0cf783",
   "metadata": {},
   "outputs": [],
   "source": [
    "data['total_income'] = data['total_income'].astype('int')"
   ]
  },
  {
   "cell_type": "markdown",
   "id": "87d511f5",
   "metadata": {},
   "source": [
    "<div class=\"alert alert-success\">\n",
    "<b>✔️ Комментарий ревьюера v1:</b> \n",
    "<br>Тут всё верно!\n",
    "</div>"
   ]
  },
  {
   "cell_type": "markdown",
   "id": "75368ed3",
   "metadata": {},
   "source": [
    "### Удаление дубликатов."
   ]
  },
  {
   "cell_type": "markdown",
   "id": "35dee62c",
   "metadata": {},
   "source": [
    "Если в данных присутствуют строки-дубликаты, удалите их. Также обработайте неявные дубликаты. Например, в столбце `education` есть одни и те же значения, но записанные по-разному: с использованием заглавных и строчных букв. Приведите их к одному регистру. Проверьте остальные столбцы.\n",
    "После удаления дубликатов сделайте следующее:\n",
    "* поясните, как выбирали метод для поиска и удаления дубликатов в данных;\n",
    "* приведите возможные причины появления дубликатов.\n",
    "\n",
    "Произведем ручной поиск неявных дубликатов по столбцам.\n",
    "Можно пойти двумя путями:\n",
    "* найдем количество уникальных значений в категориальных переменных типа `object` методом `value_counts()` и определим, в каких столбцах используется сочетание заглавных и строчных букв, затем приведем в найденных столбцах все значения к нижнему регистру с помощью метода `str.lower()`;\n",
    "* без предварительного поиска уникальных значений, создадим функцию `data_lowercase`, которая в качестве аргумента будет принимать столбец датафрейма и возвращать столбец, обработанный методом `str.lower()`. Также во избежание ошибок необходимо воспользоваться конструкцией `try...except...`.\n",
    "\n",
    "Найдем количество уникальных значений в категориальных переменных типа `object` методом `value_counts()` в столбцах `education` и `family_status`:  "
   ]
  },
  {
   "cell_type": "code",
   "execution_count": 21,
   "id": "fcb01c8d",
   "metadata": {},
   "outputs": [
    {
     "data": {
      "text/plain": [
       "среднее                13750\n",
       "высшее                  4718\n",
       "СРЕДНЕЕ                  772\n",
       "Среднее                  711\n",
       "неоконченное высшее      668\n",
       "ВЫСШЕЕ                   274\n",
       "Высшее                   268\n",
       "начальное                250\n",
       "Неоконченное высшее       47\n",
       "НЕОКОНЧЕННОЕ ВЫСШЕЕ       29\n",
       "НАЧАЛЬНОЕ                 17\n",
       "Начальное                 15\n",
       "ученая степень             4\n",
       "УЧЕНАЯ СТЕПЕНЬ             1\n",
       "Ученая степень             1\n",
       "Name: education, dtype: int64"
      ]
     },
     "execution_count": 21,
     "metadata": {},
     "output_type": "execute_result"
    }
   ],
   "source": [
    "data['education'].value_counts()"
   ]
  },
  {
   "cell_type": "code",
   "execution_count": 22,
   "id": "0b1944e0",
   "metadata": {},
   "outputs": [
    {
     "data": {
      "text/plain": [
       "женат / замужем          12380\n",
       "гражданский брак          4177\n",
       "Не женат / не замужем     2813\n",
       "в разводе                 1195\n",
       "вдовец / вдова             960\n",
       "Name: family_status, dtype: int64"
      ]
     },
     "execution_count": 22,
     "metadata": {},
     "output_type": "execute_result"
    }
   ],
   "source": [
    "data['family_status'].value_counts()"
   ]
  },
  {
   "cell_type": "markdown",
   "id": "76e8a65e",
   "metadata": {},
   "source": [
    "Видно, что верхний регистр встречается в столбцах `education` и `family_status`.\n",
    "Обработаем их, приведем все значения к нижнему регистру с помощью метода `str.lower()`.\n",
    "\n",
    "Создадим функцию `data_lowercase`, которая в качестве аргумента будет принимать столбец датафрейма и возвращать столбец, обработанный методом `str.lower()`. Создадим цикл, в котором пройдемся по списку столбцов датафрейма, полученного с помощью сочетания атрибута `columns` и метода `tolist()`.Также во избежание ошибок необходимо воспользоваться конструкцией `try...except...`."
   ]
  },
  {
   "cell_type": "code",
   "execution_count": null,
   "id": "ace7bb9f",
   "metadata": {
    "scrolled": true
   },
   "outputs": [],
   "source": [
    "def data_lowercase(column):\n",
    "    return column.str.lower()\n",
    "\n",
    "columns = data.columns.tolist()\n",
    "\n",
    "for column in columns:\n",
    "    try:\n",
    "        data[column] =  data_lowercase(data[column])\n",
    "    except:\n",
    "        data[column] = data[column]"
   ]
  },
  {
   "cell_type": "markdown",
   "id": "2568f284",
   "metadata": {},
   "source": [
    "Проверим работу метода `str.lower()`. Найдем количество уникальных значений методом `value_counts()` в столбцах `education` и `family_status`:  "
   ]
  },
  {
   "cell_type": "code",
   "execution_count": null,
   "id": "1e79f82d",
   "metadata": {},
   "outputs": [],
   "source": [
    "data['education'].value_counts()"
   ]
  },
  {
   "cell_type": "code",
   "execution_count": null,
   "id": "eee6ab5b",
   "metadata": {
    "scrolled": true
   },
   "outputs": [],
   "source": [
    "data['family_status'].value_counts()"
   ]
  },
  {
   "cell_type": "markdown",
   "id": "584af366",
   "metadata": {},
   "source": [
    "Теперь найдем количество явных дубликатов. Для этого применим сочетание методов `duplicated()` и `sum()`:"
   ]
  },
  {
   "cell_type": "code",
   "execution_count": null,
   "id": "c28fd93d",
   "metadata": {},
   "outputs": [],
   "source": [
    "data.duplicated().sum()"
   ]
  },
  {
   "cell_type": "markdown",
   "id": "6fc74b89",
   "metadata": {},
   "source": [
    "Обработаем явные дубликаты. Для этого применим метод `drop_duplicates()` и переобозначим индексы с помощью метода `reset_index()`. Проверим количество дубликатов с помощью методов `duplicated()` и `sum()`:"
   ]
  },
  {
   "cell_type": "code",
   "execution_count": 27,
   "id": "bb364465",
   "metadata": {},
   "outputs": [
    {
     "data": {
      "text/plain": [
       "0"
      ]
     },
     "execution_count": 27,
     "metadata": {},
     "output_type": "execute_result"
    }
   ],
   "source": [
    "data = data.drop_duplicates().reset_index(drop=True)\n",
    "data.duplicated().sum()"
   ]
  },
  {
   "cell_type": "markdown",
   "id": "2f6e4dac",
   "metadata": {},
   "source": [
    "Ответы на вопросы:\n",
    "* для поиска дубликатов были выбраны методы:\n",
    "    * `value_counts()` позволяет выявить неявные дубликаты **в отдельных столбцах**, например, разный регистр;\n",
    "    * сочетание методов `duplicated()` и `sum()` **для всего датафрейма**, так как это позволяет избежать ручного поиска явных дубликатов;\n",
    "* для удаления дубликатов были выбраны методы:\n",
    "    * `drop_duplicates()`, так как позволяет избавиться от полных дубликатов и избежать их ручного удаления; \n",
    "    * `str.lower()`, который приводит строки к нижнему регистру и таким образом избавляет от неявных дубликатов;\n",
    "* причины появления явных дубликатов - технологическая ошибка при копировании, считывании или смене формата;\n",
    "* причины появления неявных дубликатов - человеческий фактор."
   ]
  },
  {
   "cell_type": "markdown",
   "id": "c67375f2",
   "metadata": {},
   "source": [
    "<div class=\"alert alert-success\">\n",
    "<b>✔️ Комментарий ревьюера v1:</b> \n",
    "<br>Супер! От дубликатов тоже избавились\n",
    "</div>"
   ]
  },
  {
   "cell_type": "markdown",
   "id": "6148777c",
   "metadata": {},
   "source": [
    "### Формирование дополнительных датафреймов словарей, декомпозиция исходного датафрейма."
   ]
  },
  {
   "cell_type": "markdown",
   "id": "3f50d8c5",
   "metadata": {},
   "source": [
    "Создайте два новых датафрейма, в которых:\n",
    "* каждому уникальному значению из `education` соответствует уникальное значение `education_id` — в первом;\n",
    "* каждому уникальному значению из `family_status` соответствует уникальное значение `family_status_id` — во втором.\n",
    "\n",
    "\n",
    "Удалите из исходного датафрейма столбцы `education` и `family_status`, оставив только их идентификаторы: `education_id` и `family_status_id`. Новые датафреймы — это те самые «словари» (не путайте с одноимённой структурой данных в Python), к которым вы сможете обращаться по идентификатору."
   ]
  },
  {
   "cell_type": "markdown",
   "id": "c0a03cc9",
   "metadata": {},
   "source": [
    "Создаем новый датафрейм `education_dict`, где каждому уникальному значению из `education` соответствует уникальное значение `education_id`."
   ]
  },
  {
   "cell_type": "code",
   "execution_count": 28,
   "id": "feff11ea",
   "metadata": {},
   "outputs": [
    {
     "data": {
      "text/html": [
       "<div>\n",
       "<style scoped>\n",
       "    .dataframe tbody tr th:only-of-type {\n",
       "        vertical-align: middle;\n",
       "    }\n",
       "\n",
       "    .dataframe tbody tr th {\n",
       "        vertical-align: top;\n",
       "    }\n",
       "\n",
       "    .dataframe thead th {\n",
       "        text-align: right;\n",
       "    }\n",
       "</style>\n",
       "<table border=\"1\" class=\"dataframe\">\n",
       "  <thead>\n",
       "    <tr style=\"text-align: right;\">\n",
       "      <th></th>\n",
       "      <th>education</th>\n",
       "      <th>education_id</th>\n",
       "    </tr>\n",
       "  </thead>\n",
       "  <tbody>\n",
       "    <tr>\n",
       "      <th>0</th>\n",
       "      <td>высшее</td>\n",
       "      <td>0</td>\n",
       "    </tr>\n",
       "    <tr>\n",
       "      <th>1</th>\n",
       "      <td>среднее</td>\n",
       "      <td>1</td>\n",
       "    </tr>\n",
       "    <tr>\n",
       "      <th>2</th>\n",
       "      <td>неоконченное высшее</td>\n",
       "      <td>2</td>\n",
       "    </tr>\n",
       "    <tr>\n",
       "      <th>3</th>\n",
       "      <td>начальное</td>\n",
       "      <td>3</td>\n",
       "    </tr>\n",
       "    <tr>\n",
       "      <th>4</th>\n",
       "      <td>ученая степень</td>\n",
       "      <td>4</td>\n",
       "    </tr>\n",
       "  </tbody>\n",
       "</table>\n",
       "</div>"
      ],
      "text/plain": [
       "             education  education_id\n",
       "0               высшее             0\n",
       "1              среднее             1\n",
       "2  неоконченное высшее             2\n",
       "3            начальное             3\n",
       "4       ученая степень             4"
      ]
     },
     "metadata": {},
     "output_type": "display_data"
    }
   ],
   "source": [
    "education_dict = data[['education', 'education_id']].drop_duplicates().reset_index(drop=True)\n",
    "display(education_dict)"
   ]
  },
  {
   "cell_type": "markdown",
   "id": "ffdae0ce",
   "metadata": {},
   "source": [
    "Создаем новый датафрейм `family_status_dict`, где каждому уникальному значению из `family_status` соответствует уникальное значение `family_status_id`. "
   ]
  },
  {
   "cell_type": "code",
   "execution_count": 29,
   "id": "209decaa",
   "metadata": {},
   "outputs": [
    {
     "data": {
      "text/html": [
       "<div>\n",
       "<style scoped>\n",
       "    .dataframe tbody tr th:only-of-type {\n",
       "        vertical-align: middle;\n",
       "    }\n",
       "\n",
       "    .dataframe tbody tr th {\n",
       "        vertical-align: top;\n",
       "    }\n",
       "\n",
       "    .dataframe thead th {\n",
       "        text-align: right;\n",
       "    }\n",
       "</style>\n",
       "<table border=\"1\" class=\"dataframe\">\n",
       "  <thead>\n",
       "    <tr style=\"text-align: right;\">\n",
       "      <th></th>\n",
       "      <th>family_status</th>\n",
       "      <th>family_status_id</th>\n",
       "    </tr>\n",
       "  </thead>\n",
       "  <tbody>\n",
       "    <tr>\n",
       "      <th>0</th>\n",
       "      <td>женат / замужем</td>\n",
       "      <td>0</td>\n",
       "    </tr>\n",
       "    <tr>\n",
       "      <th>1</th>\n",
       "      <td>гражданский брак</td>\n",
       "      <td>1</td>\n",
       "    </tr>\n",
       "    <tr>\n",
       "      <th>2</th>\n",
       "      <td>вдовец / вдова</td>\n",
       "      <td>2</td>\n",
       "    </tr>\n",
       "    <tr>\n",
       "      <th>3</th>\n",
       "      <td>в разводе</td>\n",
       "      <td>3</td>\n",
       "    </tr>\n",
       "    <tr>\n",
       "      <th>4</th>\n",
       "      <td>не женат / не замужем</td>\n",
       "      <td>4</td>\n",
       "    </tr>\n",
       "  </tbody>\n",
       "</table>\n",
       "</div>"
      ],
      "text/plain": [
       "           family_status  family_status_id\n",
       "0        женат / замужем                 0\n",
       "1       гражданский брак                 1\n",
       "2         вдовец / вдова                 2\n",
       "3              в разводе                 3\n",
       "4  не женат / не замужем                 4"
      ]
     },
     "metadata": {},
     "output_type": "display_data"
    }
   ],
   "source": [
    "family_status_dict = data[['family_status', 'family_status_id']].drop_duplicates().reset_index(drop=True)\n",
    "display(family_status_dict)"
   ]
  },
  {
   "cell_type": "markdown",
   "id": "fed07aa9",
   "metadata": {},
   "source": [
    "Удаление столбцов `family_status` и `education` из исходного датафрейма с помощью ключевого слова `del`. "
   ]
  },
  {
   "cell_type": "code",
   "execution_count": 30,
   "id": "5b4e436e",
   "metadata": {},
   "outputs": [
    {
     "data": {
      "text/html": [
       "<div>\n",
       "<style scoped>\n",
       "    .dataframe tbody tr th:only-of-type {\n",
       "        vertical-align: middle;\n",
       "    }\n",
       "\n",
       "    .dataframe tbody tr th {\n",
       "        vertical-align: top;\n",
       "    }\n",
       "\n",
       "    .dataframe thead th {\n",
       "        text-align: right;\n",
       "    }\n",
       "</style>\n",
       "<table border=\"1\" class=\"dataframe\">\n",
       "  <thead>\n",
       "    <tr style=\"text-align: right;\">\n",
       "      <th></th>\n",
       "      <th>children</th>\n",
       "      <th>days_employed</th>\n",
       "      <th>dob_years</th>\n",
       "      <th>education_id</th>\n",
       "      <th>family_status_id</th>\n",
       "      <th>gender</th>\n",
       "      <th>income_type</th>\n",
       "      <th>debt</th>\n",
       "      <th>total_income</th>\n",
       "      <th>purpose</th>\n",
       "    </tr>\n",
       "  </thead>\n",
       "  <tbody>\n",
       "    <tr>\n",
       "      <th>0</th>\n",
       "      <td>1</td>\n",
       "      <td>8437.673028</td>\n",
       "      <td>42</td>\n",
       "      <td>0</td>\n",
       "      <td>0</td>\n",
       "      <td>f</td>\n",
       "      <td>сотрудник</td>\n",
       "      <td>0</td>\n",
       "      <td>253875</td>\n",
       "      <td>покупка жилья</td>\n",
       "    </tr>\n",
       "    <tr>\n",
       "      <th>1</th>\n",
       "      <td>1</td>\n",
       "      <td>4024.803754</td>\n",
       "      <td>36</td>\n",
       "      <td>1</td>\n",
       "      <td>0</td>\n",
       "      <td>f</td>\n",
       "      <td>сотрудник</td>\n",
       "      <td>0</td>\n",
       "      <td>112080</td>\n",
       "      <td>приобретение автомобиля</td>\n",
       "    </tr>\n",
       "    <tr>\n",
       "      <th>2</th>\n",
       "      <td>0</td>\n",
       "      <td>5623.422610</td>\n",
       "      <td>33</td>\n",
       "      <td>1</td>\n",
       "      <td>0</td>\n",
       "      <td>m</td>\n",
       "      <td>сотрудник</td>\n",
       "      <td>0</td>\n",
       "      <td>145885</td>\n",
       "      <td>покупка жилья</td>\n",
       "    </tr>\n",
       "    <tr>\n",
       "      <th>3</th>\n",
       "      <td>3</td>\n",
       "      <td>4124.747207</td>\n",
       "      <td>32</td>\n",
       "      <td>1</td>\n",
       "      <td>0</td>\n",
       "      <td>m</td>\n",
       "      <td>сотрудник</td>\n",
       "      <td>0</td>\n",
       "      <td>267628</td>\n",
       "      <td>дополнительное образование</td>\n",
       "    </tr>\n",
       "    <tr>\n",
       "      <th>4</th>\n",
       "      <td>0</td>\n",
       "      <td>340266.072047</td>\n",
       "      <td>53</td>\n",
       "      <td>1</td>\n",
       "      <td>1</td>\n",
       "      <td>f</td>\n",
       "      <td>пенсионер</td>\n",
       "      <td>0</td>\n",
       "      <td>158616</td>\n",
       "      <td>сыграть свадьбу</td>\n",
       "    </tr>\n",
       "  </tbody>\n",
       "</table>\n",
       "</div>"
      ],
      "text/plain": [
       "   children  days_employed  dob_years  education_id  family_status_id gender  \\\n",
       "0         1    8437.673028         42             0                 0      f   \n",
       "1         1    4024.803754         36             1                 0      f   \n",
       "2         0    5623.422610         33             1                 0      m   \n",
       "3         3    4124.747207         32             1                 0      m   \n",
       "4         0  340266.072047         53             1                 1      f   \n",
       "\n",
       "  income_type  debt  total_income                     purpose  \n",
       "0   сотрудник     0        253875               покупка жилья  \n",
       "1   сотрудник     0        112080     приобретение автомобиля  \n",
       "2   сотрудник     0        145885               покупка жилья  \n",
       "3   сотрудник     0        267628  дополнительное образование  \n",
       "4   пенсионер     0        158616             сыграть свадьбу  "
      ]
     },
     "metadata": {},
     "output_type": "display_data"
    }
   ],
   "source": [
    "del data['education']\n",
    "del data['family_status']\n",
    "display(data.head())"
   ]
  },
  {
   "cell_type": "markdown",
   "id": "d495b269",
   "metadata": {},
   "source": [
    "<div class=\"alert alert-success\">\n",
    "<b>✔️ Комментарий ревьюера v1:</b> \n",
    "<br>Тут всё правильно 👌\n",
    "</div>"
   ]
  },
  {
   "cell_type": "markdown",
   "id": "27f5a808",
   "metadata": {},
   "source": [
    "### Категоризация дохода."
   ]
  },
  {
   "cell_type": "markdown",
   "id": "99efef9d",
   "metadata": {},
   "source": [
    "На основании диапазонов, указанных ниже, создайте столбец `total_income_category` с категориями:\n",
    "* 0–30000 — `'E'`;\n",
    "* 30001–50000 — `'D'`;\n",
    "* 50001–200000 — `'C'`;\n",
    "* 200001–1000000 — `'B'`;\n",
    "* 1000001 и выше — `'A'`.\n",
    "\n",
    "Например, кредитополучателю с доходом 25000 нужно назначить категорию `'E'`, а клиенту, получающему 235000, — `'B'`.\n",
    "\n",
    "Создадим функцию `total_income_category`, которая в качестве аргумента принимает доход и возвращает категорию. Далее примений функцию с помощью метода `apply()` к столбцу `total_income` и получим столбец `total_income_category`.\n",
    "Проверим успешность применения функции с помощью метода `value_counts()` к столбцу `total_income_category`."
   ]
  },
  {
   "cell_type": "code",
   "execution_count": 31,
   "id": "648b081e",
   "metadata": {},
   "outputs": [
    {
     "data": {
      "text/plain": [
       "C    16015\n",
       "B     5042\n",
       "D      350\n",
       "A       25\n",
       "E       22\n",
       "Name: total_income_category, dtype: int64"
      ]
     },
     "execution_count": 31,
     "metadata": {},
     "output_type": "execute_result"
    }
   ],
   "source": [
    "def total_income_category(income):\n",
    "    if 0 <= income <= 30000:\n",
    "        return 'E'\n",
    "    if 30001 <= income <= 50000:\n",
    "        return 'D'\n",
    "    if 50001 <= income <= 200000:\n",
    "        return 'C'\n",
    "    if 200001 <= income <= 1000000:\n",
    "        return 'B'\n",
    "    if income >= 1000001:\n",
    "        return 'A'\n",
    "    \n",
    "data['total_income_category'] = data['total_income'].apply(total_income_category)\n",
    "data['total_income_category'].value_counts()"
   ]
  },
  {
   "cell_type": "markdown",
   "id": "dfcf537a",
   "metadata": {},
   "source": [
    "<div class=\"alert alert-success\">\n",
    "<b>✔️ Комментарий ревьюера v1:</b> \n",
    "<br>Категоризация клиентов по уровню дохода произведена верно\n",
    "</div>"
   ]
  },
  {
   "cell_type": "markdown",
   "id": "45bbe6d7",
   "metadata": {},
   "source": [
    "### Категоризация целей кредита."
   ]
  },
  {
   "cell_type": "markdown",
   "id": "2909c923",
   "metadata": {},
   "source": [
    "Создайте функцию, которая на основании данных из столбца purpose сформирует новый столбец `purpose_category`, в который войдут следующие категории:\n",
    "* `'операции с автомобилем'`,\n",
    "* `'операции с недвижимостью'`,\n",
    "* `'проведение свадьбы'`,\n",
    "* `'получение образования'`.\n",
    "\n",
    "\n",
    "Например, если в столбце `purpose` находится подстрока `'на покупку автомобиля'`, то в столбце `purpose_category` должна появиться строка `'операции с автомобилем'`.\n",
    "Вы можете использовать собственную функцию и метод `apply()`. Изучите данные в столбце `purpose` и определите, какие подстроки помогут вам правильно определить категорию.\n",
    "\n",
    "Просмотрим, какие значения принимает столбец `purpose`. Для этого к столбцу `purpose` применим метод `value_counts()`."
   ]
  },
  {
   "cell_type": "code",
   "execution_count": 32,
   "id": "cc608813",
   "metadata": {},
   "outputs": [
    {
     "data": {
      "text/plain": [
       "свадьба                                   791\n",
       "на проведение свадьбы                     768\n",
       "сыграть свадьбу                           765\n",
       "операции с недвижимостью                  675\n",
       "покупка коммерческой недвижимости         661\n",
       "операции с жильем                         652\n",
       "покупка жилья для сдачи                   651\n",
       "операции с коммерческой недвижимостью     650\n",
       "жилье                                     646\n",
       "покупка жилья                             646\n",
       "покупка жилья для семьи                   638\n",
       "строительство собственной недвижимости    635\n",
       "недвижимость                              633\n",
       "операции со своей недвижимостью           627\n",
       "строительство жилой недвижимости          624\n",
       "покупка недвижимости                      621\n",
       "покупка своего жилья                      620\n",
       "строительство недвижимости                619\n",
       "ремонт жилью                              607\n",
       "покупка жилой недвижимости                606\n",
       "на покупку своего автомобиля              505\n",
       "заняться высшим образованием              496\n",
       "автомобиль                                494\n",
       "сделка с подержанным автомобилем          486\n",
       "на покупку подержанного автомобиля        478\n",
       "автомобили                                478\n",
       "свой автомобиль                           478\n",
       "на покупку автомобиля                     471\n",
       "приобретение автомобиля                   461\n",
       "дополнительное образование                460\n",
       "сделка с автомобилем                      455\n",
       "высшее образование                        452\n",
       "образование                               447\n",
       "получение дополнительного образования     446\n",
       "получение образования                     442\n",
       "профильное образование                    436\n",
       "получение высшего образования             426\n",
       "заняться образованием                     408\n",
       "Name: purpose, dtype: int64"
      ]
     },
     "execution_count": 32,
     "metadata": {},
     "output_type": "execute_result"
    }
   ],
   "source": [
    "data['purpose'].value_counts()"
   ]
  },
  {
   "cell_type": "markdown",
   "id": "ee00e8ac",
   "metadata": {},
   "source": [
    "Создадим функцию `purpose_category`, которая в качестве аргумента принимает ключевые слова и возвращает следующие категории:\n",
    "* `'операции с автомобилем'`,\n",
    "* `'операции с недвижимостью'`,\n",
    "* `'проведение свадьбы'`,\n",
    "* `'получение образования'`.\n",
    "\n",
    "В качестве ключевых слов на основании приведенных выше данных выбраны:\n",
    "* `'свадьб'`,\n",
    "* `'абтомобил'`,\n",
    "* `'недвижим'`,\n",
    "* `'жиль'`,\n",
    "* `'образован'`.\n",
    "\n",
    "Применим функцию к столбцу `purpose` и получим новый столбец `purpose_category`. Проверим результат категоризации с помощью метода `value_counts()`"
   ]
  },
  {
   "cell_type": "code",
   "execution_count": 33,
   "id": "46aae0e7",
   "metadata": {},
   "outputs": [
    {
     "data": {
      "text/plain": [
       "операции с недвижимостью    10811\n",
       "операции с автомобилем       4306\n",
       "получение образования        4013\n",
       "проведение свадьбы           2324\n",
       "Name: purpose_category, dtype: int64"
      ]
     },
     "execution_count": 33,
     "metadata": {},
     "output_type": "execute_result"
    }
   ],
   "source": [
    "def purpose_category(reason):\n",
    "    if 'свадьб' in reason:\n",
    "        return 'проведение свадьбы'\n",
    "    if 'недвижим' in reason:\n",
    "        return 'операции с недвижимостью'\n",
    "    if 'жиль' in reason:\n",
    "        return 'операции с недвижимостью'\n",
    "    if 'образован' in reason:\n",
    "        return 'получение образования'\n",
    "    if 'автомобил' in reason:\n",
    "        return 'операции с автомобилем'\n",
    "    return 'ошибка'\n",
    "\n",
    "\n",
    "data['purpose_category'] = data['purpose'].apply(purpose_category)\n",
    "data['purpose_category'].value_counts()"
   ]
  },
  {
   "cell_type": "markdown",
   "id": "3038020b",
   "metadata": {},
   "source": [
    "<div class=\"alert alert-success\">\n",
    "<b>✔️ Комментарий ревьюера v1:</b> \n",
    "<br>Основные цели кредита определены правильно! 👍\n",
    "</div>"
   ]
  },
  {
   "cell_type": "markdown",
   "id": "6a2cd34e",
   "metadata": {},
   "source": [
    "## Ответы на вопросы."
   ]
  },
  {
   "cell_type": "markdown",
   "id": "53688534",
   "metadata": {},
   "source": [
    "Ответы на вопросы можно разместить в ячейках тетрадок Jupyter Notebook с типом markdown.\n",
    "\n",
    "\n",
    "* Есть ли зависимость между количеством детей и возвратом кредита в срок?\n",
    "* Есть ли зависимость между семейным положением и возвратом кредита в срок?\n",
    "* Есть ли зависимость между уровнем дохода и возвратом кредита в срок?\n",
    "* Как разные цели кредита влияют на его возврат в срок?\n",
    "\n",
    "\n",
    "Ответы сопроводите интерпретацией — поясните, о чём именно говорит полученный вами результат."
   ]
  },
  {
   "cell_type": "markdown",
   "id": "93052668",
   "metadata": {},
   "source": [
    "### Вопрос 1:"
   ]
  },
  {
   "cell_type": "markdown",
   "id": "652c03ce",
   "metadata": {},
   "source": [
    "Есть ли зависимость между количеством детей и возвратом кредита в срок?"
   ]
  },
  {
   "cell_type": "markdown",
   "id": "d61e7601",
   "metadata": {},
   "source": [
    "Общее количество взятых кредитов:"
   ]
  },
  {
   "cell_type": "code",
   "execution_count": 34,
   "id": "65be8ba6",
   "metadata": {},
   "outputs": [
    {
     "data": {
      "text/plain": [
       "21454"
      ]
     },
     "execution_count": 34,
     "metadata": {},
     "output_type": "execute_result"
    }
   ],
   "source": [
    "data['debt'].count()"
   ]
  },
  {
   "cell_type": "markdown",
   "id": "e9a4d873",
   "metadata": {},
   "source": [
    "С помощью метода `value_counts()` оценим общее количество выплаченных `0` и невыплаченных `1` кредитов:  "
   ]
  },
  {
   "cell_type": "code",
   "execution_count": 35,
   "id": "bd6b8a63",
   "metadata": {},
   "outputs": [
    {
     "data": {
      "text/plain": [
       "0    19713\n",
       "1     1741\n",
       "Name: debt, dtype: int64"
      ]
     },
     "execution_count": 35,
     "metadata": {},
     "output_type": "execute_result"
    }
   ],
   "source": [
    "data['debt'].value_counts()"
   ]
  },
  {
   "cell_type": "markdown",
   "id": "a533814a",
   "metadata": {},
   "source": [
    "Доля невыплаченных кредитов от общего количества взятых составляет в процентах:"
   ]
  },
  {
   "cell_type": "code",
   "execution_count": 36,
   "id": "d324a598",
   "metadata": {},
   "outputs": [
    {
     "data": {
      "text/plain": [
       "8.115036822970076"
      ]
     },
     "execution_count": 36,
     "metadata": {},
     "output_type": "execute_result"
    }
   ],
   "source": [
    "data['debt'].sum() / data['debt'].count()*100"
   ]
  },
  {
   "cell_type": "markdown",
   "id": "befb85a2",
   "metadata": {},
   "source": [
    "Сгруппируем заемщиков по количеству детей с помощью метода `groupby()`, и оценим общее количество невыплаченных кредитов по полученных группам с помощью метода `sum()`. Далее отнесем полученное количество невыплаченных кредитов по группам к количеству всех невыплаченных кредитов. Общее всех невыплаченных кредитов получим с помощью метода `sum()`, примененного к столбцу `debt`:"
   ]
  },
  {
   "cell_type": "code",
   "execution_count": 37,
   "id": "a3687d86",
   "metadata": {},
   "outputs": [
    {
     "data": {
      "text/plain": [
       "children\n",
       "0    61.056864\n",
       "1    25.560023\n",
       "2    11.602527\n",
       "3     1.550833\n",
       "4     0.229753\n",
       "5     0.000000\n",
       "Name: debt, dtype: float64"
      ]
     },
     "execution_count": 37,
     "metadata": {},
     "output_type": "execute_result"
    }
   ],
   "source": [
    "(data.groupby('children')['debt'].sum()) / (data['debt'].sum())*100\n"
   ]
  },
  {
   "cell_type": "markdown",
   "id": "9b81c6ae",
   "metadata": {},
   "source": [
    "Получается, что больший процент невыплаченных кредитов соответствует группе заемщиков без детей. С ростом количества детей процент невыплаченных кредитов снижается и достигает своего минимума 0 процентов для группы людей с 5 детьми. \n",
    "\n",
    "Однако, необходимо учитывать тот факт, что количество взятых кредитов может различаться по группам.\n",
    "\n",
    "Так, среди поданных заявок можно выделить 6 групп, различающихся по количеству детей. Каждой группе соответствует свое количество поданных заявок, среди которых есть как погашенные, так и непогашенные кредиты. Найдем общее количество взятых кредитов по каждой группе методом `count()`, а также количество невыплаченных кредитов по каждой группе `sum()`.\n",
    "\n",
    "Приведем данные в сводной таблице с помощью метода `pivot_table()`:"
   ]
  },
  {
   "cell_type": "code",
   "execution_count": 38,
   "id": "d0198d91",
   "metadata": {
    "scrolled": true
   },
   "outputs": [
    {
     "data": {
      "text/html": [
       "<div>\n",
       "<style scoped>\n",
       "    .dataframe tbody tr th:only-of-type {\n",
       "        vertical-align: middle;\n",
       "    }\n",
       "\n",
       "    .dataframe tbody tr th {\n",
       "        vertical-align: top;\n",
       "    }\n",
       "\n",
       "    .dataframe thead th {\n",
       "        text-align: right;\n",
       "    }\n",
       "</style>\n",
       "<table border=\"1\" class=\"dataframe\">\n",
       "  <thead>\n",
       "    <tr style=\"text-align: right;\">\n",
       "      <th>children</th>\n",
       "      <th>0</th>\n",
       "      <th>1</th>\n",
       "      <th>2</th>\n",
       "      <th>3</th>\n",
       "      <th>4</th>\n",
       "      <th>5</th>\n",
       "    </tr>\n",
       "  </thead>\n",
       "  <tbody>\n",
       "    <tr>\n",
       "      <th>debt</th>\n",
       "      <td>14091</td>\n",
       "      <td>4855</td>\n",
       "      <td>2128</td>\n",
       "      <td>330</td>\n",
       "      <td>41</td>\n",
       "      <td>9</td>\n",
       "    </tr>\n",
       "  </tbody>\n",
       "</table>\n",
       "</div>"
      ],
      "text/plain": [
       "children      0     1     2    3   4  5\n",
       "debt      14091  4855  2128  330  41  9"
      ]
     },
     "metadata": {},
     "output_type": "display_data"
    }
   ],
   "source": [
    "display(data.pivot_table(columns='children', values='debt', aggfunc='count'))"
   ]
  },
  {
   "cell_type": "code",
   "execution_count": 39,
   "id": "30dee559",
   "metadata": {},
   "outputs": [
    {
     "data": {
      "text/html": [
       "<div>\n",
       "<style scoped>\n",
       "    .dataframe tbody tr th:only-of-type {\n",
       "        vertical-align: middle;\n",
       "    }\n",
       "\n",
       "    .dataframe tbody tr th {\n",
       "        vertical-align: top;\n",
       "    }\n",
       "\n",
       "    .dataframe thead th {\n",
       "        text-align: right;\n",
       "    }\n",
       "</style>\n",
       "<table border=\"1\" class=\"dataframe\">\n",
       "  <thead>\n",
       "    <tr style=\"text-align: right;\">\n",
       "      <th>children</th>\n",
       "      <th>0</th>\n",
       "      <th>1</th>\n",
       "      <th>2</th>\n",
       "      <th>3</th>\n",
       "      <th>4</th>\n",
       "      <th>5</th>\n",
       "    </tr>\n",
       "  </thead>\n",
       "  <tbody>\n",
       "    <tr>\n",
       "      <th>debt</th>\n",
       "      <td>1063</td>\n",
       "      <td>445</td>\n",
       "      <td>202</td>\n",
       "      <td>27</td>\n",
       "      <td>4</td>\n",
       "      <td>0</td>\n",
       "    </tr>\n",
       "  </tbody>\n",
       "</table>\n",
       "</div>"
      ],
      "text/plain": [
       "children     0    1    2   3  4  5\n",
       "debt      1063  445  202  27  4  0"
      ]
     },
     "metadata": {},
     "output_type": "display_data"
    }
   ],
   "source": [
    "display(data.pivot_table(columns='children', values='debt', aggfunc='sum'))"
   ]
  },
  {
   "cell_type": "markdown",
   "id": "3b365ef6",
   "metadata": {},
   "source": [
    "В процентном соотношении к общему числу поданных заявок для каждой из групп количество взятых кредитов составляет:"
   ]
  },
  {
   "cell_type": "code",
   "execution_count": 40,
   "id": "e4c6d835",
   "metadata": {},
   "outputs": [
    {
     "data": {
      "text/plain": [
       "children\n",
       "0    65.680060\n",
       "1    22.629813\n",
       "2     9.918896\n",
       "3     1.538175\n",
       "4     0.191107\n",
       "5     0.041950\n",
       "Name: debt, dtype: float64"
      ]
     },
     "execution_count": 40,
     "metadata": {},
     "output_type": "execute_result"
    }
   ],
   "source": [
    "data.groupby('children')['debt'].count() / data['debt'].count()*100"
   ]
  },
  {
   "cell_type": "markdown",
   "id": "1dffb4e0",
   "metadata": {},
   "source": [
    "То есть, люди без детей чаще всего берут кредиты, с ростом количества детей падает количество взятых кредитов до минимума, соответствующему 5 детям и 0,04 процента.\n",
    "\n",
    "Далее найдем долю невыплаченных кредитов среди всех взятых по группам:"
   ]
  },
  {
   "cell_type": "code",
   "execution_count": 41,
   "id": "89154a44",
   "metadata": {},
   "outputs": [
    {
     "data": {
      "text/plain": [
       "children\n",
       "0    7.543822\n",
       "1    9.165808\n",
       "2    9.492481\n",
       "3    8.181818\n",
       "4    9.756098\n",
       "5    0.000000\n",
       "Name: debt, dtype: float64"
      ]
     },
     "execution_count": 41,
     "metadata": {},
     "output_type": "execute_result"
    }
   ],
   "source": [
    "data.groupby('children')['debt'].sum() / data.groupby('children')['debt'].count()*100"
   ]
  },
  {
   "cell_type": "markdown",
   "id": "8d7d36d5",
   "metadata": {},
   "source": [
    "Визуализируем данные с помощью столбчатой диаграммы `barplot()` из библиотеки `seaborn`. Для этого преобразуем полученный выше `Series` в список с помощью метода `tolist()` и создадим второй список с количеством детей."
   ]
  },
  {
   "cell_type": "code",
   "execution_count": 42,
   "id": "b0bc1b85",
   "metadata": {},
   "outputs": [
    {
     "data": {
      "text/plain": [
       "<AxesSubplot:>"
      ]
     },
     "execution_count": 42,
     "metadata": {},
     "output_type": "execute_result"
    },
    {
     "data": {
      "image/png": "[encoded data removed]",
      "text/plain": [
       "<Figure size 432x288 with 1 Axes>"
      ]
     },
     "metadata": {
      "needs_background": "light"
     },
     "output_type": "display_data"
    }
   ],
   "source": [
    "debt_child_percentage = (data.groupby('children')['debt'].sum() / data.groupby('children')['debt'].count()*100).tolist()\n",
    "children = [0, 1, 2, 3, 4, 5]\n",
    "\n",
    "import seaborn\n",
    "seaborn.barplot(x=children, y=debt_child_percentage)"
   ]
  },
  {
   "cell_type": "markdown",
   "id": "2ee22a0f",
   "metadata": {},
   "source": [
    "Выводы:\n",
    "\n",
    "* Люди без детей чаще всего берут кредиты, с ростом количества детей падает количество взятых кредитов до минимума, соответствующему 5 детям и 0,04 процента. \n",
    "* Относить количество невыплаченных кредитов по каждой из групп к общему количеству поданных заявок некорректно, следует рассматривать отношение невыплаченных кредитов к количеству взятых отдельно для каждой группы.\n",
    "* Максимальный процент соответствует группе с 4 детьми и составляет 9,76 процента. Минимальный процент соответствует группе без детей и составляет 7,54 процента. В целом наблюдается рост невыплаченных кредитов с ростом количества детей, за исключением групп с 3 и 5 детьми. Для группы с количеством детей, равным 5, количество невыплаченных кредитов стремится к 0. При количестве детей, равном 3-детям, также наблюдается небольшое снижение до 8,18 процента. \n"
   ]
  },
  {
   "cell_type": "markdown",
   "id": "c1f016bb",
   "metadata": {},
   "source": [
    "<div class=\"alert alert-success\">\n",
    "<b>✔️ Комментарий ревьюера v1:</b> \n",
    "<br>Верно! \n",
    "</div>"
   ]
  },
  {
   "cell_type": "markdown",
   "id": "9ae1fec8",
   "metadata": {},
   "source": [
    "<div class=\"alert alert-info\">\n",
    "<b>Комментарий студента:</b>\n",
    "<br>Немного изменились выводы, так как 20 детей уже больше в данных нет.)\n",
    "</div>"
   ]
  },
  {
   "cell_type": "markdown",
   "id": "1c4d114f",
   "metadata": {},
   "source": [
    "<div class=\"alert alert-success\">\n",
    "<b>✔️ Комментарий ревьюера v2:</b>\n",
    "<br>👍\n",
    "</div>"
   ]
  },
  {
   "cell_type": "markdown",
   "id": "d20006fd",
   "metadata": {},
   "source": [
    "### Вывод 2:"
   ]
  },
  {
   "cell_type": "markdown",
   "id": "deae7836",
   "metadata": {},
   "source": [
    "Есть ли зависимость между семейным положением и возвратом кредита в срок?\n",
    "\n",
    "Приведем соответствие семейного статуса и индекса семейного статуса:"
   ]
  },
  {
   "cell_type": "code",
   "execution_count": 43,
   "id": "677ff018",
   "metadata": {},
   "outputs": [
    {
     "data": {
      "text/html": [
       "<div>\n",
       "<style scoped>\n",
       "    .dataframe tbody tr th:only-of-type {\n",
       "        vertical-align: middle;\n",
       "    }\n",
       "\n",
       "    .dataframe tbody tr th {\n",
       "        vertical-align: top;\n",
       "    }\n",
       "\n",
       "    .dataframe thead th {\n",
       "        text-align: right;\n",
       "    }\n",
       "</style>\n",
       "<table border=\"1\" class=\"dataframe\">\n",
       "  <thead>\n",
       "    <tr style=\"text-align: right;\">\n",
       "      <th></th>\n",
       "      <th>family_status</th>\n",
       "      <th>family_status_id</th>\n",
       "    </tr>\n",
       "  </thead>\n",
       "  <tbody>\n",
       "    <tr>\n",
       "      <th>0</th>\n",
       "      <td>женат / замужем</td>\n",
       "      <td>0</td>\n",
       "    </tr>\n",
       "    <tr>\n",
       "      <th>1</th>\n",
       "      <td>гражданский брак</td>\n",
       "      <td>1</td>\n",
       "    </tr>\n",
       "    <tr>\n",
       "      <th>2</th>\n",
       "      <td>вдовец / вдова</td>\n",
       "      <td>2</td>\n",
       "    </tr>\n",
       "    <tr>\n",
       "      <th>3</th>\n",
       "      <td>в разводе</td>\n",
       "      <td>3</td>\n",
       "    </tr>\n",
       "    <tr>\n",
       "      <th>4</th>\n",
       "      <td>не женат / не замужем</td>\n",
       "      <td>4</td>\n",
       "    </tr>\n",
       "  </tbody>\n",
       "</table>\n",
       "</div>"
      ],
      "text/plain": [
       "           family_status  family_status_id\n",
       "0        женат / замужем                 0\n",
       "1       гражданский брак                 1\n",
       "2         вдовец / вдова                 2\n",
       "3              в разводе                 3\n",
       "4  не женат / не замужем                 4"
      ]
     },
     "metadata": {},
     "output_type": "display_data"
    }
   ],
   "source": [
    "display(family_status_dict)"
   ]
  },
  {
   "cell_type": "markdown",
   "id": "393534b2",
   "metadata": {},
   "source": [
    "Найдем количество взятых кредитов по каждой из групп по семейному статусу, используя метод `count()` и `pivot_table()`:"
   ]
  },
  {
   "cell_type": "code",
   "execution_count": 44,
   "id": "2d439e3e",
   "metadata": {},
   "outputs": [
    {
     "data": {
      "text/html": [
       "<div>\n",
       "<style scoped>\n",
       "    .dataframe tbody tr th:only-of-type {\n",
       "        vertical-align: middle;\n",
       "    }\n",
       "\n",
       "    .dataframe tbody tr th {\n",
       "        vertical-align: top;\n",
       "    }\n",
       "\n",
       "    .dataframe thead th {\n",
       "        text-align: right;\n",
       "    }\n",
       "</style>\n",
       "<table border=\"1\" class=\"dataframe\">\n",
       "  <thead>\n",
       "    <tr style=\"text-align: right;\">\n",
       "      <th>family_status_id</th>\n",
       "      <th>0</th>\n",
       "      <th>1</th>\n",
       "      <th>2</th>\n",
       "      <th>3</th>\n",
       "      <th>4</th>\n",
       "    </tr>\n",
       "  </thead>\n",
       "  <tbody>\n",
       "    <tr>\n",
       "      <th>debt</th>\n",
       "      <td>12339</td>\n",
       "      <td>4151</td>\n",
       "      <td>959</td>\n",
       "      <td>1195</td>\n",
       "      <td>2810</td>\n",
       "    </tr>\n",
       "  </tbody>\n",
       "</table>\n",
       "</div>"
      ],
      "text/plain": [
       "family_status_id      0     1    2     3     4\n",
       "debt              12339  4151  959  1195  2810"
      ]
     },
     "metadata": {},
     "output_type": "display_data"
    }
   ],
   "source": [
    "display(data.pivot_table(columns='family_status_id', values='debt', aggfunc='count'))"
   ]
  },
  {
   "cell_type": "markdown",
   "id": "4e086a47",
   "metadata": {},
   "source": [
    "Найдем долю, которую составляет количество поданных заявок на кредит по категориям семейного положения  от общего количества заявок, в процентах. Для этого сгруппируем датафрейм `data` по столбцу `family_status_id` и найдем методом `count()` количество заявок  в столбце `debt`, и разделим на общее количество заявок найденное методом `count()` по столбцу `debt`:"
   ]
  },
  {
   "cell_type": "code",
   "execution_count": 45,
   "id": "2110d41f",
   "metadata": {},
   "outputs": [
    {
     "data": {
      "text/plain": [
       "family_status_id\n",
       "0    57.513750\n",
       "1    19.348373\n",
       "2     4.470029\n",
       "3     5.570057\n",
       "4    13.097791\n",
       "Name: debt, dtype: float64"
      ]
     },
     "execution_count": 45,
     "metadata": {},
     "output_type": "execute_result"
    }
   ],
   "source": [
    "data.groupby('family_status_id')['debt'].count() / data['debt'].count()*100"
   ]
  },
  {
   "cell_type": "markdown",
   "id": "f18f4cd2",
   "metadata": {},
   "source": [
    "Видно, что чаще всего кредит берет группа с семейным статусом `женат/замужем` - более 57%, реже всего - группа с семейным статусом `вдовец/вдова` - 4,5%. Около 19% составляет группа с семейным статусом `гражданский брак`, около 13% - группа с семейным статусом `не женат / не замужем`. Группа с семейным статусом `в разводе` составляет 5,6%.\n",
    "\n",
    "Оценим количество невыплаченных кредитов по группам с помощью метода `sum()` и `pivot_table()`:"
   ]
  },
  {
   "cell_type": "code",
   "execution_count": 46,
   "id": "0003914d",
   "metadata": {},
   "outputs": [
    {
     "data": {
      "text/html": [
       "<div>\n",
       "<style scoped>\n",
       "    .dataframe tbody tr th:only-of-type {\n",
       "        vertical-align: middle;\n",
       "    }\n",
       "\n",
       "    .dataframe tbody tr th {\n",
       "        vertical-align: top;\n",
       "    }\n",
       "\n",
       "    .dataframe thead th {\n",
       "        text-align: right;\n",
       "    }\n",
       "</style>\n",
       "<table border=\"1\" class=\"dataframe\">\n",
       "  <thead>\n",
       "    <tr style=\"text-align: right;\">\n",
       "      <th>family_status_id</th>\n",
       "      <th>0</th>\n",
       "      <th>1</th>\n",
       "      <th>2</th>\n",
       "      <th>3</th>\n",
       "      <th>4</th>\n",
       "    </tr>\n",
       "  </thead>\n",
       "  <tbody>\n",
       "    <tr>\n",
       "      <th>debt</th>\n",
       "      <td>931</td>\n",
       "      <td>388</td>\n",
       "      <td>63</td>\n",
       "      <td>85</td>\n",
       "      <td>274</td>\n",
       "    </tr>\n",
       "  </tbody>\n",
       "</table>\n",
       "</div>"
      ],
      "text/plain": [
       "family_status_id    0    1   2   3    4\n",
       "debt              931  388  63  85  274"
      ]
     },
     "metadata": {},
     "output_type": "display_data"
    }
   ],
   "source": [
    "display(data.pivot_table(columns='family_status_id', values='debt', aggfunc='sum'))"
   ]
  },
  {
   "cell_type": "markdown",
   "id": "ce50c65a",
   "metadata": {},
   "source": [
    "Найдем долю невыплаченных кредитов по группам в процентах. Для этого сгруппируем датафрейм `data` по столбцу `family_status_id` и найдем методом `sum()` сумму всех задолженностей в столбце `debt`, и разделим на общее количество заявок для этой же группировки , найденное методом `count()` по столбцу `debt`:"
   ]
  },
  {
   "cell_type": "code",
   "execution_count": 47,
   "id": "cc977c06",
   "metadata": {},
   "outputs": [
    {
     "data": {
      "text/plain": [
       "family_status_id\n",
       "0    7.545182\n",
       "1    9.347145\n",
       "2    6.569343\n",
       "3    7.112971\n",
       "4    9.750890\n",
       "Name: debt, dtype: float64"
      ]
     },
     "execution_count": 47,
     "metadata": {},
     "output_type": "execute_result"
    }
   ],
   "source": [
    "data.groupby('family_status_id')['debt'].sum() / data.groupby('family_status_id')['debt'].count()*100"
   ]
  },
  {
   "cell_type": "markdown",
   "id": "4e8662ad",
   "metadata": {},
   "source": [
    "Максимальный процент невыплаченных кредитов `9.75%` соответствует группе с индексом `4` - `не женат / не замужем`, минимальный `6.57%` - группе с индексом `2` - `вдовец/вдова`. Близко по значениям к группе с индексом `4` находится группа `1` - `гражданский брак`, процент невыплаченных кредитов составляет `9.35%`. Значение `7.11%` в группе с индексом `3` - `в разводе` близко к значению `7.54%` для группы `0` - `женат/замужем`. \n",
    "\n",
    "Для наглядности приведем столбчатую диаграмму `barplot()` из библиотеки `seaborn`. Сформируем два списка :\n",
    "* `debt_family_percentage` - используем функцию `sorted()` к вышеописанному отношению невыплаченных кредитов по группам в процентах;\n",
    "* `family_status_list` - соответствует семейному положению."
   ]
  },
  {
   "cell_type": "code",
   "execution_count": 48,
   "id": "3395cd27",
   "metadata": {},
   "outputs": [
    {
     "data": {
      "text/plain": [
       "<AxesSubplot:>"
      ]
     },
     "execution_count": 48,
     "metadata": {},
     "output_type": "execute_result"
    },
    {
     "data": {
      "image/png": "[encoded data removed]",
      "text/plain": [
       "<Figure size 432x288 with 1 Axes>"
      ]
     },
     "metadata": {
      "needs_background": "light"
     },
     "output_type": "display_data"
    }
   ],
   "source": [
    "debt_family_percentage = sorted(data.groupby('family_status_id')['debt'].sum() / data.groupby('family_status_id')['debt'].count()*100)\n",
    "family_status_list = ['вдовец/вдова', 'в разводе', 'женат/замужем', 'гражданский брак', 'не женат / не замужем']\n",
    "\n",
    "import seaborn\n",
    "seaborn.barplot(x=debt_family_percentage, y=family_status_list)"
   ]
  },
  {
   "cell_type": "markdown",
   "id": "9cb1011b",
   "metadata": {},
   "source": [
    "Выводы:\n",
    "\n",
    "* Видно, что чаще всего кредит берет группа с семейным статусом `женат/замужем` - более 57%, реже всего - группа с семейным статусом `вдовец/вдова` - 4,5%. Около 19% составляет группа с семейным статусом `гражданский брак`, около 13% - группа с семейным статусом `не женат / не замужем`. Группа с семейным статусом `в разводе` составляет 5,6%.\n",
    "* Максимальный процент невыплаченных кредитов `9.75%` соответствует группе с индексом `4` - `не женат / не замужем`, минимальный `6.57%` - группе с индексом `2` - `вдовец/вдова`. Близко по значениям к группе с индексом `4` находится группа `1` - `гражданский брак`, процент невыплаченных кредитов составляет `9.35%`. Значение `7.11%` в группе с индексом `3` - `в разводе` близко к значению `7.54%` для группы `0` - `женат/замужем`. \n",
    "* По возрастанию процента невыплаченных кредитов группы располагаются в следующем порядке: `вдовец/вдова`, `в разводе`, `женат/замужем`, `гражданский брак`, `не женат / не замужем`."
   ]
  },
  {
   "cell_type": "markdown",
   "id": "b49a37f8",
   "metadata": {},
   "source": [
    "<div class=\"alert alert-success\">\n",
    "<b>✔️ Комментарий ревьюера v1:</b> \n",
    "<br>Согласен! Идём дальше)\n",
    "</div>"
   ]
  },
  {
   "cell_type": "markdown",
   "id": "474ba4fc",
   "metadata": {},
   "source": [
    "### Вывод 3:"
   ]
  },
  {
   "cell_type": "markdown",
   "id": "0b8243c0",
   "metadata": {},
   "source": [
    "Есть ли зависимость между уровнем дохода и возвратом кредита в срок?"
   ]
  },
  {
   "cell_type": "markdown",
   "id": "bf53f590",
   "metadata": {},
   "source": [
    "Найдем количество взятых кредитов по каждой из категорий по доходу, используя метод `count()` и `pivot_table()`:"
   ]
  },
  {
   "cell_type": "code",
   "execution_count": 49,
   "id": "9228d585",
   "metadata": {},
   "outputs": [
    {
     "data": {
      "text/html": [
       "<div>\n",
       "<style scoped>\n",
       "    .dataframe tbody tr th:only-of-type {\n",
       "        vertical-align: middle;\n",
       "    }\n",
       "\n",
       "    .dataframe tbody tr th {\n",
       "        vertical-align: top;\n",
       "    }\n",
       "\n",
       "    .dataframe thead th {\n",
       "        text-align: right;\n",
       "    }\n",
       "</style>\n",
       "<table border=\"1\" class=\"dataframe\">\n",
       "  <thead>\n",
       "    <tr style=\"text-align: right;\">\n",
       "      <th>total_income_category</th>\n",
       "      <th>A</th>\n",
       "      <th>B</th>\n",
       "      <th>C</th>\n",
       "      <th>D</th>\n",
       "      <th>E</th>\n",
       "    </tr>\n",
       "  </thead>\n",
       "  <tbody>\n",
       "    <tr>\n",
       "      <th>debt</th>\n",
       "      <td>25</td>\n",
       "      <td>5042</td>\n",
       "      <td>16015</td>\n",
       "      <td>350</td>\n",
       "      <td>22</td>\n",
       "    </tr>\n",
       "  </tbody>\n",
       "</table>\n",
       "</div>"
      ],
      "text/plain": [
       "total_income_category   A     B      C    D   E\n",
       "debt                   25  5042  16015  350  22"
      ]
     },
     "metadata": {},
     "output_type": "display_data"
    }
   ],
   "source": [
    "display(data.pivot_table(columns='total_income_category', values='debt', aggfunc='count'))"
   ]
  },
  {
   "cell_type": "markdown",
   "id": "223e325b",
   "metadata": {},
   "source": [
    "Найдем долю, которую составляет количество поданных заявок на кредит по категориям дохода от общего количества заявок, в процентах. Для этого сгруппируем датафрейм `data` по столбцу `total_income_category` и найдем методом `count()` количество заявок  в столбце `debt`, и разделим на общее количество заявок найденное методом `count()` по столбцу `debt`:"
   ]
  },
  {
   "cell_type": "code",
   "execution_count": 50,
   "id": "86ab8ff3",
   "metadata": {},
   "outputs": [
    {
     "data": {
      "text/plain": [
       "total_income_category\n",
       "A     0.116528\n",
       "B    23.501445\n",
       "C    74.648084\n",
       "D     1.631397\n",
       "E     0.102545\n",
       "Name: debt, dtype: float64"
      ]
     },
     "execution_count": 50,
     "metadata": {},
     "output_type": "execute_result"
    }
   ],
   "source": [
    "data.groupby('total_income_category')['debt'].count() / data['debt'].count()*100"
   ]
  },
  {
   "cell_type": "markdown",
   "id": "6244f963",
   "metadata": {},
   "source": [
    "Больше всего заявок на кредит подано категорией `'C'` (около 75%), меньше всего - категорией `'E'` (0,11%). Категория `'А'` близка по значениям количества поданных заявок (0,12%) на кредит к категории `'E'`. Весомой категорией является `'В'`, в которой процент заявок соответствует 23,5% от общего количества поданных заявок. Категории `'D'` соответствует 1,6%.\n",
    "\n",
    "Оценим количество невыплаченных кредитов по категориям дохода с помощью метода `sum()` и `pivot_table()`:"
   ]
  },
  {
   "cell_type": "code",
   "execution_count": 51,
   "id": "c6f7aa43",
   "metadata": {},
   "outputs": [
    {
     "data": {
      "text/html": [
       "<div>\n",
       "<style scoped>\n",
       "    .dataframe tbody tr th:only-of-type {\n",
       "        vertical-align: middle;\n",
       "    }\n",
       "\n",
       "    .dataframe tbody tr th {\n",
       "        vertical-align: top;\n",
       "    }\n",
       "\n",
       "    .dataframe thead th {\n",
       "        text-align: right;\n",
       "    }\n",
       "</style>\n",
       "<table border=\"1\" class=\"dataframe\">\n",
       "  <thead>\n",
       "    <tr style=\"text-align: right;\">\n",
       "      <th>total_income_category</th>\n",
       "      <th>A</th>\n",
       "      <th>B</th>\n",
       "      <th>C</th>\n",
       "      <th>D</th>\n",
       "      <th>E</th>\n",
       "    </tr>\n",
       "  </thead>\n",
       "  <tbody>\n",
       "    <tr>\n",
       "      <th>debt</th>\n",
       "      <td>2</td>\n",
       "      <td>356</td>\n",
       "      <td>1360</td>\n",
       "      <td>21</td>\n",
       "      <td>2</td>\n",
       "    </tr>\n",
       "  </tbody>\n",
       "</table>\n",
       "</div>"
      ],
      "text/plain": [
       "total_income_category  A    B     C   D  E\n",
       "debt                   2  356  1360  21  2"
      ]
     },
     "metadata": {},
     "output_type": "display_data"
    }
   ],
   "source": [
    "display(data.pivot_table(columns='total_income_category', values='debt', aggfunc='sum'))"
   ]
  },
  {
   "cell_type": "markdown",
   "id": "c2724e89",
   "metadata": {},
   "source": [
    "Найдем долю невыплаченных кредитов по категориям в процентах. Для этого сгруппируем датафрейм `data` по столбцу `total_income_category` и найдем методом `sum()` сумму всех задолженностей в столбце `debt`, и разделим на общее количество заявок для этой же группировки , найденное методом `count()` по столбцу `debt`:"
   ]
  },
  {
   "cell_type": "code",
   "execution_count": 52,
   "id": "51ecebcf",
   "metadata": {
    "scrolled": true
   },
   "outputs": [
    {
     "data": {
      "text/plain": [
       "total_income_category\n",
       "A    8.000000\n",
       "B    7.060690\n",
       "C    8.492039\n",
       "D    6.000000\n",
       "E    9.090909\n",
       "Name: debt, dtype: float64"
      ]
     },
     "execution_count": 52,
     "metadata": {},
     "output_type": "execute_result"
    }
   ],
   "source": [
    "data.groupby('total_income_category')['debt'].sum() / data.groupby('total_income_category')['debt'].count()*100"
   ]
  },
  {
   "cell_type": "markdown",
   "id": "34b21d31",
   "metadata": {},
   "source": [
    "Максимальный процент 9,1% непогашенных в срок кредитов соответсвует категории `'E'`, минимальный 6% - категории `'D'`. Категории `'С'` соответсвует 8,49%, что близко к значению 8% категории `'А'`. Категории `'В'` соответсвует 7,06%.\n",
    "\n",
    "Для наглядности приведем столбчатую диаграмму `barplot()` из библиотеки `seaborn`. Сформируем два списка:\n",
    "* `debt_total_income_percentage` -  используем функцию `sorted()` к вышеописанному отношению невыплаченных кредитов по группам в процентах;\n",
    "* `total_income_list` - соответствует категории дохода."
   ]
  },
  {
   "cell_type": "code",
   "execution_count": 53,
   "id": "edee7e83",
   "metadata": {},
   "outputs": [
    {
     "data": {
      "text/plain": [
       "<AxesSubplot:>"
      ]
     },
     "execution_count": 53,
     "metadata": {},
     "output_type": "execute_result"
    },
    {
     "data": {
      "image/png": "[encoded data removed]",
      "text/plain": [
       "<Figure size 432x288 with 1 Axes>"
      ]
     },
     "metadata": {
      "needs_background": "light"
     },
     "output_type": "display_data"
    }
   ],
   "source": [
    "debt_total_income_percentage = sorted(data.groupby('total_income_category')['debt'].sum() / data.groupby('total_income_category')['debt'].count()*100)\n",
    "total_income_list = ['D','B','A','C','E']\n",
    "\n",
    "import seaborn\n",
    "seaborn.barplot(x=total_income_list, y=debt_total_income_percentage)"
   ]
  },
  {
   "cell_type": "markdown",
   "id": "f37f7a5a",
   "metadata": {},
   "source": [
    "Выводы:\n",
    "\n",
    "* Больше всего заявок на кредит подано категорией `'C'` (около 75%), меньше всего - категорией `'E'` (0,11%). Категория `'А'` близка по значениям количества поданных заявок (0,12%) на кредит к категории `'E'`. Весомой категорией является `'В'`, в которой процент заявок соответствует 23,5% от общего количества поданных заявок. Категории `'D'` соответствует 1,6%.\n",
    "* Максимальный процент 9,1% непогашенных в срок кредитов соответсвует категории `'E'`, минимальный 6% - категории `'D'`. Категории `'С'` соответсвует 8,49%, что близко к значению 8% категории `'А'`. Категории `'В'` соответсвует 7,06%.\n",
    "* По возрастанию процента невыплаченных в срок кредитов группы по доходу располагаются следующим образом: `'D'`,`'B'`,`'A'`,`'C'`,`'E'`."
   ]
  },
  {
   "cell_type": "markdown",
   "id": "975ecb5b",
   "metadata": {},
   "source": [
    "<div class=\"alert alert-success\">\n",
    "<b>✔️ Комментарий ревьюера v1:</b> \n",
    "<br>Тут всё правильно\n",
    "</div>"
   ]
  },
  {
   "cell_type": "markdown",
   "id": "7108665d",
   "metadata": {},
   "source": [
    "### Вывод 4:"
   ]
  },
  {
   "cell_type": "markdown",
   "id": "bfb93b30",
   "metadata": {},
   "source": [
    "Как разные цели кредита влияют на его возврат в срок?"
   ]
  },
  {
   "cell_type": "markdown",
   "id": "8f904090",
   "metadata": {},
   "source": [
    "Найдем количество взятых кредитов по каждой из целей кредита, используя метод `count()` и `pivot_table()`:"
   ]
  },
  {
   "cell_type": "code",
   "execution_count": 54,
   "id": "12716558",
   "metadata": {},
   "outputs": [
    {
     "data": {
      "text/html": [
       "<div>\n",
       "<style scoped>\n",
       "    .dataframe tbody tr th:only-of-type {\n",
       "        vertical-align: middle;\n",
       "    }\n",
       "\n",
       "    .dataframe tbody tr th {\n",
       "        vertical-align: top;\n",
       "    }\n",
       "\n",
       "    .dataframe thead th {\n",
       "        text-align: right;\n",
       "    }\n",
       "</style>\n",
       "<table border=\"1\" class=\"dataframe\">\n",
       "  <thead>\n",
       "    <tr style=\"text-align: right;\">\n",
       "      <th>purpose_category</th>\n",
       "      <th>операции с автомобилем</th>\n",
       "      <th>операции с недвижимостью</th>\n",
       "      <th>получение образования</th>\n",
       "      <th>проведение свадьбы</th>\n",
       "    </tr>\n",
       "  </thead>\n",
       "  <tbody>\n",
       "    <tr>\n",
       "      <th>debt</th>\n",
       "      <td>4306</td>\n",
       "      <td>10811</td>\n",
       "      <td>4013</td>\n",
       "      <td>2324</td>\n",
       "    </tr>\n",
       "  </tbody>\n",
       "</table>\n",
       "</div>"
      ],
      "text/plain": [
       "purpose_category  операции с автомобилем  операции с недвижимостью  \\\n",
       "debt                                4306                     10811   \n",
       "\n",
       "purpose_category  получение образования  проведение свадьбы  \n",
       "debt                               4013                2324  "
      ]
     },
     "metadata": {},
     "output_type": "display_data"
    }
   ],
   "source": [
    "display(data.pivot_table(columns='purpose_category', values='debt', aggfunc='count'))"
   ]
  },
  {
   "cell_type": "markdown",
   "id": "e411e147",
   "metadata": {},
   "source": [
    "Найдем долю, которую составляет количество поданных заявок на кредит по целям от общего количества заявок, в процентах. Для этого сгруппируем датафрейм `data` по столбцу `purpose_category` и найдем методом `count()` количество заявок  в столбце `debt`, и разделим на общее количество заявок найденное методом `count()` по столбцу `debt`:"
   ]
  },
  {
   "cell_type": "code",
   "execution_count": 55,
   "id": "49ad4fa9",
   "metadata": {},
   "outputs": [
    {
     "data": {
      "text/plain": [
       "purpose_category\n",
       "операции с автомобилем      20.070849\n",
       "операции с недвижимостью    50.391535\n",
       "получение образования       18.705137\n",
       "проведение свадьбы          10.832479\n",
       "Name: debt, dtype: float64"
      ]
     },
     "execution_count": 55,
     "metadata": {},
     "output_type": "execute_result"
    }
   ],
   "source": [
    "data.groupby('purpose_category')['debt'].count() / data['debt'].count()*100"
   ]
  },
  {
   "cell_type": "markdown",
   "id": "0ea726ef",
   "metadata": {},
   "source": [
    "Половине от всех поданных заявок на кредит соответствует цель `операции с недвижимостью`,  с далее следуют `20%` от поданных заявок с целью `операции с автомобилем`, около 19% соотвствуют цели `получение образования`, и только 10% - `проведение свадьбы`.\n",
    "\n",
    "Оценим количество невыплаченных кредитов по целям кредита с помощью метода `sum()` и `pivot_table()`:"
   ]
  },
  {
   "cell_type": "code",
   "execution_count": 56,
   "id": "b8aa421b",
   "metadata": {},
   "outputs": [
    {
     "data": {
      "text/html": [
       "<div>\n",
       "<style scoped>\n",
       "    .dataframe tbody tr th:only-of-type {\n",
       "        vertical-align: middle;\n",
       "    }\n",
       "\n",
       "    .dataframe tbody tr th {\n",
       "        vertical-align: top;\n",
       "    }\n",
       "\n",
       "    .dataframe thead th {\n",
       "        text-align: right;\n",
       "    }\n",
       "</style>\n",
       "<table border=\"1\" class=\"dataframe\">\n",
       "  <thead>\n",
       "    <tr style=\"text-align: right;\">\n",
       "      <th>purpose_category</th>\n",
       "      <th>операции с автомобилем</th>\n",
       "      <th>операции с недвижимостью</th>\n",
       "      <th>получение образования</th>\n",
       "      <th>проведение свадьбы</th>\n",
       "    </tr>\n",
       "  </thead>\n",
       "  <tbody>\n",
       "    <tr>\n",
       "      <th>debt</th>\n",
       "      <td>403</td>\n",
       "      <td>782</td>\n",
       "      <td>370</td>\n",
       "      <td>186</td>\n",
       "    </tr>\n",
       "  </tbody>\n",
       "</table>\n",
       "</div>"
      ],
      "text/plain": [
       "purpose_category  операции с автомобилем  операции с недвижимостью  \\\n",
       "debt                                 403                       782   \n",
       "\n",
       "purpose_category  получение образования  проведение свадьбы  \n",
       "debt                                370                 186  "
      ]
     },
     "metadata": {},
     "output_type": "display_data"
    }
   ],
   "source": [
    "display(data.pivot_table(columns='purpose_category', values='debt', aggfunc='sum'))"
   ]
  },
  {
   "cell_type": "markdown",
   "id": "c9a72a7a",
   "metadata": {},
   "source": [
    "Найдем долю невыплаченных кредитов по целям в процентах. Для этого сгруппируем датафрейм `data` по столбцу `purpose_category` и найдем методом `sum()` сумму всех задолженностей в столбце `debt`, и разделим на общее количество заявок для этой же группировки , найденное методом `count()` по столбцу `debt`:"
   ]
  },
  {
   "cell_type": "code",
   "execution_count": 57,
   "id": "08119fce",
   "metadata": {},
   "outputs": [
    {
     "data": {
      "text/plain": [
       "purpose_category\n",
       "операции с автомобилем      9.359034\n",
       "операции с недвижимостью    7.233373\n",
       "получение образования       9.220035\n",
       "проведение свадьбы          8.003442\n",
       "Name: debt, dtype: float64"
      ]
     },
     "execution_count": 57,
     "metadata": {},
     "output_type": "execute_result"
    }
   ],
   "source": [
    "data.groupby('purpose_category')['debt'].sum() / data.groupby('purpose_category')['debt'].count()*100"
   ]
  },
  {
   "cell_type": "markdown",
   "id": "5864bbfc",
   "metadata": {},
   "source": [
    "Минимальный процент невозврата кредита в срок соответсвует группе с целью `операции с недвижимостью`, далее по возрастанию идет группа с целью `проведение свадьбы`, далее группа с целью `получение образования`. Максимальный процент невозврата кредита в срок соответсвует группе с целью   `операции с автомобилем`.\n",
    "\n",
    "Для наглядности приведем столбчатую диаграмму `barplot()` из библиотеки `seaborn`. Сформируем два списка:\n",
    "* `debt_purpose_percentage` - используем функцию `sorted()` к вышеописанному отношению невыплаченных кредитов по группам в процентах;\n",
    "* `purpose_list` - соответствует цели кредита."
   ]
  },
  {
   "cell_type": "code",
   "execution_count": 58,
   "id": "e328d419",
   "metadata": {},
   "outputs": [
    {
     "data": {
      "text/plain": [
       "<AxesSubplot:>"
      ]
     },
     "execution_count": 58,
     "metadata": {},
     "output_type": "execute_result"
    },
    {
     "data": {
      "image/png": "[encoded data removed]",
      "text/plain": [
       "<Figure size 432x288 with 1 Axes>"
      ]
     },
     "metadata": {
      "needs_background": "light"
     },
     "output_type": "display_data"
    }
   ],
   "source": [
    "debt_purpose_percentage = sorted(data.groupby('purpose_category')['debt'].sum() / data.groupby('purpose_category')['debt'].count()*100)\n",
    "purpose_list = ['операции с недвижимостью','проведение свадьбы','получение образования','операции с автомобилем']\n",
    "\n",
    "import seaborn\n",
    "seaborn.barplot(x=debt_purpose_percentage, y=purpose_list)"
   ]
  },
  {
   "cell_type": "markdown",
   "id": "89bace13",
   "metadata": {},
   "source": [
    "Выводы:\n",
    "\n",
    "* Половине от всех поданных заявок на кредит соответствует цель `операции с недвижимостью`,  с далее следуют `20%` от поданных заявок с целью `операции с автомобилем`, около 19% соотвствуют цели `получение образования`, и только 10% - `проведение свадьбы`.\n",
    "* Минимальный процент невозврата кредита в срок соответсвует группе с целью `операции с недвижимостью`, далее по возрастанию идет группа с целью `проведение свадьбы`, далее группа с целью `получение образования`. Максимальный процент невозврата кредита в срок соответсвует группе с целью   `операции с автомобилем`."
   ]
  },
  {
   "cell_type": "markdown",
   "id": "c2d26a2a",
   "metadata": {},
   "source": [
    "<div class=\"alert alert-success\">\n",
    "<b>✔️ Комментарий ревьюера v1:</b>\n",
    "<br>Абсолютно верно!\n",
    "</div>"
   ]
  },
  {
   "cell_type": "markdown",
   "id": "d7825e63",
   "metadata": {},
   "source": [
    "## Общий вывод:"
   ]
  },
  {
   "cell_type": "markdown",
   "id": "0ddb0ffb",
   "metadata": {},
   "source": [
    "* **Количество детей.** Люди без детей чаще всего берут кредиты, с ростом количества детей падает количество взятых кредитов до минимума, соответствующему `5` детям и `0,04%`. Максимальный процент соответствует группе с `4` детьми и составляет `9,76%`. Минимальный процент соответствует группе без детей и составляет `7,54%`. В целом наблюдается рост невыплаченных кредитов с ростом количества детей, за исключением групп с `3` и `5` детьми. Для группы с количеством детей, равным `5`, количество невыплаченных кредитов стремится к `0`. При количестве детей, равном `3` детям, также наблюдается небольшое снижение до `8,18%`. \n",
    "* **Семейный статус.** Видно, что чаще всего кредит берет группа с семейным статусом `женат/замужем` - более `57%`, реже всего - группа с семейным статусом `вдовец/вдова` - `4,5%`. Около `19%` составляет группа с семейным статусом `гражданский брак`, около `13%` - группа с семейным статусом `не женат / не замужем`. Группа с семейным статусом `в разводе` составляет `5,6%`. По возрастанию процента невыплаченных кредитов группы располагаются в следующем порядке: `вдовец/вдова`, `в разводе`, `женат/замужем`, `гражданский брак`, `не женат / не замужем`.\n",
    "* **Категории дохода.** Больше всего заявок на кредит подано категорией `'C'` (около `75%`), меньше всего - категорией `'E'` (`0,11%`). Категория `'А'` близка по значениям количества поданных заявок (`0,12%`) на кредит к категории `'E'`. Весомой категорией является `'В'`, в которой процент заявок соответствует `23,5%` от общего количества поданных заявок. Категории `'D'` соответствует `1,6%`. По возрастанию процента невыплаченных в срок кредитов группы по доходу располагаются следующим образом: `'D'`,`'B'`,`'A'`,`'C'`,`'E'`.\n",
    "* **Цели кредита.** Половине от всех поданных заявок на кредит соответствует цель `операции с недвижимостью`,  с далее следуют `20%` от поданных заявок с целью `операции с автомобилем`, около `19%` соответствуют цели `получение образования`, и только `10%` - `проведение свадьбы`. Минимальный процент невозврата кредита в срок соответсвует группе с целью `операции с недвижимостью`, далее по возрастанию идет группа с целью `проведение свадьбы`, далее группа с целью `получение образования`. Максимальный процент невозврата кредита в срок соответсвует группе с целью  `операции с автомобилем`."
   ]
  },
  {
   "cell_type": "markdown",
   "id": "af2f06a0",
   "metadata": {},
   "source": [
    "<div class=\"alert alert-success\">\n",
    "<b>✔️ Комментарий ревьюера v1:</b> \n",
    "<br>Общий вывод верный 👍\n",
    "</div>"
   ]
  },
  {
   "cell_type": "markdown",
   "id": "535b9c33",
   "metadata": {},
   "source": [
    "<div class=\"alert alert-success\">\n",
    "<b>✔️ Итоговый комментарий ревьюера v1:</b>\n",
    "<br>Я бы мог принять твою работу с первого раза, но хочу дать тебе возможность задать мне вопросы) Если вопросов нет, то я с радостью приму проект)\n",
    "</div>"
   ]
  },
  {
   "cell_type": "markdown",
   "id": "0525db77",
   "metadata": {},
   "source": [
    "<div class=\"alert alert-info\">\n",
    "<b>Комментарий студента:</b>\n",
    "<br>Спасибо за комментарии и новые лайфхаки)\n",
    "</div>"
   ]
  },
  {
   "cell_type": "markdown",
   "id": "6cc776ba",
   "metadata": {},
   "source": [
    "<div class=\"alert alert-success\">\n",
    "<b>✔️ Итоговый комментарий ревьюера v2:</b>\n",
    "<br>Ты проделал большую работу! У тебя точные выводы с хорошей аргументацией. Здорово, что ты пишешь свои рассуждения и предположения - это помогает видеть ход твоей мысли. Отдельно хочу выделить аккуратность и структурированность твоей работы. Рад был поработать над проверкой твоего проекта! Желаю удачи в дальнейшем обучении! 😉\n",
    "</div>"
   ]
  }
 ],
 "metadata": {
  "ExecuteTimeLog": [
   {
    "duration": 115,
    "start_time": "2022-04-07T15:35:50.603Z"
   },
   {
    "duration": 62,
    "start_time": "2022-04-07T15:35:56.699Z"
   },
   {
    "duration": 525,
    "start_time": "2022-04-07T15:36:31.272Z"
   },
   {
    "duration": 76,
    "start_time": "2022-04-07T15:36:32.400Z"
   },
   {
    "duration": 112,
    "start_time": "2022-04-07T15:36:46.830Z"
   },
   {
    "duration": 4,
    "start_time": "2022-04-07T15:36:52.712Z"
   },
   {
    "duration": 79,
    "start_time": "2022-04-07T15:36:53.372Z"
   },
   {
    "duration": 98,
    "start_time": "2022-04-07T15:37:00.003Z"
   },
   {
    "duration": 67,
    "start_time": "2022-04-07T15:38:29.698Z"
   },
   {
    "duration": 20,
    "start_time": "2022-04-07T15:38:30.702Z"
   },
   {
    "duration": 22,
    "start_time": "2022-04-07T15:39:25.323Z"
   },
   {
    "duration": 3,
    "start_time": "2022-04-07T15:40:18.854Z"
   },
   {
    "duration": 81,
    "start_time": "2022-04-07T15:40:19.371Z"
   },
   {
    "duration": 19,
    "start_time": "2022-04-07T15:40:20.342Z"
   },
   {
    "duration": 20,
    "start_time": "2022-04-07T15:40:23.344Z"
   },
   {
    "duration": 426,
    "start_time": "2022-04-08T07:55:41.157Z"
   },
   {
    "duration": 79,
    "start_time": "2022-04-08T07:55:41.585Z"
   },
   {
    "duration": 22,
    "start_time": "2022-04-08T07:55:41.757Z"
   },
   {
    "duration": 18,
    "start_time": "2022-04-08T07:55:43.985Z"
   },
   {
    "duration": 22,
    "start_time": "2022-04-08T08:04:12.333Z"
   },
   {
    "duration": 13,
    "start_time": "2022-04-08T08:04:19.815Z"
   },
   {
    "duration": 11,
    "start_time": "2022-04-08T08:04:42.906Z"
   },
   {
    "duration": 7,
    "start_time": "2022-04-08T08:27:18.157Z"
   },
   {
    "duration": 13,
    "start_time": "2022-04-08T08:27:37.427Z"
   },
   {
    "duration": 5,
    "start_time": "2022-04-08T08:29:07.348Z"
   },
   {
    "duration": 15,
    "start_time": "2022-04-08T08:29:07.489Z"
   },
   {
    "duration": 8,
    "start_time": "2022-04-08T08:33:15.456Z"
   },
   {
    "duration": 13,
    "start_time": "2022-04-08T08:34:27.218Z"
   },
   {
    "duration": 23,
    "start_time": "2022-04-08T08:34:38.849Z"
   },
   {
    "duration": 16,
    "start_time": "2022-04-08T08:36:19.928Z"
   },
   {
    "duration": 3,
    "start_time": "2022-04-08T08:37:23.839Z"
   },
   {
    "duration": 4,
    "start_time": "2022-04-08T08:37:36.946Z"
   },
   {
    "duration": 6,
    "start_time": "2022-04-08T09:03:41.019Z"
   },
   {
    "duration": 7,
    "start_time": "2022-04-08T09:03:52.489Z"
   },
   {
    "duration": 7,
    "start_time": "2022-04-08T09:15:41.566Z"
   },
   {
    "duration": 3,
    "start_time": "2022-04-08T09:17:39.347Z"
   },
   {
    "duration": 4,
    "start_time": "2022-04-08T09:17:42.319Z"
   },
   {
    "duration": 4,
    "start_time": "2022-04-08T09:17:43.900Z"
   },
   {
    "duration": 5,
    "start_time": "2022-04-08T09:17:54.137Z"
   },
   {
    "duration": 3,
    "start_time": "2022-04-08T09:19:50.518Z"
   },
   {
    "duration": 5,
    "start_time": "2022-04-08T09:19:53.238Z"
   },
   {
    "duration": 4,
    "start_time": "2022-04-08T09:21:28.087Z"
   },
   {
    "duration": 6,
    "start_time": "2022-04-08T09:21:43.789Z"
   },
   {
    "duration": 4,
    "start_time": "2022-04-08T09:21:48.425Z"
   },
   {
    "duration": 6,
    "start_time": "2022-04-08T09:24:13.637Z"
   },
   {
    "duration": 7,
    "start_time": "2022-04-08T09:24:54.318Z"
   },
   {
    "duration": 7,
    "start_time": "2022-04-08T09:24:59.856Z"
   },
   {
    "duration": 5,
    "start_time": "2022-04-08T09:25:04.985Z"
   },
   {
    "duration": 6,
    "start_time": "2022-04-08T09:25:55.038Z"
   },
   {
    "duration": 6,
    "start_time": "2022-04-08T09:28:02.006Z"
   },
   {
    "duration": 5,
    "start_time": "2022-04-08T09:28:04.586Z"
   },
   {
    "duration": 6,
    "start_time": "2022-04-08T09:28:16.046Z"
   },
   {
    "duration": 6,
    "start_time": "2022-04-08T09:34:28.730Z"
   },
   {
    "duration": 7,
    "start_time": "2022-04-08T09:35:01.759Z"
   },
   {
    "duration": 11,
    "start_time": "2022-04-08T09:35:38.809Z"
   },
   {
    "duration": 9,
    "start_time": "2022-04-08T09:36:03.579Z"
   },
   {
    "duration": 3,
    "start_time": "2022-04-08T09:36:20.651Z"
   },
   {
    "duration": 79,
    "start_time": "2022-04-08T09:36:20.656Z"
   },
   {
    "duration": 15,
    "start_time": "2022-04-08T09:36:20.737Z"
   },
   {
    "duration": 19,
    "start_time": "2022-04-08T09:36:20.755Z"
   },
   {
    "duration": 13,
    "start_time": "2022-04-08T09:36:20.776Z"
   },
   {
    "duration": 52,
    "start_time": "2022-04-08T09:36:20.791Z"
   },
   {
    "duration": 7,
    "start_time": "2022-04-08T09:36:20.845Z"
   },
   {
    "duration": 32,
    "start_time": "2022-04-08T09:36:20.853Z"
   },
   {
    "duration": 4,
    "start_time": "2022-04-08T09:36:20.887Z"
   },
   {
    "duration": 41,
    "start_time": "2022-04-08T09:36:20.892Z"
   },
   {
    "duration": 9,
    "start_time": "2022-04-08T09:36:42.371Z"
   },
   {
    "duration": 3,
    "start_time": "2022-04-08T09:36:45.911Z"
   },
   {
    "duration": 65,
    "start_time": "2022-04-08T09:36:45.916Z"
   },
   {
    "duration": 14,
    "start_time": "2022-04-08T09:36:45.983Z"
   },
   {
    "duration": 37,
    "start_time": "2022-04-08T09:36:46.000Z"
   },
   {
    "duration": 13,
    "start_time": "2022-04-08T09:36:46.039Z"
   },
   {
    "duration": 15,
    "start_time": "2022-04-08T09:36:46.055Z"
   },
   {
    "duration": 7,
    "start_time": "2022-04-08T09:36:46.072Z"
   },
   {
    "duration": 58,
    "start_time": "2022-04-08T09:36:46.081Z"
   },
   {
    "duration": 5,
    "start_time": "2022-04-08T09:36:46.141Z"
   },
   {
    "duration": 12,
    "start_time": "2022-04-08T09:36:46.148Z"
   },
   {
    "duration": 6,
    "start_time": "2022-04-08T09:37:06.601Z"
   },
   {
    "duration": 10,
    "start_time": "2022-04-08T09:37:13.350Z"
   },
   {
    "duration": 3,
    "start_time": "2022-04-08T09:37:17.712Z"
   },
   {
    "duration": 67,
    "start_time": "2022-04-08T09:37:17.717Z"
   },
   {
    "duration": 14,
    "start_time": "2022-04-08T09:37:17.785Z"
   },
   {
    "duration": 18,
    "start_time": "2022-04-08T09:37:17.801Z"
   },
   {
    "duration": 19,
    "start_time": "2022-04-08T09:37:17.822Z"
   },
   {
    "duration": 14,
    "start_time": "2022-04-08T09:37:17.843Z"
   },
   {
    "duration": 7,
    "start_time": "2022-04-08T09:37:17.858Z"
   },
   {
    "duration": 14,
    "start_time": "2022-04-08T09:37:17.867Z"
   },
   {
    "duration": 49,
    "start_time": "2022-04-08T09:37:17.883Z"
   },
   {
    "duration": 7,
    "start_time": "2022-04-08T09:37:17.933Z"
   },
   {
    "duration": 7,
    "start_time": "2022-04-08T09:37:47.612Z"
   },
   {
    "duration": 6,
    "start_time": "2022-04-08T09:37:56.984Z"
   },
   {
    "duration": 2,
    "start_time": "2022-04-08T09:37:59.914Z"
   },
   {
    "duration": 61,
    "start_time": "2022-04-08T09:37:59.923Z"
   },
   {
    "duration": 15,
    "start_time": "2022-04-08T09:37:59.986Z"
   },
   {
    "duration": 30,
    "start_time": "2022-04-08T09:38:00.003Z"
   },
   {
    "duration": 11,
    "start_time": "2022-04-08T09:38:00.035Z"
   },
   {
    "duration": 18,
    "start_time": "2022-04-08T09:38:00.048Z"
   },
   {
    "duration": 6,
    "start_time": "2022-04-08T09:38:00.068Z"
   },
   {
    "duration": 14,
    "start_time": "2022-04-08T09:38:00.076Z"
   },
   {
    "duration": 40,
    "start_time": "2022-04-08T09:38:00.092Z"
   },
   {
    "duration": 6,
    "start_time": "2022-04-08T09:38:00.134Z"
   },
   {
    "duration": 7,
    "start_time": "2022-04-08T09:38:16.333Z"
   },
   {
    "duration": 6,
    "start_time": "2022-04-08T09:39:10.562Z"
   },
   {
    "duration": 3,
    "start_time": "2022-04-08T09:39:15.312Z"
   },
   {
    "duration": 72,
    "start_time": "2022-04-08T09:39:15.316Z"
   },
   {
    "duration": 14,
    "start_time": "2022-04-08T09:39:15.390Z"
   },
   {
    "duration": 18,
    "start_time": "2022-04-08T09:39:15.406Z"
   },
   {
    "duration": 11,
    "start_time": "2022-04-08T09:39:15.431Z"
   },
   {
    "duration": 16,
    "start_time": "2022-04-08T09:39:15.443Z"
   },
   {
    "duration": 5,
    "start_time": "2022-04-08T09:39:15.461Z"
   },
   {
    "duration": 8,
    "start_time": "2022-04-08T09:39:15.468Z"
   },
   {
    "duration": 5,
    "start_time": "2022-04-08T09:39:15.478Z"
   },
   {
    "duration": 49,
    "start_time": "2022-04-08T09:39:15.484Z"
   },
   {
    "duration": 8,
    "start_time": "2022-04-08T09:39:57.702Z"
   },
   {
    "duration": 9,
    "start_time": "2022-04-08T09:40:01.921Z"
   },
   {
    "duration": 3,
    "start_time": "2022-04-08T09:40:05.090Z"
   },
   {
    "duration": 67,
    "start_time": "2022-04-08T09:40:05.095Z"
   },
   {
    "duration": 14,
    "start_time": "2022-04-08T09:40:05.164Z"
   },
   {
    "duration": 20,
    "start_time": "2022-04-08T09:40:05.180Z"
   },
   {
    "duration": 30,
    "start_time": "2022-04-08T09:40:05.203Z"
   },
   {
    "duration": 15,
    "start_time": "2022-04-08T09:40:05.235Z"
   },
   {
    "duration": 10,
    "start_time": "2022-04-08T09:40:05.251Z"
   },
   {
    "duration": 11,
    "start_time": "2022-04-08T09:40:05.263Z"
   },
   {
    "duration": 5,
    "start_time": "2022-04-08T09:40:05.276Z"
   },
   {
    "duration": 54,
    "start_time": "2022-04-08T09:40:05.282Z"
   },
   {
    "duration": 7,
    "start_time": "2022-04-08T09:42:07.721Z"
   },
   {
    "duration": 8,
    "start_time": "2022-04-08T09:42:22.297Z"
   },
   {
    "duration": 7,
    "start_time": "2022-04-08T09:42:28.024Z"
   },
   {
    "duration": 3,
    "start_time": "2022-04-08T09:42:30.610Z"
   },
   {
    "duration": 78,
    "start_time": "2022-04-08T09:42:30.615Z"
   },
   {
    "duration": 13,
    "start_time": "2022-04-08T09:42:30.695Z"
   },
   {
    "duration": 24,
    "start_time": "2022-04-08T09:42:30.710Z"
   },
   {
    "duration": 11,
    "start_time": "2022-04-08T09:42:30.736Z"
   },
   {
    "duration": 15,
    "start_time": "2022-04-08T09:42:30.749Z"
   },
   {
    "duration": 7,
    "start_time": "2022-04-08T09:42:30.766Z"
   },
   {
    "duration": 13,
    "start_time": "2022-04-08T09:42:30.775Z"
   },
   {
    "duration": 43,
    "start_time": "2022-04-08T09:42:30.790Z"
   },
   {
    "duration": 23,
    "start_time": "2022-04-08T09:42:30.835Z"
   },
   {
    "duration": 18,
    "start_time": "2022-04-08T09:42:30.860Z"
   },
   {
    "duration": 6,
    "start_time": "2022-04-08T09:46:44.064Z"
   },
   {
    "duration": 5,
    "start_time": "2022-04-08T09:47:01.522Z"
   },
   {
    "duration": 5,
    "start_time": "2022-04-08T09:47:01.624Z"
   },
   {
    "duration": 5,
    "start_time": "2022-04-08T09:47:04.263Z"
   },
   {
    "duration": 5,
    "start_time": "2022-04-08T09:47:29.601Z"
   },
   {
    "duration": 5,
    "start_time": "2022-04-08T09:48:19.004Z"
   },
   {
    "duration": 6,
    "start_time": "2022-04-08T10:09:06.891Z"
   },
   {
    "duration": 7,
    "start_time": "2022-04-08T10:09:23.161Z"
   },
   {
    "duration": 6,
    "start_time": "2022-04-08T10:09:27.872Z"
   },
   {
    "duration": 4,
    "start_time": "2022-04-08T10:09:32.024Z"
   },
   {
    "duration": 5,
    "start_time": "2022-04-08T10:18:55.472Z"
   },
   {
    "duration": 7,
    "start_time": "2022-04-08T10:18:57.463Z"
   },
   {
    "duration": 7,
    "start_time": "2022-04-08T10:18:59.003Z"
   },
   {
    "duration": 2,
    "start_time": "2022-04-08T10:19:05.235Z"
   },
   {
    "duration": 92,
    "start_time": "2022-04-08T10:19:05.240Z"
   },
   {
    "duration": 14,
    "start_time": "2022-04-08T10:19:05.334Z"
   },
   {
    "duration": 27,
    "start_time": "2022-04-08T10:19:05.349Z"
   },
   {
    "duration": 14,
    "start_time": "2022-04-08T10:19:05.379Z"
   },
   {
    "duration": 38,
    "start_time": "2022-04-08T10:19:05.395Z"
   },
   {
    "duration": 5,
    "start_time": "2022-04-08T10:19:05.435Z"
   },
   {
    "duration": 14,
    "start_time": "2022-04-08T10:19:05.442Z"
   },
   {
    "duration": 11,
    "start_time": "2022-04-08T10:19:05.457Z"
   },
   {
    "duration": 8,
    "start_time": "2022-04-08T10:19:05.470Z"
   },
   {
    "duration": 13,
    "start_time": "2022-04-08T10:19:05.479Z"
   },
   {
    "duration": 19,
    "start_time": "2022-04-08T10:27:04.922Z"
   },
   {
    "duration": 18,
    "start_time": "2022-04-08T10:29:00.691Z"
   },
   {
    "duration": 7,
    "start_time": "2022-04-08T10:37:56.201Z"
   },
   {
    "duration": 7,
    "start_time": "2022-04-08T10:37:56.474Z"
   },
   {
    "duration": 4,
    "start_time": "2022-04-08T10:38:58.642Z"
   },
   {
    "duration": 19,
    "start_time": "2022-04-08T10:39:23.402Z"
   },
   {
    "duration": 4,
    "start_time": "2022-04-08T10:39:30.703Z"
   },
   {
    "duration": 18,
    "start_time": "2022-04-08T10:39:43.560Z"
   },
   {
    "duration": 18,
    "start_time": "2022-04-08T10:42:32.394Z"
   },
   {
    "duration": 7,
    "start_time": "2022-04-08T10:43:01.133Z"
   },
   {
    "duration": 5,
    "start_time": "2022-04-08T10:47:47.707Z"
   },
   {
    "duration": 8,
    "start_time": "2022-04-08T10:54:08.190Z"
   },
   {
    "duration": 6,
    "start_time": "2022-04-08T10:55:30.731Z"
   },
   {
    "duration": 7,
    "start_time": "2022-04-08T10:57:11.558Z"
   },
   {
    "duration": 7,
    "start_time": "2022-04-08T10:58:52.249Z"
   },
   {
    "duration": 50,
    "start_time": "2022-04-08T12:22:05.025Z"
   },
   {
    "duration": 381,
    "start_time": "2022-04-08T12:22:08.913Z"
   },
   {
    "duration": 70,
    "start_time": "2022-04-08T12:22:09.296Z"
   },
   {
    "duration": 19,
    "start_time": "2022-04-08T12:22:09.368Z"
   },
   {
    "duration": 16,
    "start_time": "2022-04-08T12:22:09.389Z"
   },
   {
    "duration": 11,
    "start_time": "2022-04-08T12:22:09.407Z"
   },
   {
    "duration": 12,
    "start_time": "2022-04-08T12:22:09.420Z"
   },
   {
    "duration": 6,
    "start_time": "2022-04-08T12:22:09.434Z"
   },
   {
    "duration": 41,
    "start_time": "2022-04-08T12:22:09.441Z"
   },
   {
    "duration": 7,
    "start_time": "2022-04-08T12:22:09.483Z"
   },
   {
    "duration": 8,
    "start_time": "2022-04-08T12:22:09.492Z"
   },
   {
    "duration": 18,
    "start_time": "2022-04-08T12:22:09.502Z"
   },
   {
    "duration": 3,
    "start_time": "2022-04-08T12:22:09.522Z"
   },
   {
    "duration": 22,
    "start_time": "2022-04-08T12:22:09.527Z"
   },
   {
    "duration": 32,
    "start_time": "2022-04-08T12:22:09.551Z"
   },
   {
    "duration": 23,
    "start_time": "2022-04-08T12:22:09.585Z"
   },
   {
    "duration": 33,
    "start_time": "2022-04-08T12:28:32.132Z"
   },
   {
    "duration": 20,
    "start_time": "2022-04-08T12:28:44.751Z"
   },
   {
    "duration": 26,
    "start_time": "2022-04-08T12:28:54.789Z"
   },
   {
    "duration": 30,
    "start_time": "2022-04-08T12:29:05.814Z"
   },
   {
    "duration": 16,
    "start_time": "2022-04-08T12:29:31.840Z"
   },
   {
    "duration": 3,
    "start_time": "2022-04-08T12:29:37.780Z"
   },
   {
    "duration": 63,
    "start_time": "2022-04-08T12:29:37.785Z"
   },
   {
    "duration": 12,
    "start_time": "2022-04-08T12:29:37.850Z"
   },
   {
    "duration": 21,
    "start_time": "2022-04-08T12:29:37.864Z"
   },
   {
    "duration": 10,
    "start_time": "2022-04-08T12:29:37.888Z"
   },
   {
    "duration": 13,
    "start_time": "2022-04-08T12:29:37.899Z"
   },
   {
    "duration": 5,
    "start_time": "2022-04-08T12:29:37.914Z"
   },
   {
    "duration": 7,
    "start_time": "2022-04-08T12:29:37.921Z"
   },
   {
    "duration": 6,
    "start_time": "2022-04-08T12:29:37.930Z"
   },
   {
    "duration": 44,
    "start_time": "2022-04-08T12:29:37.938Z"
   },
   {
    "duration": 17,
    "start_time": "2022-04-08T12:29:37.984Z"
   },
   {
    "duration": 3,
    "start_time": "2022-04-08T12:29:38.003Z"
   },
   {
    "duration": 17,
    "start_time": "2022-04-08T12:29:38.008Z"
   },
   {
    "duration": 6,
    "start_time": "2022-04-08T12:29:38.028Z"
   },
   {
    "duration": 49,
    "start_time": "2022-04-08T12:29:38.035Z"
   },
   {
    "duration": 16,
    "start_time": "2022-04-08T12:29:38.086Z"
   },
   {
    "duration": 30,
    "start_time": "2022-04-08T12:29:38.104Z"
   },
   {
    "duration": 4,
    "start_time": "2022-04-08T12:36:33.853Z"
   },
   {
    "duration": 18,
    "start_time": "2022-04-08T12:36:48.152Z"
   },
   {
    "duration": 30,
    "start_time": "2022-04-08T12:39:22.893Z"
   },
   {
    "duration": 7,
    "start_time": "2022-04-08T12:41:03.432Z"
   },
   {
    "duration": 8,
    "start_time": "2022-04-08T12:42:59.570Z"
   },
   {
    "duration": 8,
    "start_time": "2022-04-08T12:44:09.111Z"
   },
   {
    "duration": 7,
    "start_time": "2022-04-08T12:44:30.571Z"
   },
   {
    "duration": 7,
    "start_time": "2022-04-08T12:44:42.201Z"
   },
   {
    "duration": 7,
    "start_time": "2022-04-08T12:45:04.521Z"
   },
   {
    "duration": 6,
    "start_time": "2022-04-08T12:50:16.550Z"
   },
   {
    "duration": 11,
    "start_time": "2022-04-08T12:54:56.818Z"
   },
   {
    "duration": 14,
    "start_time": "2022-04-08T12:55:01.320Z"
   },
   {
    "duration": 16,
    "start_time": "2022-04-08T12:55:14.623Z"
   },
   {
    "duration": 18,
    "start_time": "2022-04-08T12:55:49.241Z"
   },
   {
    "duration": 8,
    "start_time": "2022-04-08T12:56:45.350Z"
   },
   {
    "duration": 9,
    "start_time": "2022-04-08T12:56:53.328Z"
   },
   {
    "duration": 8,
    "start_time": "2022-04-08T12:59:31.050Z"
   },
   {
    "duration": 8,
    "start_time": "2022-04-08T13:00:05.183Z"
   },
   {
    "duration": 18,
    "start_time": "2022-04-08T13:01:15.626Z"
   },
   {
    "duration": 19,
    "start_time": "2022-04-08T13:01:15.816Z"
   },
   {
    "duration": 22,
    "start_time": "2022-04-08T13:03:07.536Z"
   },
   {
    "duration": 21,
    "start_time": "2022-04-08T13:04:21.045Z"
   },
   {
    "duration": 9,
    "start_time": "2022-04-08T13:05:02.672Z"
   },
   {
    "duration": 7,
    "start_time": "2022-04-08T13:05:02.842Z"
   },
   {
    "duration": 7,
    "start_time": "2022-04-08T13:05:03.035Z"
   },
   {
    "duration": 8,
    "start_time": "2022-04-08T13:05:03.498Z"
   },
   {
    "duration": 17,
    "start_time": "2022-04-08T13:05:04.606Z"
   },
   {
    "duration": 21,
    "start_time": "2022-04-08T13:05:04.994Z"
   },
   {
    "duration": 22,
    "start_time": "2022-04-08T13:05:06.923Z"
   },
   {
    "duration": 55,
    "start_time": "2022-04-08T13:05:31.777Z"
   },
   {
    "duration": 19,
    "start_time": "2022-04-08T13:07:35.966Z"
   },
   {
    "duration": 20,
    "start_time": "2022-04-08T13:07:36.615Z"
   },
   {
    "duration": 110,
    "start_time": "2022-04-08T13:07:54.066Z"
   },
   {
    "duration": 1892,
    "start_time": "2022-04-08T13:07:57.384Z"
   },
   {
    "duration": 18,
    "start_time": "2022-04-08T13:08:04.775Z"
   },
   {
    "duration": 2,
    "start_time": "2022-04-08T13:08:15.452Z"
   },
   {
    "duration": 54,
    "start_time": "2022-04-08T13:08:15.456Z"
   },
   {
    "duration": 13,
    "start_time": "2022-04-08T13:08:15.511Z"
   },
   {
    "duration": 16,
    "start_time": "2022-04-08T13:08:15.526Z"
   },
   {
    "duration": 11,
    "start_time": "2022-04-08T13:08:15.543Z"
   },
   {
    "duration": 13,
    "start_time": "2022-04-08T13:08:15.579Z"
   },
   {
    "duration": 7,
    "start_time": "2022-04-08T13:08:15.594Z"
   },
   {
    "duration": 7,
    "start_time": "2022-04-08T13:08:15.602Z"
   },
   {
    "duration": 7,
    "start_time": "2022-04-08T13:08:15.610Z"
   },
   {
    "duration": 7,
    "start_time": "2022-04-08T13:08:15.619Z"
   },
   {
    "duration": 54,
    "start_time": "2022-04-08T13:08:15.628Z"
   },
   {
    "duration": 4,
    "start_time": "2022-04-08T13:08:15.683Z"
   },
   {
    "duration": 25,
    "start_time": "2022-04-08T13:08:15.688Z"
   },
   {
    "duration": 6,
    "start_time": "2022-04-08T13:08:15.714Z"
   },
   {
    "duration": 4,
    "start_time": "2022-04-08T13:08:15.722Z"
   },
   {
    "duration": 8,
    "start_time": "2022-04-08T13:08:15.728Z"
   },
   {
    "duration": 6,
    "start_time": "2022-04-08T13:08:15.738Z"
   },
   {
    "duration": 36,
    "start_time": "2022-04-08T13:08:15.746Z"
   },
   {
    "duration": 8,
    "start_time": "2022-04-08T13:08:15.784Z"
   },
   {
    "duration": 16,
    "start_time": "2022-04-08T13:08:15.793Z"
   },
   {
    "duration": 18,
    "start_time": "2022-04-08T13:08:15.811Z"
   },
   {
    "duration": 22,
    "start_time": "2022-04-08T13:08:15.830Z"
   },
   {
    "duration": 21,
    "start_time": "2022-04-08T13:08:15.879Z"
   },
   {
    "duration": 35,
    "start_time": "2022-04-08T13:08:24.545Z"
   },
   {
    "duration": 18,
    "start_time": "2022-04-08T13:09:01.334Z"
   },
   {
    "duration": 2,
    "start_time": "2022-04-08T13:09:08.189Z"
   },
   {
    "duration": 56,
    "start_time": "2022-04-08T13:09:08.195Z"
   },
   {
    "duration": 12,
    "start_time": "2022-04-08T13:09:08.254Z"
   },
   {
    "duration": 21,
    "start_time": "2022-04-08T13:09:08.268Z"
   },
   {
    "duration": 10,
    "start_time": "2022-04-08T13:09:08.291Z"
   },
   {
    "duration": 13,
    "start_time": "2022-04-08T13:09:08.302Z"
   },
   {
    "duration": 5,
    "start_time": "2022-04-08T13:09:08.317Z"
   },
   {
    "duration": 9,
    "start_time": "2022-04-08T13:09:08.324Z"
   },
   {
    "duration": 7,
    "start_time": "2022-04-08T13:09:08.334Z"
   },
   {
    "duration": 39,
    "start_time": "2022-04-08T13:09:08.343Z"
   },
   {
    "duration": 18,
    "start_time": "2022-04-08T13:09:08.385Z"
   },
   {
    "duration": 5,
    "start_time": "2022-04-08T13:09:08.405Z"
   },
   {
    "duration": 19,
    "start_time": "2022-04-08T13:09:08.411Z"
   },
   {
    "duration": 6,
    "start_time": "2022-04-08T13:09:08.432Z"
   },
   {
    "duration": 4,
    "start_time": "2022-04-08T13:09:08.439Z"
   },
   {
    "duration": 36,
    "start_time": "2022-04-08T13:09:08.444Z"
   },
   {
    "duration": 10,
    "start_time": "2022-04-08T13:09:08.482Z"
   },
   {
    "duration": 12,
    "start_time": "2022-04-08T13:09:08.494Z"
   },
   {
    "duration": 10,
    "start_time": "2022-04-08T13:09:08.508Z"
   },
   {
    "duration": 16,
    "start_time": "2022-04-08T13:09:08.520Z"
   },
   {
    "duration": 47,
    "start_time": "2022-04-08T13:09:08.538Z"
   },
   {
    "duration": 23,
    "start_time": "2022-04-08T13:09:08.586Z"
   },
   {
    "duration": 37,
    "start_time": "2022-04-08T13:09:08.610Z"
   },
   {
    "duration": 7,
    "start_time": "2022-04-08T13:11:31.227Z"
   },
   {
    "duration": 7,
    "start_time": "2022-04-08T13:11:33.603Z"
   },
   {
    "duration": 2,
    "start_time": "2022-04-08T13:11:37.027Z"
   },
   {
    "duration": 60,
    "start_time": "2022-04-08T13:11:37.034Z"
   },
   {
    "duration": 13,
    "start_time": "2022-04-08T13:11:37.096Z"
   },
   {
    "duration": 16,
    "start_time": "2022-04-08T13:11:37.111Z"
   },
   {
    "duration": 11,
    "start_time": "2022-04-08T13:11:37.128Z"
   },
   {
    "duration": 39,
    "start_time": "2022-04-08T13:11:37.141Z"
   },
   {
    "duration": 6,
    "start_time": "2022-04-08T13:11:37.182Z"
   },
   {
    "duration": 7,
    "start_time": "2022-04-08T13:11:37.190Z"
   },
   {
    "duration": 8,
    "start_time": "2022-04-08T13:11:37.198Z"
   },
   {
    "duration": 9,
    "start_time": "2022-04-08T13:11:37.208Z"
   },
   {
    "duration": 17,
    "start_time": "2022-04-08T13:11:37.218Z"
   },
   {
    "duration": 3,
    "start_time": "2022-04-08T13:11:37.237Z"
   },
   {
    "duration": 52,
    "start_time": "2022-04-08T13:11:37.242Z"
   },
   {
    "duration": 7,
    "start_time": "2022-04-08T13:11:37.296Z"
   },
   {
    "duration": 4,
    "start_time": "2022-04-08T13:11:37.306Z"
   },
   {
    "duration": 8,
    "start_time": "2022-04-08T13:11:37.312Z"
   },
   {
    "duration": 9,
    "start_time": "2022-04-08T13:11:37.321Z"
   },
   {
    "duration": 11,
    "start_time": "2022-04-08T13:11:37.331Z"
   },
   {
    "duration": 43,
    "start_time": "2022-04-08T13:11:37.344Z"
   },
   {
    "duration": 16,
    "start_time": "2022-04-08T13:11:37.389Z"
   },
   {
    "duration": 18,
    "start_time": "2022-04-08T13:11:37.407Z"
   },
   {
    "duration": 21,
    "start_time": "2022-04-08T13:11:37.427Z"
   },
   {
    "duration": 60,
    "start_time": "2022-04-08T13:11:37.450Z"
   },
   {
    "duration": 8,
    "start_time": "2022-04-08T13:11:37.513Z"
   },
   {
    "duration": 7,
    "start_time": "2022-04-08T13:11:45.626Z"
   },
   {
    "duration": 4,
    "start_time": "2022-04-08T13:11:53.893Z"
   },
   {
    "duration": 4,
    "start_time": "2022-04-08T13:12:12.924Z"
   },
   {
    "duration": 3,
    "start_time": "2022-04-08T13:12:17.755Z"
   },
   {
    "duration": 54,
    "start_time": "2022-04-08T13:12:17.762Z"
   },
   {
    "duration": 13,
    "start_time": "2022-04-08T13:12:17.818Z"
   },
   {
    "duration": 15,
    "start_time": "2022-04-08T13:12:17.833Z"
   },
   {
    "duration": 29,
    "start_time": "2022-04-08T13:12:17.850Z"
   },
   {
    "duration": 13,
    "start_time": "2022-04-08T13:12:17.881Z"
   },
   {
    "duration": 6,
    "start_time": "2022-04-08T13:12:17.895Z"
   },
   {
    "duration": 8,
    "start_time": "2022-04-08T13:12:17.902Z"
   },
   {
    "duration": 7,
    "start_time": "2022-04-08T13:12:17.913Z"
   },
   {
    "duration": 8,
    "start_time": "2022-04-08T13:12:17.922Z"
   },
   {
    "duration": 59,
    "start_time": "2022-04-08T13:12:17.933Z"
   },
   {
    "duration": 4,
    "start_time": "2022-04-08T13:12:17.993Z"
   },
   {
    "duration": 21,
    "start_time": "2022-04-08T13:12:17.998Z"
   },
   {
    "duration": 6,
    "start_time": "2022-04-08T13:12:18.021Z"
   },
   {
    "duration": 4,
    "start_time": "2022-04-08T13:12:18.029Z"
   },
   {
    "duration": 9,
    "start_time": "2022-04-08T13:12:18.035Z"
   },
   {
    "duration": 35,
    "start_time": "2022-04-08T13:12:18.045Z"
   },
   {
    "duration": 9,
    "start_time": "2022-04-08T13:12:18.081Z"
   },
   {
    "duration": 9,
    "start_time": "2022-04-08T13:12:18.091Z"
   },
   {
    "duration": 18,
    "start_time": "2022-04-08T13:12:18.102Z"
   },
   {
    "duration": 19,
    "start_time": "2022-04-08T13:12:18.122Z"
   },
   {
    "duration": 56,
    "start_time": "2022-04-08T13:12:18.142Z"
   },
   {
    "duration": 34,
    "start_time": "2022-04-08T13:12:18.200Z"
   },
   {
    "duration": 5,
    "start_time": "2022-04-08T13:12:18.236Z"
   },
   {
    "duration": 5,
    "start_time": "2022-04-08T13:12:34.074Z"
   },
   {
    "duration": 3,
    "start_time": "2022-04-08T13:12:53.795Z"
   },
   {
    "duration": 3,
    "start_time": "2022-04-08T13:13:28.215Z"
   },
   {
    "duration": 4,
    "start_time": "2022-04-08T13:13:31.315Z"
   },
   {
    "duration": 3,
    "start_time": "2022-04-08T13:13:38.396Z"
   },
   {
    "duration": 2,
    "start_time": "2022-04-08T13:18:52.193Z"
   },
   {
    "duration": 2,
    "start_time": "2022-04-08T13:18:52.804Z"
   },
   {
    "duration": 2,
    "start_time": "2022-04-08T13:18:53.146Z"
   },
   {
    "duration": 2,
    "start_time": "2022-04-08T13:18:53.606Z"
   },
   {
    "duration": 2,
    "start_time": "2022-04-08T13:18:54.737Z"
   },
   {
    "duration": 3,
    "start_time": "2022-04-08T13:18:55.159Z"
   },
   {
    "duration": 2,
    "start_time": "2022-04-08T13:18:56.163Z"
   },
   {
    "duration": 2,
    "start_time": "2022-04-08T13:18:56.938Z"
   },
   {
    "duration": 50,
    "start_time": "2022-04-08T13:18:59.665Z"
   },
   {
    "duration": 54,
    "start_time": "2022-04-08T13:23:35.816Z"
   },
   {
    "duration": 57,
    "start_time": "2022-04-08T13:23:49.388Z"
   },
   {
    "duration": 48,
    "start_time": "2022-04-08T13:24:50.483Z"
   },
   {
    "duration": 8,
    "start_time": "2022-04-08T13:24:51.710Z"
   },
   {
    "duration": 8,
    "start_time": "2022-04-08T13:24:52.855Z"
   },
   {
    "duration": 50,
    "start_time": "2022-04-08T13:25:24.405Z"
   },
   {
    "duration": 9,
    "start_time": "2022-04-08T13:25:25.787Z"
   },
   {
    "duration": 9,
    "start_time": "2022-04-08T13:25:26.225Z"
   },
   {
    "duration": 26,
    "start_time": "2022-04-08T13:25:36.806Z"
   },
   {
    "duration": 50,
    "start_time": "2022-04-08T13:25:52.926Z"
   },
   {
    "duration": 8,
    "start_time": "2022-04-08T13:25:53.968Z"
   },
   {
    "duration": 8,
    "start_time": "2022-04-08T13:25:54.595Z"
   },
   {
    "duration": 25,
    "start_time": "2022-04-08T13:25:55.938Z"
   },
   {
    "duration": 42,
    "start_time": "2022-04-08T13:25:57.736Z"
   },
   {
    "duration": 2,
    "start_time": "2022-04-08T13:26:00.866Z"
   },
   {
    "duration": 59,
    "start_time": "2022-04-08T13:26:00.870Z"
   },
   {
    "duration": 13,
    "start_time": "2022-04-08T13:26:00.931Z"
   },
   {
    "duration": 38,
    "start_time": "2022-04-08T13:26:00.946Z"
   },
   {
    "duration": 30,
    "start_time": "2022-04-08T13:26:00.986Z"
   },
   {
    "duration": 16,
    "start_time": "2022-04-08T13:26:01.017Z"
   },
   {
    "duration": 6,
    "start_time": "2022-04-08T13:26:01.035Z"
   },
   {
    "duration": 8,
    "start_time": "2022-04-08T13:26:01.042Z"
   },
   {
    "duration": 10,
    "start_time": "2022-04-08T13:26:01.052Z"
   },
   {
    "duration": 19,
    "start_time": "2022-04-08T13:26:01.064Z"
   },
   {
    "duration": 32,
    "start_time": "2022-04-08T13:26:01.085Z"
   },
   {
    "duration": 9,
    "start_time": "2022-04-08T13:26:01.119Z"
   },
   {
    "duration": 20,
    "start_time": "2022-04-08T13:26:01.129Z"
   },
   {
    "duration": 7,
    "start_time": "2022-04-08T13:26:01.151Z"
   },
   {
    "duration": 4,
    "start_time": "2022-04-08T13:26:01.160Z"
   },
   {
    "duration": 47,
    "start_time": "2022-04-08T13:26:01.179Z"
   },
   {
    "duration": 9,
    "start_time": "2022-04-08T13:26:01.228Z"
   },
   {
    "duration": 24,
    "start_time": "2022-04-08T13:26:01.238Z"
   },
   {
    "duration": 42,
    "start_time": "2022-04-08T13:26:01.263Z"
   },
   {
    "duration": 40,
    "start_time": "2022-04-08T13:26:01.307Z"
   },
   {
    "duration": 50,
    "start_time": "2022-04-08T13:26:48.775Z"
   },
   {
    "duration": 8,
    "start_time": "2022-04-08T13:33:41.486Z"
   },
   {
    "duration": 10,
    "start_time": "2022-04-08T13:33:48.843Z"
   },
   {
    "duration": 7,
    "start_time": "2022-04-08T13:34:13.666Z"
   },
   {
    "duration": 7,
    "start_time": "2022-04-08T13:34:13.806Z"
   },
   {
    "duration": 49,
    "start_time": "2022-04-08T13:34:29.756Z"
   },
   {
    "duration": 8,
    "start_time": "2022-04-08T13:35:30.916Z"
   },
   {
    "duration": 9,
    "start_time": "2022-04-08T13:35:31.387Z"
   },
   {
    "duration": 50,
    "start_time": "2022-04-08T13:35:39.173Z"
   },
   {
    "duration": 8,
    "start_time": "2022-04-08T13:35:53.147Z"
   },
   {
    "duration": 8,
    "start_time": "2022-04-08T13:35:53.376Z"
   },
   {
    "duration": 25,
    "start_time": "2022-04-08T13:36:05.793Z"
   },
   {
    "duration": 38,
    "start_time": "2022-04-08T13:36:07.026Z"
   },
   {
    "duration": 2,
    "start_time": "2022-04-08T13:36:13.697Z"
   },
   {
    "duration": 58,
    "start_time": "2022-04-08T13:36:13.701Z"
   },
   {
    "duration": 12,
    "start_time": "2022-04-08T13:36:13.761Z"
   },
   {
    "duration": 15,
    "start_time": "2022-04-08T13:36:13.774Z"
   },
   {
    "duration": 17,
    "start_time": "2022-04-08T13:36:13.792Z"
   },
   {
    "duration": 14,
    "start_time": "2022-04-08T13:36:13.810Z"
   },
   {
    "duration": 6,
    "start_time": "2022-04-08T13:36:13.825Z"
   },
   {
    "duration": 10,
    "start_time": "2022-04-08T13:36:13.832Z"
   },
   {
    "duration": 36,
    "start_time": "2022-04-08T13:36:13.843Z"
   },
   {
    "duration": 8,
    "start_time": "2022-04-08T13:36:13.880Z"
   },
   {
    "duration": 17,
    "start_time": "2022-04-08T13:36:13.889Z"
   },
   {
    "duration": 4,
    "start_time": "2022-04-08T13:36:13.908Z"
   },
   {
    "duration": 18,
    "start_time": "2022-04-08T13:36:13.914Z"
   },
   {
    "duration": 6,
    "start_time": "2022-04-08T13:36:13.934Z"
   },
   {
    "duration": 39,
    "start_time": "2022-04-08T13:36:13.941Z"
   },
   {
    "duration": 11,
    "start_time": "2022-04-08T13:36:13.982Z"
   },
   {
    "duration": 13,
    "start_time": "2022-04-08T13:36:13.995Z"
   },
   {
    "duration": 44,
    "start_time": "2022-04-08T13:36:14.010Z"
   },
   {
    "duration": 8,
    "start_time": "2022-04-08T13:36:14.056Z"
   },
   {
    "duration": 20,
    "start_time": "2022-04-08T13:36:14.065Z"
   },
   {
    "duration": 26,
    "start_time": "2022-04-08T13:36:14.087Z"
   },
   {
    "duration": 64,
    "start_time": "2022-04-08T13:36:14.115Z"
   },
   {
    "duration": 20,
    "start_time": "2022-04-08T13:50:14.534Z"
   },
   {
    "duration": 39,
    "start_time": "2022-04-08T13:50:15.356Z"
   },
   {
    "duration": 7,
    "start_time": "2022-04-08T13:51:51.426Z"
   },
   {
    "duration": 8,
    "start_time": "2022-04-08T13:51:53.023Z"
   },
   {
    "duration": 45,
    "start_time": "2022-04-08T13:51:53.334Z"
   },
   {
    "duration": 9,
    "start_time": "2022-04-08T13:51:55.146Z"
   },
   {
    "duration": 8,
    "start_time": "2022-04-08T13:51:55.307Z"
   },
   {
    "duration": 25,
    "start_time": "2022-04-08T13:51:56.816Z"
   },
   {
    "duration": 38,
    "start_time": "2022-04-08T13:51:57.826Z"
   },
   {
    "duration": 2,
    "start_time": "2022-04-08T13:54:13.139Z"
   },
   {
    "duration": 62,
    "start_time": "2022-04-08T13:54:13.143Z"
   },
   {
    "duration": 13,
    "start_time": "2022-04-08T13:54:13.207Z"
   },
   {
    "duration": 19,
    "start_time": "2022-04-08T13:54:13.222Z"
   },
   {
    "duration": 11,
    "start_time": "2022-04-08T13:54:13.244Z"
   },
   {
    "duration": 30,
    "start_time": "2022-04-08T13:54:13.256Z"
   },
   {
    "duration": 7,
    "start_time": "2022-04-08T13:54:13.288Z"
   },
   {
    "duration": 53,
    "start_time": "2022-04-08T13:54:13.296Z"
   },
   {
    "duration": 8,
    "start_time": "2022-04-08T13:54:13.378Z"
   },
   {
    "duration": 10,
    "start_time": "2022-04-08T13:54:13.388Z"
   },
   {
    "duration": 17,
    "start_time": "2022-04-08T13:54:13.399Z"
   },
   {
    "duration": 4,
    "start_time": "2022-04-08T13:54:13.418Z"
   },
   {
    "duration": 22,
    "start_time": "2022-04-08T13:54:13.423Z"
   },
   {
    "duration": 32,
    "start_time": "2022-04-08T13:54:13.448Z"
   },
   {
    "duration": 3,
    "start_time": "2022-04-08T13:54:13.482Z"
   },
   {
    "duration": 8,
    "start_time": "2022-04-08T13:54:13.487Z"
   },
   {
    "duration": 8,
    "start_time": "2022-04-08T13:54:13.497Z"
   },
   {
    "duration": 42,
    "start_time": "2022-04-08T13:54:13.507Z"
   },
   {
    "duration": 32,
    "start_time": "2022-04-08T13:54:13.551Z"
   },
   {
    "duration": 8,
    "start_time": "2022-04-08T13:54:13.585Z"
   },
   {
    "duration": 26,
    "start_time": "2022-04-08T13:54:13.594Z"
   },
   {
    "duration": 58,
    "start_time": "2022-04-08T13:54:13.621Z"
   },
   {
    "duration": 4,
    "start_time": "2022-04-08T14:12:14.078Z"
   },
   {
    "duration": 94,
    "start_time": "2022-04-08T14:12:14.085Z"
   },
   {
    "duration": 20,
    "start_time": "2022-04-08T14:12:14.182Z"
   },
   {
    "duration": 15,
    "start_time": "2022-04-08T14:12:14.205Z"
   },
   {
    "duration": 10,
    "start_time": "2022-04-08T14:12:14.222Z"
   },
   {
    "duration": 15,
    "start_time": "2022-04-08T14:12:14.234Z"
   },
   {
    "duration": 5,
    "start_time": "2022-04-08T14:12:14.279Z"
   },
   {
    "duration": 8,
    "start_time": "2022-04-08T14:12:14.285Z"
   },
   {
    "duration": 7,
    "start_time": "2022-04-08T14:12:14.294Z"
   },
   {
    "duration": 7,
    "start_time": "2022-04-08T14:12:14.303Z"
   },
   {
    "duration": 19,
    "start_time": "2022-04-08T14:12:14.312Z"
   },
   {
    "duration": 47,
    "start_time": "2022-04-08T14:12:14.333Z"
   },
   {
    "duration": 18,
    "start_time": "2022-04-08T14:12:14.383Z"
   },
   {
    "duration": 7,
    "start_time": "2022-04-08T14:12:14.403Z"
   },
   {
    "duration": 9,
    "start_time": "2022-04-08T14:12:14.412Z"
   },
   {
    "duration": 9,
    "start_time": "2022-04-08T14:12:14.423Z"
   },
   {
    "duration": 9,
    "start_time": "2022-04-08T14:12:14.434Z"
   },
   {
    "duration": 76,
    "start_time": "2022-04-08T14:12:14.444Z"
   },
   {
    "duration": 9,
    "start_time": "2022-04-08T14:12:14.522Z"
   },
   {
    "duration": 15,
    "start_time": "2022-04-08T14:12:14.533Z"
   },
   {
    "duration": 41,
    "start_time": "2022-04-08T14:12:14.550Z"
   },
   {
    "duration": 39,
    "start_time": "2022-04-08T14:12:14.593Z"
   },
   {
    "duration": 8,
    "start_time": "2022-04-08T14:38:08.120Z"
   },
   {
    "duration": 13,
    "start_time": "2022-04-08T14:39:00.916Z"
   },
   {
    "duration": 13,
    "start_time": "2022-04-08T14:39:05.431Z"
   },
   {
    "duration": 12,
    "start_time": "2022-04-08T14:40:00.706Z"
   },
   {
    "duration": 12,
    "start_time": "2022-04-08T15:22:04.131Z"
   },
   {
    "duration": 1766,
    "start_time": "2022-04-08T15:24:44.150Z"
   },
   {
    "duration": 14,
    "start_time": "2022-04-08T15:25:14.063Z"
   },
   {
    "duration": 1784,
    "start_time": "2022-04-08T15:26:52.540Z"
   },
   {
    "duration": 1774,
    "start_time": "2022-04-08T15:26:54.870Z"
   },
   {
    "duration": 1688,
    "start_time": "2022-04-08T15:26:56.959Z"
   },
   {
    "duration": 2,
    "start_time": "2022-04-08T15:27:05.166Z"
   },
   {
    "duration": 61,
    "start_time": "2022-04-08T15:27:05.170Z"
   },
   {
    "duration": 12,
    "start_time": "2022-04-08T15:27:05.233Z"
   },
   {
    "duration": 19,
    "start_time": "2022-04-08T15:27:05.248Z"
   },
   {
    "duration": 11,
    "start_time": "2022-04-08T15:27:05.278Z"
   },
   {
    "duration": 16,
    "start_time": "2022-04-08T15:27:05.291Z"
   },
   {
    "duration": 6,
    "start_time": "2022-04-08T15:27:05.309Z"
   },
   {
    "duration": 8,
    "start_time": "2022-04-08T15:27:05.317Z"
   },
   {
    "duration": 7,
    "start_time": "2022-04-08T15:27:05.328Z"
   },
   {
    "duration": 49,
    "start_time": "2022-04-08T15:27:05.336Z"
   },
   {
    "duration": 18,
    "start_time": "2022-04-08T15:27:05.387Z"
   },
   {
    "duration": 4,
    "start_time": "2022-04-08T15:27:05.407Z"
   },
   {
    "duration": 19,
    "start_time": "2022-04-08T15:27:05.413Z"
   },
   {
    "duration": 7,
    "start_time": "2022-04-08T15:27:05.433Z"
   },
   {
    "duration": 38,
    "start_time": "2022-04-08T15:27:05.441Z"
   },
   {
    "duration": 9,
    "start_time": "2022-04-08T15:27:05.481Z"
   },
   {
    "duration": 8,
    "start_time": "2022-04-08T15:27:05.492Z"
   },
   {
    "duration": 53,
    "start_time": "2022-04-08T15:27:05.502Z"
   },
   {
    "duration": 25,
    "start_time": "2022-04-08T15:27:05.557Z"
   },
   {
    "duration": 13,
    "start_time": "2022-04-08T15:27:05.584Z"
   },
   {
    "duration": 25,
    "start_time": "2022-04-08T15:27:05.599Z"
   },
   {
    "duration": 55,
    "start_time": "2022-04-08T15:27:05.626Z"
   },
   {
    "duration": 11,
    "start_time": "2022-04-08T15:27:05.684Z"
   },
   {
    "duration": 12,
    "start_time": "2022-04-08T15:27:05.698Z"
   },
   {
    "duration": 13,
    "start_time": "2022-04-08T15:27:05.712Z"
   },
   {
    "duration": 45,
    "start_time": "2022-04-09T06:59:25.571Z"
   },
   {
    "duration": 430,
    "start_time": "2022-04-09T06:59:38.274Z"
   },
   {
    "duration": 71,
    "start_time": "2022-04-09T06:59:38.706Z"
   },
   {
    "duration": 18,
    "start_time": "2022-04-09T06:59:38.779Z"
   },
   {
    "duration": 14,
    "start_time": "2022-04-09T06:59:38.799Z"
   },
   {
    "duration": 10,
    "start_time": "2022-04-09T06:59:38.814Z"
   },
   {
    "duration": 12,
    "start_time": "2022-04-09T06:59:38.825Z"
   },
   {
    "duration": 5,
    "start_time": "2022-04-09T06:59:38.839Z"
   },
   {
    "duration": 7,
    "start_time": "2022-04-09T06:59:38.846Z"
   },
   {
    "duration": 48,
    "start_time": "2022-04-09T06:59:38.855Z"
   },
   {
    "duration": 8,
    "start_time": "2022-04-09T06:59:38.906Z"
   },
   {
    "duration": 16,
    "start_time": "2022-04-09T06:59:38.915Z"
   },
   {
    "duration": 3,
    "start_time": "2022-04-09T06:59:38.933Z"
   },
   {
    "duration": 16,
    "start_time": "2022-04-09T06:59:38.938Z"
   },
   {
    "duration": 49,
    "start_time": "2022-04-09T06:59:38.956Z"
   },
   {
    "duration": 3,
    "start_time": "2022-04-09T06:59:39.007Z"
   },
   {
    "duration": 8,
    "start_time": "2022-04-09T06:59:39.012Z"
   },
   {
    "duration": 8,
    "start_time": "2022-04-09T06:59:39.022Z"
   },
   {
    "duration": 74,
    "start_time": "2022-04-09T06:59:39.031Z"
   },
   {
    "duration": 7,
    "start_time": "2022-04-09T06:59:39.107Z"
   },
   {
    "duration": 8,
    "start_time": "2022-04-09T06:59:39.116Z"
   },
   {
    "duration": 31,
    "start_time": "2022-04-09T06:59:39.126Z"
   },
   {
    "duration": 66,
    "start_time": "2022-04-09T06:59:39.159Z"
   },
   {
    "duration": 11,
    "start_time": "2022-04-09T06:59:39.227Z"
   },
   {
    "duration": 14,
    "start_time": "2022-04-09T06:59:39.239Z"
   },
   {
    "duration": 14,
    "start_time": "2022-04-09T06:59:39.255Z"
   },
   {
    "duration": 11,
    "start_time": "2022-04-09T06:59:42.626Z"
   },
   {
    "duration": 19,
    "start_time": "2022-04-09T06:59:55.496Z"
   },
   {
    "duration": 23,
    "start_time": "2022-04-09T07:02:01.726Z"
   },
   {
    "duration": 8,
    "start_time": "2022-04-09T07:03:33.448Z"
   },
   {
    "duration": 0,
    "start_time": "2022-04-09T07:20:14.030Z"
   },
   {
    "duration": 15,
    "start_time": "2022-04-09T07:20:14.298Z"
   },
   {
    "duration": 16,
    "start_time": "2022-04-09T07:20:31.415Z"
   },
   {
    "duration": 29,
    "start_time": "2022-04-09T07:20:42.914Z"
   },
   {
    "duration": 18,
    "start_time": "2022-04-09T07:20:54.631Z"
   },
   {
    "duration": 18,
    "start_time": "2022-04-09T07:21:26.788Z"
   },
   {
    "duration": 20,
    "start_time": "2022-04-09T07:21:31.332Z"
   },
   {
    "duration": 14,
    "start_time": "2022-04-09T07:21:47.094Z"
   },
   {
    "duration": 14,
    "start_time": "2022-04-09T07:21:58.417Z"
   },
   {
    "duration": 42,
    "start_time": "2022-04-09T07:22:23.711Z"
   },
   {
    "duration": 30,
    "start_time": "2022-04-09T07:22:28.960Z"
   },
   {
    "duration": 15,
    "start_time": "2022-04-09T07:22:36.129Z"
   },
   {
    "duration": 14,
    "start_time": "2022-04-09T07:24:39.797Z"
   },
   {
    "duration": 6,
    "start_time": "2022-04-09T07:25:39.147Z"
   },
   {
    "duration": 8,
    "start_time": "2022-04-09T07:25:47.554Z"
   },
   {
    "duration": 14,
    "start_time": "2022-04-09T07:27:03.497Z"
   },
   {
    "duration": 14,
    "start_time": "2022-04-09T07:28:02.803Z"
   },
   {
    "duration": 17,
    "start_time": "2022-04-09T07:28:18.990Z"
   },
   {
    "duration": 15,
    "start_time": "2022-04-09T07:28:23.638Z"
   },
   {
    "duration": 15,
    "start_time": "2022-04-09T07:28:30.835Z"
   },
   {
    "duration": 14,
    "start_time": "2022-04-09T07:28:35.358Z"
   },
   {
    "duration": 14,
    "start_time": "2022-04-09T07:32:58.095Z"
   },
   {
    "duration": 10,
    "start_time": "2022-04-09T07:49:23.053Z"
   },
   {
    "duration": 3,
    "start_time": "2022-04-09T07:49:38.086Z"
   },
   {
    "duration": 78,
    "start_time": "2022-04-09T07:49:38.090Z"
   },
   {
    "duration": 13,
    "start_time": "2022-04-09T07:49:38.170Z"
   },
   {
    "duration": 28,
    "start_time": "2022-04-09T07:49:38.185Z"
   },
   {
    "duration": 9,
    "start_time": "2022-04-09T07:49:38.215Z"
   },
   {
    "duration": 12,
    "start_time": "2022-04-09T07:49:38.226Z"
   },
   {
    "duration": 5,
    "start_time": "2022-04-09T07:49:38.239Z"
   },
   {
    "duration": 6,
    "start_time": "2022-04-09T07:49:38.246Z"
   },
   {
    "duration": 47,
    "start_time": "2022-04-09T07:49:38.254Z"
   },
   {
    "duration": 8,
    "start_time": "2022-04-09T07:49:38.304Z"
   },
   {
    "duration": 17,
    "start_time": "2022-04-09T07:49:38.316Z"
   },
   {
    "duration": 3,
    "start_time": "2022-04-09T07:49:38.335Z"
   },
   {
    "duration": 18,
    "start_time": "2022-04-09T07:49:38.340Z"
   },
   {
    "duration": 8,
    "start_time": "2022-04-09T07:49:38.402Z"
   },
   {
    "duration": 4,
    "start_time": "2022-04-09T07:49:38.412Z"
   },
   {
    "duration": 10,
    "start_time": "2022-04-09T07:49:38.417Z"
   },
   {
    "duration": 9,
    "start_time": "2022-04-09T07:49:38.429Z"
   },
   {
    "duration": 88,
    "start_time": "2022-04-09T07:49:38.440Z"
   },
   {
    "duration": 9,
    "start_time": "2022-04-09T07:49:38.530Z"
   },
   {
    "duration": 12,
    "start_time": "2022-04-09T07:49:38.541Z"
   },
   {
    "duration": 58,
    "start_time": "2022-04-09T07:49:38.554Z"
   },
   {
    "duration": 38,
    "start_time": "2022-04-09T07:49:38.614Z"
   },
   {
    "duration": 11,
    "start_time": "2022-04-09T07:49:38.654Z"
   },
   {
    "duration": 41,
    "start_time": "2022-04-09T07:49:38.667Z"
   },
   {
    "duration": 14,
    "start_time": "2022-04-09T07:49:38.709Z"
   },
   {
    "duration": 16,
    "start_time": "2022-04-09T07:49:38.724Z"
   },
   {
    "duration": 9,
    "start_time": "2022-04-09T07:49:38.741Z"
   },
   {
    "duration": 14,
    "start_time": "2022-04-09T07:49:38.751Z"
   },
   {
    "duration": 10,
    "start_time": "2022-04-09T07:49:38.803Z"
   },
   {
    "duration": 20,
    "start_time": "2022-04-09T07:50:19.623Z"
   },
   {
    "duration": 13,
    "start_time": "2022-04-09T07:51:37.023Z"
   },
   {
    "duration": 16,
    "start_time": "2022-04-09T07:51:46.528Z"
   },
   {
    "duration": 15,
    "start_time": "2022-04-09T07:51:56.284Z"
   },
   {
    "duration": 16,
    "start_time": "2022-04-09T07:52:02.957Z"
   },
   {
    "duration": 14,
    "start_time": "2022-04-09T07:52:14.662Z"
   },
   {
    "duration": 14,
    "start_time": "2022-04-09T07:52:20.423Z"
   },
   {
    "duration": 13,
    "start_time": "2022-04-09T07:52:36.683Z"
   },
   {
    "duration": 14,
    "start_time": "2022-04-09T07:52:43.157Z"
   },
   {
    "duration": 24,
    "start_time": "2022-04-09T07:54:42.295Z"
   },
   {
    "duration": 17,
    "start_time": "2022-04-09T07:54:48.549Z"
   },
   {
    "duration": 15,
    "start_time": "2022-04-09T07:54:58.299Z"
   },
   {
    "duration": 7,
    "start_time": "2022-04-09T08:01:42.974Z"
   },
   {
    "duration": 21,
    "start_time": "2022-04-09T08:01:48.857Z"
   },
   {
    "duration": 34,
    "start_time": "2022-04-09T08:02:05.198Z"
   },
   {
    "duration": 60,
    "start_time": "2022-04-09T08:03:40.910Z"
   },
   {
    "duration": 20,
    "start_time": "2022-04-09T08:05:16.565Z"
   },
   {
    "duration": 19,
    "start_time": "2022-04-09T08:06:31.845Z"
   },
   {
    "duration": 22,
    "start_time": "2022-04-09T08:07:49.909Z"
   },
   {
    "duration": 7,
    "start_time": "2022-04-09T08:09:01.293Z"
   },
   {
    "duration": 7,
    "start_time": "2022-04-09T08:10:50.971Z"
   },
   {
    "duration": 4,
    "start_time": "2022-04-09T08:10:53.925Z"
   },
   {
    "duration": 7,
    "start_time": "2022-04-09T08:10:54.890Z"
   },
   {
    "duration": 4,
    "start_time": "2022-04-09T08:12:33.448Z"
   },
   {
    "duration": 6,
    "start_time": "2022-04-09T08:12:39.731Z"
   },
   {
    "duration": 5,
    "start_time": "2022-04-09T08:12:55.482Z"
   },
   {
    "duration": 6,
    "start_time": "2022-04-09T08:13:29.708Z"
   },
   {
    "duration": 4,
    "start_time": "2022-04-09T08:13:35.281Z"
   },
   {
    "duration": 5,
    "start_time": "2022-04-09T08:14:35.835Z"
   },
   {
    "duration": 3,
    "start_time": "2022-04-09T08:14:36.746Z"
   },
   {
    "duration": 2,
    "start_time": "2022-04-09T08:14:53.615Z"
   },
   {
    "duration": 70,
    "start_time": "2022-04-09T08:14:53.619Z"
   },
   {
    "duration": 13,
    "start_time": "2022-04-09T08:14:53.691Z"
   },
   {
    "duration": 30,
    "start_time": "2022-04-09T08:14:53.706Z"
   },
   {
    "duration": 11,
    "start_time": "2022-04-09T08:14:53.738Z"
   },
   {
    "duration": 12,
    "start_time": "2022-04-09T08:14:53.751Z"
   },
   {
    "duration": 5,
    "start_time": "2022-04-09T08:14:53.765Z"
   },
   {
    "duration": 32,
    "start_time": "2022-04-09T08:14:53.771Z"
   },
   {
    "duration": 6,
    "start_time": "2022-04-09T08:14:53.805Z"
   },
   {
    "duration": 9,
    "start_time": "2022-04-09T08:14:53.813Z"
   },
   {
    "duration": 16,
    "start_time": "2022-04-09T08:14:53.824Z"
   },
   {
    "duration": 4,
    "start_time": "2022-04-09T08:14:53.841Z"
   },
   {
    "duration": 25,
    "start_time": "2022-04-09T08:14:53.846Z"
   },
   {
    "duration": 32,
    "start_time": "2022-04-09T08:14:53.873Z"
   },
   {
    "duration": 16,
    "start_time": "2022-04-09T08:14:53.907Z"
   },
   {
    "duration": 6,
    "start_time": "2022-04-09T08:14:53.925Z"
   },
   {
    "duration": 4,
    "start_time": "2022-04-09T08:15:58.619Z"
   },
   {
    "duration": 5,
    "start_time": "2022-04-09T08:16:24.130Z"
   },
   {
    "duration": 4,
    "start_time": "2022-04-09T08:16:31.268Z"
   },
   {
    "duration": 3,
    "start_time": "2022-04-09T08:16:39.933Z"
   },
   {
    "duration": 58,
    "start_time": "2022-04-09T08:16:39.938Z"
   },
   {
    "duration": 12,
    "start_time": "2022-04-09T08:16:39.998Z"
   },
   {
    "duration": 17,
    "start_time": "2022-04-09T08:16:40.012Z"
   },
   {
    "duration": 12,
    "start_time": "2022-04-09T08:16:40.032Z"
   },
   {
    "duration": 14,
    "start_time": "2022-04-09T08:16:40.046Z"
   },
   {
    "duration": 7,
    "start_time": "2022-04-09T08:16:40.102Z"
   },
   {
    "duration": 8,
    "start_time": "2022-04-09T08:16:40.111Z"
   },
   {
    "duration": 7,
    "start_time": "2022-04-09T08:16:40.121Z"
   },
   {
    "duration": 11,
    "start_time": "2022-04-09T08:16:40.130Z"
   },
   {
    "duration": 59,
    "start_time": "2022-04-09T08:16:40.143Z"
   },
   {
    "duration": 3,
    "start_time": "2022-04-09T08:16:40.205Z"
   },
   {
    "duration": 18,
    "start_time": "2022-04-09T08:16:40.212Z"
   },
   {
    "duration": 8,
    "start_time": "2022-04-09T08:16:40.231Z"
   },
   {
    "duration": 6,
    "start_time": "2022-04-09T08:16:40.241Z"
   },
   {
    "duration": 4,
    "start_time": "2022-04-09T08:16:40.248Z"
   },
   {
    "duration": 5,
    "start_time": "2022-04-09T08:16:40.300Z"
   },
   {
    "duration": 11,
    "start_time": "2022-04-09T08:16:40.307Z"
   },
   {
    "duration": 8,
    "start_time": "2022-04-09T08:16:40.320Z"
   },
   {
    "duration": 73,
    "start_time": "2022-04-09T08:16:40.330Z"
   },
   {
    "duration": 10,
    "start_time": "2022-04-09T08:16:40.405Z"
   },
   {
    "duration": 10,
    "start_time": "2022-04-09T08:16:40.417Z"
   },
   {
    "duration": 34,
    "start_time": "2022-04-09T08:16:40.429Z"
   },
   {
    "duration": 40,
    "start_time": "2022-04-09T08:16:40.500Z"
   },
   {
    "duration": 13,
    "start_time": "2022-04-09T08:16:40.543Z"
   },
   {
    "duration": 44,
    "start_time": "2022-04-09T08:16:40.558Z"
   },
   {
    "duration": 15,
    "start_time": "2022-04-09T08:16:40.604Z"
   },
   {
    "duration": 18,
    "start_time": "2022-04-09T08:16:40.621Z"
   },
   {
    "duration": 10,
    "start_time": "2022-04-09T08:16:40.641Z"
   },
   {
    "duration": 56,
    "start_time": "2022-04-09T08:16:40.653Z"
   },
   {
    "duration": 25,
    "start_time": "2022-04-09T08:16:40.711Z"
   },
   {
    "duration": 22,
    "start_time": "2022-04-09T08:16:40.738Z"
   },
   {
    "duration": 21,
    "start_time": "2022-04-09T08:17:06.634Z"
   },
   {
    "duration": 7,
    "start_time": "2022-04-09T08:18:52.389Z"
   },
   {
    "duration": 4,
    "start_time": "2022-04-09T08:19:03.312Z"
   },
   {
    "duration": 7,
    "start_time": "2022-04-09T08:19:16.027Z"
   },
   {
    "duration": 11,
    "start_time": "2022-04-09T08:21:05.228Z"
   },
   {
    "duration": 24,
    "start_time": "2022-04-09T08:21:22.301Z"
   },
   {
    "duration": 14,
    "start_time": "2022-04-09T08:22:09.804Z"
   },
   {
    "duration": 13,
    "start_time": "2022-04-09T08:22:20.868Z"
   },
   {
    "duration": 13,
    "start_time": "2022-04-09T08:22:45.989Z"
   },
   {
    "duration": 15,
    "start_time": "2022-04-09T08:23:25.304Z"
   },
   {
    "duration": 14,
    "start_time": "2022-04-09T08:25:04.484Z"
   },
   {
    "duration": 15,
    "start_time": "2022-04-09T08:25:48.176Z"
   },
   {
    "duration": 26,
    "start_time": "2022-04-09T08:27:46.838Z"
   },
   {
    "duration": 15,
    "start_time": "2022-04-09T08:28:01.746Z"
   },
   {
    "duration": 16,
    "start_time": "2022-04-09T08:28:44.069Z"
   },
   {
    "duration": 22,
    "start_time": "2022-04-09T08:29:03.822Z"
   },
   {
    "duration": 23,
    "start_time": "2022-04-09T08:30:19.825Z"
   },
   {
    "duration": 20,
    "start_time": "2022-04-09T08:31:05.335Z"
   },
   {
    "duration": 15,
    "start_time": "2022-04-09T08:31:57.561Z"
   },
   {
    "duration": 16,
    "start_time": "2022-04-09T08:32:21.051Z"
   },
   {
    "duration": 2,
    "start_time": "2022-04-09T08:36:45.911Z"
   },
   {
    "duration": 17,
    "start_time": "2022-04-09T08:38:16.090Z"
   },
   {
    "duration": 22,
    "start_time": "2022-04-09T08:38:56.769Z"
   },
   {
    "duration": 16,
    "start_time": "2022-04-09T08:39:13.987Z"
   },
   {
    "duration": 15,
    "start_time": "2022-04-09T08:39:35.178Z"
   },
   {
    "duration": 21,
    "start_time": "2022-04-09T08:40:11.974Z"
   },
   {
    "duration": 20,
    "start_time": "2022-04-09T08:41:02.051Z"
   },
   {
    "duration": 49,
    "start_time": "2022-04-09T20:17:15.610Z"
   },
   {
    "duration": 400,
    "start_time": "2022-04-09T20:17:28.409Z"
   },
   {
    "duration": 62,
    "start_time": "2022-04-09T20:17:28.811Z"
   },
   {
    "duration": 27,
    "start_time": "2022-04-09T20:17:28.874Z"
   },
   {
    "duration": 15,
    "start_time": "2022-04-09T20:17:28.902Z"
   },
   {
    "duration": 9,
    "start_time": "2022-04-09T20:17:28.919Z"
   },
   {
    "duration": 12,
    "start_time": "2022-04-09T20:17:28.929Z"
   },
   {
    "duration": 5,
    "start_time": "2022-04-09T20:17:28.943Z"
   },
   {
    "duration": 51,
    "start_time": "2022-04-09T20:17:28.950Z"
   },
   {
    "duration": 8,
    "start_time": "2022-04-09T20:17:29.003Z"
   },
   {
    "duration": 10,
    "start_time": "2022-04-09T20:17:29.013Z"
   },
   {
    "duration": 18,
    "start_time": "2022-04-09T20:17:29.025Z"
   },
   {
    "duration": 3,
    "start_time": "2022-04-09T20:17:29.045Z"
   },
   {
    "duration": 65,
    "start_time": "2022-04-09T20:17:29.050Z"
   },
   {
    "duration": 7,
    "start_time": "2022-04-09T20:17:29.119Z"
   },
   {
    "duration": 5,
    "start_time": "2022-04-09T20:17:29.128Z"
   },
   {
    "duration": 5,
    "start_time": "2022-04-09T20:17:29.134Z"
   },
   {
    "duration": 5,
    "start_time": "2022-04-09T20:17:29.140Z"
   },
   {
    "duration": 9,
    "start_time": "2022-04-09T20:17:29.147Z"
   },
   {
    "duration": 44,
    "start_time": "2022-04-09T20:17:29.158Z"
   },
   {
    "duration": 45,
    "start_time": "2022-04-09T20:17:29.203Z"
   },
   {
    "duration": 8,
    "start_time": "2022-04-09T20:17:29.249Z"
   },
   {
    "duration": 10,
    "start_time": "2022-04-09T20:17:29.258Z"
   },
   {
    "duration": 51,
    "start_time": "2022-04-09T20:17:29.269Z"
   },
   {
    "duration": 37,
    "start_time": "2022-04-09T20:17:29.321Z"
   },
   {
    "duration": 12,
    "start_time": "2022-04-09T20:17:29.359Z"
   },
   {
    "duration": 35,
    "start_time": "2022-04-09T20:17:29.372Z"
   },
   {
    "duration": 13,
    "start_time": "2022-04-09T20:17:29.409Z"
   },
   {
    "duration": 16,
    "start_time": "2022-04-09T20:17:29.424Z"
   },
   {
    "duration": 11,
    "start_time": "2022-04-09T20:17:29.442Z"
   },
   {
    "duration": 54,
    "start_time": "2022-04-09T20:17:29.454Z"
   },
   {
    "duration": 20,
    "start_time": "2022-04-09T20:17:29.510Z"
   },
   {
    "duration": 21,
    "start_time": "2022-04-09T20:17:29.532Z"
   },
   {
    "duration": 47,
    "start_time": "2022-04-09T20:17:29.554Z"
   },
   {
    "duration": 15,
    "start_time": "2022-04-09T20:17:29.603Z"
   },
   {
    "duration": 19,
    "start_time": "2022-04-09T20:17:29.619Z"
   },
   {
    "duration": 14,
    "start_time": "2022-04-09T20:17:29.639Z"
   },
   {
    "duration": 48,
    "start_time": "2022-04-09T20:17:29.654Z"
   },
   {
    "duration": 21,
    "start_time": "2022-04-09T20:18:50.883Z"
   },
   {
    "duration": 40,
    "start_time": "2022-04-10T14:58:34.570Z"
   },
   {
    "duration": 353,
    "start_time": "2022-04-10T14:58:43.182Z"
   },
   {
    "duration": 46,
    "start_time": "2022-04-10T14:58:43.537Z"
   },
   {
    "duration": 16,
    "start_time": "2022-04-10T14:58:43.584Z"
   },
   {
    "duration": 16,
    "start_time": "2022-04-10T14:58:43.602Z"
   },
   {
    "duration": 7,
    "start_time": "2022-04-10T14:58:43.619Z"
   },
   {
    "duration": 10,
    "start_time": "2022-04-10T14:58:43.628Z"
   },
   {
    "duration": 32,
    "start_time": "2022-04-10T14:58:43.639Z"
   },
   {
    "duration": 5,
    "start_time": "2022-04-10T14:58:43.673Z"
   },
   {
    "duration": 6,
    "start_time": "2022-04-10T14:58:43.679Z"
   },
   {
    "duration": 6,
    "start_time": "2022-04-10T14:58:43.687Z"
   },
   {
    "duration": 14,
    "start_time": "2022-04-10T14:58:43.695Z"
   },
   {
    "duration": 2,
    "start_time": "2022-04-10T14:58:43.711Z"
   },
   {
    "duration": 16,
    "start_time": "2022-04-10T14:58:43.715Z"
   },
   {
    "duration": 41,
    "start_time": "2022-04-10T14:58:43.733Z"
   },
   {
    "duration": 5,
    "start_time": "2022-04-10T14:58:43.776Z"
   },
   {
    "duration": 5,
    "start_time": "2022-04-10T14:58:43.782Z"
   },
   {
    "duration": 11,
    "start_time": "2022-04-10T14:58:43.788Z"
   },
   {
    "duration": 17,
    "start_time": "2022-04-10T14:58:43.801Z"
   },
   {
    "duration": 9,
    "start_time": "2022-04-10T14:58:43.819Z"
   },
   {
    "duration": 59,
    "start_time": "2022-04-10T14:58:43.830Z"
   },
   {
    "duration": 6,
    "start_time": "2022-04-10T14:58:43.891Z"
   },
   {
    "duration": 11,
    "start_time": "2022-04-10T14:58:43.899Z"
   },
   {
    "duration": 22,
    "start_time": "2022-04-10T14:58:43.911Z"
   },
   {
    "duration": 63,
    "start_time": "2022-04-10T14:58:43.934Z"
   },
   {
    "duration": 12,
    "start_time": "2022-04-10T14:58:43.998Z"
   },
   {
    "duration": 11,
    "start_time": "2022-04-10T14:58:44.012Z"
   },
   {
    "duration": 11,
    "start_time": "2022-04-10T14:58:44.024Z"
   },
   {
    "duration": 43,
    "start_time": "2022-04-10T14:58:44.038Z"
   },
   {
    "duration": 10,
    "start_time": "2022-04-10T14:58:44.082Z"
   },
   {
    "duration": 15,
    "start_time": "2022-04-10T14:58:44.094Z"
   },
   {
    "duration": 6,
    "start_time": "2022-04-10T14:58:44.111Z"
   },
   {
    "duration": 5,
    "start_time": "2022-04-10T14:58:52.723Z"
   },
   {
    "duration": 5,
    "start_time": "2022-04-10T14:58:55.557Z"
   },
   {
    "duration": 4,
    "start_time": "2022-04-10T14:59:02.845Z"
   },
   {
    "duration": 4,
    "start_time": "2022-04-10T14:59:12.043Z"
   },
   {
    "duration": 4,
    "start_time": "2022-04-10T14:59:18.656Z"
   },
   {
    "duration": 6,
    "start_time": "2022-04-10T15:00:24.836Z"
   },
   {
    "duration": 15,
    "start_time": "2022-04-10T15:01:02.891Z"
   },
   {
    "duration": 139,
    "start_time": "2022-04-10T15:03:45.362Z"
   },
   {
    "duration": 12,
    "start_time": "2022-04-10T15:03:53.589Z"
   },
   {
    "duration": 6,
    "start_time": "2022-04-10T15:04:30.822Z"
   },
   {
    "duration": 7,
    "start_time": "2022-04-10T15:04:48.484Z"
   },
   {
    "duration": 7,
    "start_time": "2022-04-10T15:05:08.309Z"
   },
   {
    "duration": 6,
    "start_time": "2022-04-10T15:11:33.936Z"
   },
   {
    "duration": 6,
    "start_time": "2022-04-10T15:11:41.391Z"
   },
   {
    "duration": 6,
    "start_time": "2022-04-10T15:12:12.052Z"
   },
   {
    "duration": 6,
    "start_time": "2022-04-10T15:12:22.717Z"
   },
   {
    "duration": 9,
    "start_time": "2022-04-10T15:28:22.447Z"
   },
   {
    "duration": 5,
    "start_time": "2022-04-10T15:29:14.962Z"
   },
   {
    "duration": 6,
    "start_time": "2022-04-10T15:33:06.294Z"
   },
   {
    "duration": 6,
    "start_time": "2022-04-10T15:35:22.389Z"
   },
   {
    "duration": 6,
    "start_time": "2022-04-10T15:41:43.605Z"
   },
   {
    "duration": 8,
    "start_time": "2022-04-10T15:41:51.377Z"
   },
   {
    "duration": 5,
    "start_time": "2022-04-10T16:07:44.874Z"
   },
   {
    "duration": 28,
    "start_time": "2022-04-10T16:07:54.749Z"
   },
   {
    "duration": 7,
    "start_time": "2022-04-10T16:08:47.220Z"
   },
   {
    "duration": 5,
    "start_time": "2022-04-10T16:09:07.910Z"
   },
   {
    "duration": 6,
    "start_time": "2022-04-10T16:09:16.986Z"
   },
   {
    "duration": 7,
    "start_time": "2022-04-10T16:10:29.996Z"
   },
   {
    "duration": 6,
    "start_time": "2022-04-10T16:11:21.113Z"
   },
   {
    "duration": 887,
    "start_time": "2022-04-10T16:11:28.614Z"
   },
   {
    "duration": 114,
    "start_time": "2022-04-10T16:12:03.545Z"
   },
   {
    "duration": 105,
    "start_time": "2022-04-10T16:13:46.399Z"
   },
   {
    "duration": 110,
    "start_time": "2022-04-10T16:13:51.266Z"
   },
   {
    "duration": 4,
    "start_time": "2022-04-10T16:20:04.979Z"
   },
   {
    "duration": 5,
    "start_time": "2022-04-10T16:21:01.160Z"
   },
   {
    "duration": 5,
    "start_time": "2022-04-10T16:21:09.215Z"
   },
   {
    "duration": 4,
    "start_time": "2022-04-10T16:21:23.364Z"
   },
   {
    "duration": 5,
    "start_time": "2022-04-10T16:22:22.334Z"
   },
   {
    "duration": 9,
    "start_time": "2022-04-10T16:24:29.063Z"
   },
   {
    "duration": 39,
    "start_time": "2022-04-10T16:25:47.407Z"
   },
   {
    "duration": 6,
    "start_time": "2022-04-10T16:26:08.085Z"
   },
   {
    "duration": 5,
    "start_time": "2022-04-10T16:26:14.696Z"
   },
   {
    "duration": 7,
    "start_time": "2022-04-10T16:26:36.153Z"
   },
   {
    "duration": 6,
    "start_time": "2022-04-10T16:29:14.166Z"
   },
   {
    "duration": 7,
    "start_time": "2022-04-10T16:30:20.185Z"
   },
   {
    "duration": 7,
    "start_time": "2022-04-10T16:31:45.211Z"
   },
   {
    "duration": 7,
    "start_time": "2022-04-10T16:32:48.812Z"
   },
   {
    "duration": 7,
    "start_time": "2022-04-10T16:33:14.087Z"
   },
   {
    "duration": 6,
    "start_time": "2022-04-10T16:33:21.369Z"
   },
   {
    "duration": 7,
    "start_time": "2022-04-10T16:33:31.206Z"
   },
   {
    "duration": 7,
    "start_time": "2022-04-10T16:33:44.931Z"
   },
   {
    "duration": 9,
    "start_time": "2022-04-10T16:33:50.978Z"
   },
   {
    "duration": 163,
    "start_time": "2022-04-10T16:34:52.006Z"
   },
   {
    "duration": 98,
    "start_time": "2022-04-10T16:35:14.495Z"
   },
   {
    "duration": 4,
    "start_time": "2022-04-10T16:37:24.198Z"
   },
   {
    "duration": 15,
    "start_time": "2022-04-10T17:42:45.188Z"
   },
   {
    "duration": 17,
    "start_time": "2022-04-10T17:43:15.664Z"
   },
   {
    "duration": 6,
    "start_time": "2022-04-10T17:43:32.592Z"
   },
   {
    "duration": 4,
    "start_time": "2022-04-10T17:46:17.484Z"
   },
   {
    "duration": 5,
    "start_time": "2022-04-10T17:46:56.884Z"
   },
   {
    "duration": 13,
    "start_time": "2022-04-10T17:46:58.159Z"
   },
   {
    "duration": 13,
    "start_time": "2022-04-10T17:54:55.243Z"
   },
   {
    "duration": 8,
    "start_time": "2022-04-10T18:00:01.993Z"
   },
   {
    "duration": 11,
    "start_time": "2022-04-10T18:01:01.757Z"
   },
   {
    "duration": 11,
    "start_time": "2022-04-10T18:01:20.842Z"
   },
   {
    "duration": 16,
    "start_time": "2022-04-10T18:01:30.662Z"
   },
   {
    "duration": 15,
    "start_time": "2022-04-10T18:01:38.825Z"
   },
   {
    "duration": 7,
    "start_time": "2022-04-10T18:02:09.064Z"
   },
   {
    "duration": 11,
    "start_time": "2022-04-10T18:03:06.909Z"
   },
   {
    "duration": 103,
    "start_time": "2022-04-10T18:03:10.550Z"
   },
   {
    "duration": 95,
    "start_time": "2022-04-10T18:05:00.358Z"
   },
   {
    "duration": 134,
    "start_time": "2022-04-10T18:05:07.742Z"
   },
   {
    "duration": 8,
    "start_time": "2022-04-10T18:07:21.531Z"
   },
   {
    "duration": 131,
    "start_time": "2022-04-10T18:13:51.138Z"
   },
   {
    "duration": 91,
    "start_time": "2022-04-10T18:14:26.692Z"
   },
   {
    "duration": 12,
    "start_time": "2022-04-10T18:17:52.669Z"
   },
   {
    "duration": 6,
    "start_time": "2022-04-10T18:17:54.827Z"
   },
   {
    "duration": 167,
    "start_time": "2022-04-10T18:25:50.944Z"
   },
   {
    "duration": 13,
    "start_time": "2022-04-10T18:38:34.688Z"
   },
   {
    "duration": 13,
    "start_time": "2022-04-10T18:43:38.699Z"
   },
   {
    "duration": 8,
    "start_time": "2022-04-10T18:43:56.662Z"
   },
   {
    "duration": 2093,
    "start_time": "2022-04-10T18:45:14.777Z"
   },
   {
    "duration": 2127,
    "start_time": "2022-04-10T18:45:17.155Z"
   },
   {
    "duration": 13,
    "start_time": "2022-04-10T18:45:56.340Z"
   },
   {
    "duration": 90,
    "start_time": "2022-04-10T18:46:49.699Z"
   },
   {
    "duration": 87,
    "start_time": "2022-04-10T18:47:08.592Z"
   },
   {
    "duration": 87,
    "start_time": "2022-04-10T18:47:14.851Z"
   },
   {
    "duration": 90,
    "start_time": "2022-04-10T18:47:28.774Z"
   },
   {
    "duration": 87,
    "start_time": "2022-04-10T18:54:04.448Z"
   },
   {
    "duration": 9,
    "start_time": "2022-04-10T18:54:39.449Z"
   },
   {
    "duration": 7,
    "start_time": "2022-04-10T18:54:57.742Z"
   },
   {
    "duration": 7,
    "start_time": "2022-04-10T19:06:42.641Z"
   },
   {
    "duration": 13,
    "start_time": "2022-04-10T19:09:24.144Z"
   },
   {
    "duration": 9,
    "start_time": "2022-04-10T19:10:07.556Z"
   },
   {
    "duration": 7,
    "start_time": "2022-04-10T19:14:12.094Z"
   },
   {
    "duration": 12,
    "start_time": "2022-04-10T19:14:30.546Z"
   },
   {
    "duration": 85,
    "start_time": "2022-04-10T19:15:08.556Z"
   },
   {
    "duration": 10,
    "start_time": "2022-04-10T19:16:24.667Z"
   },
   {
    "duration": 10,
    "start_time": "2022-04-10T19:16:29.886Z"
   },
   {
    "duration": 11,
    "start_time": "2022-04-10T19:16:40.588Z"
   },
   {
    "duration": 20,
    "start_time": "2022-04-10T19:17:37.751Z"
   },
   {
    "duration": 18,
    "start_time": "2022-04-10T19:18:07.110Z"
   },
   {
    "duration": 18,
    "start_time": "2022-04-10T19:19:01.992Z"
   },
   {
    "duration": 114,
    "start_time": "2022-04-10T19:19:20.690Z"
   },
   {
    "duration": 93,
    "start_time": "2022-04-10T19:20:06.545Z"
   },
   {
    "duration": 94,
    "start_time": "2022-04-10T19:20:19.423Z"
   },
   {
    "duration": 11,
    "start_time": "2022-04-10T19:20:27.682Z"
   },
   {
    "duration": 95,
    "start_time": "2022-04-10T19:22:52.075Z"
   },
   {
    "duration": 92,
    "start_time": "2022-04-10T19:25:07.219Z"
   },
   {
    "duration": 16,
    "start_time": "2022-04-10T19:29:50.534Z"
   },
   {
    "duration": 86,
    "start_time": "2022-04-10T19:31:16.563Z"
   },
   {
    "duration": 96,
    "start_time": "2022-04-10T19:34:20.624Z"
   },
   {
    "duration": 231,
    "start_time": "2022-04-10T19:34:35.036Z"
   },
   {
    "duration": 156,
    "start_time": "2022-04-10T19:36:29.341Z"
   },
   {
    "duration": 7,
    "start_time": "2022-04-10T19:41:32.826Z"
   },
   {
    "duration": 7,
    "start_time": "2022-04-10T19:42:26.534Z"
   },
   {
    "duration": 602,
    "start_time": "2022-04-20T19:47:24.565Z"
   },
   {
    "duration": 79,
    "start_time": "2022-04-20T19:47:25.171Z"
   },
   {
    "duration": 33,
    "start_time": "2022-04-20T19:47:25.252Z"
   },
   {
    "duration": 46,
    "start_time": "2022-04-20T19:47:25.288Z"
   },
   {
    "duration": 15,
    "start_time": "2022-04-20T19:47:25.337Z"
   },
   {
    "duration": 25,
    "start_time": "2022-04-20T19:47:25.354Z"
   },
   {
    "duration": 9,
    "start_time": "2022-04-20T19:47:25.381Z"
   },
   {
    "duration": 41,
    "start_time": "2022-04-20T19:47:25.393Z"
   },
   {
    "duration": 42,
    "start_time": "2022-04-20T19:47:25.437Z"
   },
   {
    "duration": 6,
    "start_time": "2022-04-20T19:47:25.482Z"
   },
   {
    "duration": 62,
    "start_time": "2022-04-20T19:47:25.490Z"
   },
   {
    "duration": 9,
    "start_time": "2022-04-20T19:47:25.555Z"
   },
   {
    "duration": 9,
    "start_time": "2022-04-20T19:47:25.566Z"
   },
   {
    "duration": 5,
    "start_time": "2022-04-20T19:47:25.581Z"
   },
   {
    "duration": 5,
    "start_time": "2022-04-20T19:47:25.625Z"
   },
   {
    "duration": 13,
    "start_time": "2022-04-20T19:47:25.633Z"
   },
   {
    "duration": 17,
    "start_time": "2022-04-20T19:47:25.648Z"
   },
   {
    "duration": 93,
    "start_time": "2022-04-20T19:47:25.667Z"
   },
   {
    "duration": 11,
    "start_time": "2022-04-20T19:47:25.762Z"
   },
   {
    "duration": 13,
    "start_time": "2022-04-20T19:47:25.775Z"
   },
   {
    "duration": 58,
    "start_time": "2022-04-20T19:47:25.790Z"
   },
   {
    "duration": 74,
    "start_time": "2022-04-20T19:47:25.851Z"
   },
   {
    "duration": 24,
    "start_time": "2022-04-20T19:47:25.928Z"
   },
   {
    "duration": 23,
    "start_time": "2022-04-20T19:47:25.955Z"
   },
   {
    "duration": 60,
    "start_time": "2022-04-20T19:47:25.981Z"
   },
   {
    "duration": 36,
    "start_time": "2022-04-20T19:47:26.044Z"
   },
   {
    "duration": 43,
    "start_time": "2022-04-20T19:47:26.083Z"
   },
   {
    "duration": 36,
    "start_time": "2022-04-20T19:47:26.129Z"
   },
   {
    "duration": 8,
    "start_time": "2022-04-20T19:47:26.167Z"
   },
   {
    "duration": 11,
    "start_time": "2022-04-20T19:47:26.177Z"
   },
   {
    "duration": 8,
    "start_time": "2022-04-20T19:47:26.225Z"
   },
   {
    "duration": 20,
    "start_time": "2022-04-20T19:47:26.235Z"
   },
   {
    "duration": 25,
    "start_time": "2022-04-20T19:47:26.258Z"
   },
   {
    "duration": 53,
    "start_time": "2022-04-20T19:47:26.285Z"
   },
   {
    "duration": 9,
    "start_time": "2022-04-20T19:47:26.340Z"
   },
   {
    "duration": 13,
    "start_time": "2022-04-20T19:47:26.351Z"
   },
   {
    "duration": 1459,
    "start_time": "2022-04-20T19:47:26.367Z"
   },
   {
    "duration": 10,
    "start_time": "2022-04-20T19:47:27.828Z"
   },
   {
    "duration": 18,
    "start_time": "2022-04-20T19:47:27.840Z"
   },
   {
    "duration": 9,
    "start_time": "2022-04-20T19:47:27.860Z"
   },
   {
    "duration": 62,
    "start_time": "2022-04-20T19:47:27.875Z"
   },
   {
    "duration": 10,
    "start_time": "2022-04-20T19:47:27.940Z"
   },
   {
    "duration": 210,
    "start_time": "2022-04-20T19:47:27.953Z"
   },
   {
    "duration": 20,
    "start_time": "2022-04-20T19:47:28.165Z"
   },
   {
    "duration": 10,
    "start_time": "2022-04-20T19:47:28.188Z"
   },
   {
    "duration": 21,
    "start_time": "2022-04-20T19:47:28.228Z"
   },
   {
    "duration": 15,
    "start_time": "2022-04-20T19:47:28.251Z"
   },
   {
    "duration": 199,
    "start_time": "2022-04-20T19:47:28.268Z"
   },
   {
    "duration": 20,
    "start_time": "2022-04-20T19:47:28.470Z"
   },
   {
    "duration": 34,
    "start_time": "2022-04-20T19:47:28.492Z"
   },
   {
    "duration": 21,
    "start_time": "2022-04-20T19:47:28.528Z"
   },
   {
    "duration": 20,
    "start_time": "2022-04-20T19:47:28.552Z"
   },
   {
    "duration": 251,
    "start_time": "2022-04-20T19:47:28.574Z"
   },
   {
    "duration": 63,
    "start_time": "2022-04-22T19:23:52.290Z"
   },
   {
    "duration": 406,
    "start_time": "2022-04-22T19:24:03.619Z"
   },
   {
    "duration": 68,
    "start_time": "2022-04-22T19:24:04.027Z"
   },
   {
    "duration": 22,
    "start_time": "2022-04-22T19:24:04.097Z"
   },
   {
    "duration": 6,
    "start_time": "2022-04-22T19:24:04.121Z"
   },
   {
    "duration": 52,
    "start_time": "2022-04-22T19:24:04.129Z"
   },
   {
    "duration": 12,
    "start_time": "2022-04-22T19:24:04.183Z"
   },
   {
    "duration": 23,
    "start_time": "2022-04-22T19:24:04.197Z"
   },
   {
    "duration": 8,
    "start_time": "2022-04-22T19:24:04.222Z"
   },
   {
    "duration": 42,
    "start_time": "2022-04-22T19:24:04.232Z"
   },
   {
    "duration": 21,
    "start_time": "2022-04-22T19:24:04.278Z"
   },
   {
    "duration": 4,
    "start_time": "2022-04-22T19:24:04.301Z"
   },
   {
    "duration": 22,
    "start_time": "2022-04-22T19:24:04.307Z"
   },
   {
    "duration": 47,
    "start_time": "2022-04-22T19:24:04.331Z"
   },
   {
    "duration": 15,
    "start_time": "2022-04-22T19:24:04.379Z"
   },
   {
    "duration": 7,
    "start_time": "2022-04-22T19:24:04.395Z"
   },
   {
    "duration": 5,
    "start_time": "2022-04-22T19:24:04.404Z"
   },
   {
    "duration": 10,
    "start_time": "2022-04-22T19:24:04.410Z"
   },
   {
    "duration": 16,
    "start_time": "2022-04-22T19:24:04.422Z"
   },
   {
    "duration": 82,
    "start_time": "2022-04-22T19:24:04.439Z"
   },
   {
    "duration": 9,
    "start_time": "2022-04-22T19:24:04.523Z"
   },
   {
    "duration": 16,
    "start_time": "2022-04-22T19:24:04.534Z"
   },
   {
    "duration": 41,
    "start_time": "2022-04-22T19:24:04.574Z"
   },
   {
    "duration": 72,
    "start_time": "2022-04-22T19:24:04.617Z"
   },
   {
    "duration": 12,
    "start_time": "2022-04-22T19:24:04.691Z"
   },
   {
    "duration": 14,
    "start_time": "2022-04-22T19:24:04.705Z"
   },
   {
    "duration": 54,
    "start_time": "2022-04-22T19:24:04.721Z"
   },
   {
    "duration": 19,
    "start_time": "2022-04-22T19:24:04.777Z"
   },
   {
    "duration": 14,
    "start_time": "2022-04-22T19:24:04.800Z"
   },
   {
    "duration": 61,
    "start_time": "2022-04-22T19:24:04.816Z"
   },
   {
    "duration": 10,
    "start_time": "2022-04-22T19:24:04.878Z"
   },
   {
    "duration": 10,
    "start_time": "2022-04-22T19:24:04.889Z"
   },
   {
    "duration": 8,
    "start_time": "2022-04-22T19:24:04.901Z"
   },
   {
    "duration": 15,
    "start_time": "2022-04-22T19:24:04.911Z"
   },
   {
    "duration": 60,
    "start_time": "2022-04-22T19:24:04.928Z"
   },
   {
    "duration": 14,
    "start_time": "2022-04-22T19:24:04.990Z"
   },
   {
    "duration": 8,
    "start_time": "2022-04-22T19:24:05.006Z"
   },
   {
    "duration": 58,
    "start_time": "2022-04-22T19:24:05.015Z"
   },
   {
    "duration": 1079,
    "start_time": "2022-04-22T19:24:05.075Z"
   },
   {
    "duration": 19,
    "start_time": "2022-04-22T19:24:06.156Z"
   },
   {
    "duration": 18,
    "start_time": "2022-04-22T19:24:06.177Z"
   },
   {
    "duration": 9,
    "start_time": "2022-04-22T19:24:06.197Z"
   },
   {
    "duration": 66,
    "start_time": "2022-04-22T19:24:06.208Z"
   },
   {
    "duration": 12,
    "start_time": "2022-04-22T19:24:06.277Z"
   },
   {
    "duration": 160,
    "start_time": "2022-04-22T19:24:06.291Z"
   },
   {
    "duration": 34,
    "start_time": "2022-04-22T19:24:06.454Z"
   },
   {
    "duration": 8,
    "start_time": "2022-04-22T19:24:06.489Z"
   },
   {
    "duration": 20,
    "start_time": "2022-04-22T19:24:06.500Z"
   },
   {
    "duration": 57,
    "start_time": "2022-04-22T19:24:06.521Z"
   },
   {
    "duration": 130,
    "start_time": "2022-04-22T19:24:06.580Z"
   },
   {
    "duration": 16,
    "start_time": "2022-04-22T19:24:06.712Z"
   },
   {
    "duration": 9,
    "start_time": "2022-04-22T19:24:06.730Z"
   },
   {
    "duration": 47,
    "start_time": "2022-04-22T19:24:06.741Z"
   },
   {
    "duration": 13,
    "start_time": "2022-04-22T19:24:06.789Z"
   },
   {
    "duration": 153,
    "start_time": "2022-04-22T19:24:06.803Z"
   },
   {
    "duration": 1972,
    "start_time": "2022-04-22T19:29:13.786Z"
   },
   {
    "duration": 2062,
    "start_time": "2022-04-22T19:29:16.125Z"
   },
   {
    "duration": 3,
    "start_time": "2022-04-22T19:29:25.087Z"
   },
   {
    "duration": 60,
    "start_time": "2022-04-22T19:29:25.098Z"
   },
   {
    "duration": 26,
    "start_time": "2022-04-22T19:29:25.160Z"
   },
   {
    "duration": 7,
    "start_time": "2022-04-22T19:29:25.188Z"
   },
   {
    "duration": 7,
    "start_time": "2022-04-22T19:29:25.196Z"
   },
   {
    "duration": 2058,
    "start_time": "2022-04-22T19:30:12.729Z"
   },
   {
    "duration": 3,
    "start_time": "2022-04-22T19:30:21.671Z"
   },
   {
    "duration": 72,
    "start_time": "2022-04-22T19:30:21.677Z"
   },
   {
    "duration": 14,
    "start_time": "2022-04-22T19:30:21.751Z"
   },
   {
    "duration": 7,
    "start_time": "2022-04-22T19:30:21.767Z"
   },
   {
    "duration": 19,
    "start_time": "2022-04-22T19:30:21.776Z"
   },
   {
    "duration": 8,
    "start_time": "2022-04-22T19:30:21.797Z"
   },
   {
    "duration": 4,
    "start_time": "2022-04-22T19:31:33.082Z"
   },
   {
    "duration": 5,
    "start_time": "2022-04-22T19:31:33.451Z"
   },
   {
    "duration": 3,
    "start_time": "2022-04-22T19:38:07.462Z"
   },
   {
    "duration": 55,
    "start_time": "2022-04-22T19:38:07.986Z"
   },
   {
    "duration": 40,
    "start_time": "2022-04-22T19:40:05.716Z"
   },
   {
    "duration": 9,
    "start_time": "2022-04-22T20:11:30.699Z"
   },
   {
    "duration": 3,
    "start_time": "2022-04-22T20:11:37.028Z"
   },
   {
    "duration": 81,
    "start_time": "2022-04-22T20:11:37.033Z"
   },
   {
    "duration": 13,
    "start_time": "2022-04-22T20:11:37.116Z"
   },
   {
    "duration": 18,
    "start_time": "2022-04-22T20:11:37.131Z"
   },
   {
    "duration": 27,
    "start_time": "2022-04-22T20:11:37.151Z"
   },
   {
    "duration": 21,
    "start_time": "2022-04-22T20:11:37.180Z"
   },
   {
    "duration": 34,
    "start_time": "2022-04-22T20:11:37.203Z"
   },
   {
    "duration": 44,
    "start_time": "2022-04-22T20:11:37.239Z"
   },
   {
    "duration": 10,
    "start_time": "2022-04-22T20:11:37.285Z"
   },
   {
    "duration": 33,
    "start_time": "2022-04-22T20:11:37.297Z"
   },
   {
    "duration": 10,
    "start_time": "2022-04-22T20:11:37.332Z"
   },
   {
    "duration": 19,
    "start_time": "2022-04-22T20:11:37.344Z"
   },
   {
    "duration": 9,
    "start_time": "2022-04-22T20:18:46.025Z"
   },
   {
    "duration": 4,
    "start_time": "2022-04-22T20:20:57.555Z"
   },
   {
    "duration": 5,
    "start_time": "2022-04-22T20:21:13.961Z"
   },
   {
    "duration": 3,
    "start_time": "2022-04-22T20:21:26.829Z"
   },
   {
    "duration": 59,
    "start_time": "2022-04-22T20:21:26.838Z"
   },
   {
    "duration": 15,
    "start_time": "2022-04-22T20:21:26.899Z"
   },
   {
    "duration": 6,
    "start_time": "2022-04-22T20:21:26.916Z"
   },
   {
    "duration": 9,
    "start_time": "2022-04-22T20:21:26.923Z"
   },
   {
    "duration": 10,
    "start_time": "2022-04-22T20:21:26.935Z"
   },
   {
    "duration": 23,
    "start_time": "2022-04-22T20:21:26.973Z"
   },
   {
    "duration": 34,
    "start_time": "2022-04-22T20:21:26.999Z"
   },
   {
    "duration": 40,
    "start_time": "2022-04-22T20:21:27.035Z"
   },
   {
    "duration": 14,
    "start_time": "2022-04-22T20:21:27.077Z"
   },
   {
    "duration": 8,
    "start_time": "2022-04-22T20:21:27.093Z"
   },
   {
    "duration": 10,
    "start_time": "2022-04-22T20:21:27.102Z"
   },
   {
    "duration": 19,
    "start_time": "2022-04-22T20:21:27.113Z"
   },
   {
    "duration": 42,
    "start_time": "2022-04-22T20:21:27.133Z"
   },
   {
    "duration": 24,
    "start_time": "2022-04-22T20:21:27.179Z"
   },
   {
    "duration": 9,
    "start_time": "2022-04-22T20:21:27.205Z"
   },
   {
    "duration": 6,
    "start_time": "2022-04-22T20:21:27.216Z"
   },
   {
    "duration": 6,
    "start_time": "2022-04-22T20:21:27.224Z"
   },
   {
    "duration": 4,
    "start_time": "2022-04-22T20:21:34.636Z"
   },
   {
    "duration": 4,
    "start_time": "2022-04-22T20:21:37.405Z"
   },
   {
    "duration": 5,
    "start_time": "2022-04-22T20:21:37.993Z"
   },
   {
    "duration": 4,
    "start_time": "2022-04-22T20:22:56.897Z"
   },
   {
    "duration": 8,
    "start_time": "2022-04-22T20:23:03.723Z"
   },
   {
    "duration": 7,
    "start_time": "2022-04-22T20:23:04.117Z"
   },
   {
    "duration": 45,
    "start_time": "2022-04-22T20:23:07.119Z"
   },
   {
    "duration": 8,
    "start_time": "2022-04-22T20:23:21.070Z"
   },
   {
    "duration": 9,
    "start_time": "2022-04-22T20:23:22.615Z"
   },
   {
    "duration": 31,
    "start_time": "2022-04-22T20:23:24.445Z"
   },
   {
    "duration": 54,
    "start_time": "2022-04-22T20:23:31.321Z"
   },
   {
    "duration": 4,
    "start_time": "2022-04-22T20:28:02.128Z"
   },
   {
    "duration": 87,
    "start_time": "2022-04-22T20:28:02.133Z"
   },
   {
    "duration": 15,
    "start_time": "2022-04-22T20:28:02.222Z"
   },
   {
    "duration": 10,
    "start_time": "2022-04-22T20:28:02.238Z"
   },
   {
    "duration": 26,
    "start_time": "2022-04-22T20:28:02.251Z"
   },
   {
    "duration": 12,
    "start_time": "2022-04-22T20:28:02.279Z"
   },
   {
    "duration": 22,
    "start_time": "2022-04-22T20:28:02.293Z"
   },
   {
    "duration": 58,
    "start_time": "2022-04-22T20:28:02.316Z"
   },
   {
    "duration": 10,
    "start_time": "2022-04-22T20:28:02.376Z"
   },
   {
    "duration": 16,
    "start_time": "2022-04-22T20:28:02.388Z"
   },
   {
    "duration": 8,
    "start_time": "2022-04-22T20:28:02.407Z"
   },
   {
    "duration": 27,
    "start_time": "2022-04-22T20:28:02.416Z"
   },
   {
    "duration": 41,
    "start_time": "2022-04-22T20:28:02.445Z"
   },
   {
    "duration": 3,
    "start_time": "2022-04-22T20:28:02.488Z"
   },
   {
    "duration": 31,
    "start_time": "2022-04-22T20:28:02.493Z"
   },
   {
    "duration": 10,
    "start_time": "2022-04-22T20:28:02.525Z"
   },
   {
    "duration": 24,
    "start_time": "2022-04-22T20:28:02.536Z"
   },
   {
    "duration": 11,
    "start_time": "2022-04-22T20:28:02.562Z"
   },
   {
    "duration": 17,
    "start_time": "2022-04-22T20:28:02.574Z"
   },
   {
    "duration": 10,
    "start_time": "2022-04-22T20:28:02.592Z"
   },
   {
    "duration": 11,
    "start_time": "2022-04-22T20:28:02.604Z"
   },
   {
    "duration": 12,
    "start_time": "2022-04-22T20:28:02.616Z"
   },
   {
    "duration": 62,
    "start_time": "2022-04-22T20:28:02.630Z"
   },
   {
    "duration": 9,
    "start_time": "2022-04-22T20:28:02.693Z"
   },
   {
    "duration": 19,
    "start_time": "2022-04-22T20:28:02.703Z"
   },
   {
    "duration": 35,
    "start_time": "2022-04-22T20:28:02.724Z"
   },
   {
    "duration": 53,
    "start_time": "2022-04-22T20:28:02.760Z"
   },
   {
    "duration": 12,
    "start_time": "2022-04-22T20:28:02.815Z"
   },
   {
    "duration": 19,
    "start_time": "2022-04-22T20:28:02.831Z"
   },
   {
    "duration": 16,
    "start_time": "2022-04-22T20:28:02.873Z"
   },
   {
    "duration": 36,
    "start_time": "2022-04-22T20:28:02.891Z"
   },
   {
    "duration": 20,
    "start_time": "2022-04-22T20:28:02.929Z"
   },
   {
    "duration": 26,
    "start_time": "2022-04-22T20:28:02.950Z"
   },
   {
    "duration": 18,
    "start_time": "2022-04-22T20:28:02.978Z"
   },
   {
    "duration": 10,
    "start_time": "2022-04-22T20:28:02.997Z"
   },
   {
    "duration": 27,
    "start_time": "2022-04-22T20:28:03.008Z"
   },
   {
    "duration": 23,
    "start_time": "2022-04-22T20:28:03.037Z"
   },
   {
    "duration": 17,
    "start_time": "2022-04-22T20:28:03.062Z"
   },
   {
    "duration": 14,
    "start_time": "2022-04-22T20:28:03.081Z"
   },
   {
    "duration": 8,
    "start_time": "2022-04-22T20:28:03.096Z"
   },
   {
    "duration": 11,
    "start_time": "2022-04-22T20:28:03.105Z"
   },
   {
    "duration": 57,
    "start_time": "2022-04-22T20:28:03.118Z"
   },
   {
    "duration": 3,
    "start_time": "2022-04-22T20:28:20.403Z"
   },
   {
    "duration": 56,
    "start_time": "2022-04-22T20:28:20.454Z"
   },
   {
    "duration": 13,
    "start_time": "2022-04-22T20:28:20.512Z"
   },
   {
    "duration": 6,
    "start_time": "2022-04-22T20:28:20.527Z"
   },
   {
    "duration": 7,
    "start_time": "2022-04-22T20:28:20.535Z"
   },
   {
    "duration": 31,
    "start_time": "2022-04-22T20:28:20.544Z"
   },
   {
    "duration": 14,
    "start_time": "2022-04-22T20:28:20.577Z"
   },
   {
    "duration": 32,
    "start_time": "2022-04-22T20:28:20.593Z"
   },
   {
    "duration": 10,
    "start_time": "2022-04-22T20:28:20.627Z"
   },
   {
    "duration": 14,
    "start_time": "2022-04-22T20:28:20.674Z"
   },
   {
    "duration": 9,
    "start_time": "2022-04-22T20:28:20.689Z"
   },
   {
    "duration": 9,
    "start_time": "2022-04-22T20:28:20.700Z"
   },
   {
    "duration": 17,
    "start_time": "2022-04-22T20:28:20.711Z"
   },
   {
    "duration": 4,
    "start_time": "2022-04-22T20:28:20.729Z"
   },
   {
    "duration": 52,
    "start_time": "2022-04-22T20:28:20.736Z"
   },
   {
    "duration": 9,
    "start_time": "2022-04-22T20:28:20.789Z"
   },
   {
    "duration": 12,
    "start_time": "2022-04-22T20:28:20.800Z"
   },
   {
    "duration": 6,
    "start_time": "2022-04-22T20:28:20.814Z"
   },
   {
    "duration": 7,
    "start_time": "2022-04-22T20:28:20.822Z"
   },
   {
    "duration": 5,
    "start_time": "2022-04-22T20:28:20.831Z"
   },
   {
    "duration": 38,
    "start_time": "2022-04-22T20:28:20.838Z"
   },
   {
    "duration": 20,
    "start_time": "2022-04-22T20:28:20.878Z"
   },
   {
    "duration": 50,
    "start_time": "2022-04-22T20:28:20.900Z"
   },
   {
    "duration": 9,
    "start_time": "2022-04-22T20:28:20.952Z"
   },
   {
    "duration": 9,
    "start_time": "2022-04-22T20:28:20.974Z"
   },
   {
    "duration": 47,
    "start_time": "2022-04-22T20:28:20.985Z"
   },
   {
    "duration": 58,
    "start_time": "2022-04-22T20:28:21.034Z"
   },
   {
    "duration": 13,
    "start_time": "2022-04-22T20:28:21.094Z"
   },
   {
    "duration": 21,
    "start_time": "2022-04-22T20:28:21.109Z"
   },
   {
    "duration": 26,
    "start_time": "2022-04-22T20:28:21.132Z"
   },
   {
    "duration": 33,
    "start_time": "2022-04-22T20:28:21.159Z"
   },
   {
    "duration": 14,
    "start_time": "2022-04-22T20:28:21.194Z"
   },
   {
    "duration": 23,
    "start_time": "2022-04-22T20:28:21.210Z"
   },
   {
    "duration": 14,
    "start_time": "2022-04-22T20:28:21.235Z"
   },
   {
    "duration": 26,
    "start_time": "2022-04-22T20:28:21.251Z"
   },
   {
    "duration": 9,
    "start_time": "2022-04-22T20:28:21.279Z"
   },
   {
    "duration": 14,
    "start_time": "2022-04-22T20:28:21.290Z"
   },
   {
    "duration": 20,
    "start_time": "2022-04-22T20:28:21.306Z"
   },
   {
    "duration": 46,
    "start_time": "2022-04-22T20:28:21.328Z"
   },
   {
    "duration": 9,
    "start_time": "2022-04-22T20:28:21.377Z"
   },
   {
    "duration": 8,
    "start_time": "2022-04-22T20:28:21.388Z"
   },
   {
    "duration": 155,
    "start_time": "2022-04-22T20:28:21.400Z"
   },
   {
    "duration": 445,
    "start_time": "2022-04-22T20:35:40.762Z"
   },
   {
    "duration": 60,
    "start_time": "2022-04-22T20:35:41.209Z"
   },
   {
    "duration": 23,
    "start_time": "2022-04-22T20:35:41.270Z"
   },
   {
    "duration": 5,
    "start_time": "2022-04-22T20:35:41.295Z"
   },
   {
    "duration": 11,
    "start_time": "2022-04-22T20:35:41.302Z"
   },
   {
    "duration": 11,
    "start_time": "2022-04-22T20:35:41.315Z"
   },
   {
    "duration": 46,
    "start_time": "2022-04-22T20:35:41.327Z"
   },
   {
    "duration": 34,
    "start_time": "2022-04-22T20:35:41.375Z"
   },
   {
    "duration": 10,
    "start_time": "2022-04-22T20:35:41.410Z"
   },
   {
    "duration": 14,
    "start_time": "2022-04-22T20:35:41.422Z"
   },
   {
    "duration": 41,
    "start_time": "2022-04-22T20:35:41.437Z"
   },
   {
    "duration": 13,
    "start_time": "2022-04-22T20:35:41.479Z"
   },
   {
    "duration": 18,
    "start_time": "2022-04-22T20:35:41.494Z"
   },
   {
    "duration": 4,
    "start_time": "2022-04-22T20:35:41.514Z"
   },
   {
    "duration": 24,
    "start_time": "2022-04-22T20:35:41.519Z"
   },
   {
    "duration": 9,
    "start_time": "2022-04-22T20:35:41.574Z"
   },
   {
    "duration": 5,
    "start_time": "2022-04-22T20:35:41.584Z"
   },
   {
    "duration": 5,
    "start_time": "2022-04-22T20:35:41.591Z"
   },
   {
    "duration": 7,
    "start_time": "2022-04-22T20:35:41.598Z"
   },
   {
    "duration": 4,
    "start_time": "2022-04-22T20:35:41.606Z"
   },
   {
    "duration": 10,
    "start_time": "2022-04-22T20:35:41.611Z"
   },
   {
    "duration": 51,
    "start_time": "2022-04-22T20:35:41.622Z"
   },
   {
    "duration": 49,
    "start_time": "2022-04-22T20:35:41.675Z"
   },
   {
    "duration": 8,
    "start_time": "2022-04-22T20:35:41.726Z"
   },
   {
    "duration": 14,
    "start_time": "2022-04-22T20:35:41.735Z"
   },
   {
    "duration": 50,
    "start_time": "2022-04-22T20:35:41.751Z"
   },
   {
    "duration": 42,
    "start_time": "2022-04-22T20:35:41.803Z"
   },
   {
    "duration": 29,
    "start_time": "2022-04-22T20:35:41.849Z"
   },
   {
    "duration": 12,
    "start_time": "2022-04-22T20:35:41.880Z"
   },
   {
    "duration": 14,
    "start_time": "2022-04-22T20:35:41.893Z"
   },
   {
    "duration": 20,
    "start_time": "2022-04-22T20:35:41.909Z"
   },
   {
    "duration": 49,
    "start_time": "2022-04-22T20:35:41.930Z"
   },
   {
    "duration": 16,
    "start_time": "2022-04-22T20:35:41.981Z"
   },
   {
    "duration": 5,
    "start_time": "2022-04-22T20:35:41.999Z"
   },
   {
    "duration": 8,
    "start_time": "2022-04-22T20:35:42.006Z"
   },
   {
    "duration": 8,
    "start_time": "2022-04-22T20:35:42.015Z"
   },
   {
    "duration": 49,
    "start_time": "2022-04-22T20:35:42.025Z"
   },
   {
    "duration": 18,
    "start_time": "2022-04-22T20:35:42.076Z"
   },
   {
    "duration": 14,
    "start_time": "2022-04-22T20:35:42.096Z"
   },
   {
    "duration": 7,
    "start_time": "2022-04-22T20:35:42.111Z"
   },
   {
    "duration": 11,
    "start_time": "2022-04-22T20:35:42.120Z"
   },
   {
    "duration": 927,
    "start_time": "2022-04-22T20:35:42.133Z"
   },
   {
    "duration": 13,
    "start_time": "2022-04-22T20:35:43.062Z"
   },
   {
    "duration": 15,
    "start_time": "2022-04-22T20:35:43.077Z"
   },
   {
    "duration": 7,
    "start_time": "2022-04-22T20:35:43.093Z"
   },
   {
    "duration": 14,
    "start_time": "2022-04-22T20:35:43.102Z"
   },
   {
    "duration": 9,
    "start_time": "2022-04-22T20:35:43.117Z"
   },
   {
    "duration": 170,
    "start_time": "2022-04-22T20:35:43.127Z"
   },
   {
    "duration": 15,
    "start_time": "2022-04-22T20:35:43.299Z"
   },
   {
    "duration": 11,
    "start_time": "2022-04-22T20:35:43.316Z"
   },
   {
    "duration": 17,
    "start_time": "2022-04-22T20:35:43.329Z"
   },
   {
    "duration": 10,
    "start_time": "2022-04-22T20:35:43.373Z"
   },
   {
    "duration": 126,
    "start_time": "2022-04-22T20:35:43.385Z"
   },
   {
    "duration": 15,
    "start_time": "2022-04-22T20:35:43.513Z"
   },
   {
    "duration": 8,
    "start_time": "2022-04-22T20:35:43.529Z"
   },
   {
    "duration": 44,
    "start_time": "2022-04-22T20:35:43.539Z"
   },
   {
    "duration": 11,
    "start_time": "2022-04-22T20:35:43.585Z"
   },
   {
    "duration": 133,
    "start_time": "2022-04-22T20:35:43.598Z"
   },
   {
    "duration": 416,
    "start_time": "2022-04-22T20:37:50.690Z"
   },
   {
    "duration": 59,
    "start_time": "2022-04-22T20:37:51.108Z"
   },
   {
    "duration": 22,
    "start_time": "2022-04-22T20:37:51.169Z"
   },
   {
    "duration": 5,
    "start_time": "2022-04-22T20:37:51.193Z"
   },
   {
    "duration": 7,
    "start_time": "2022-04-22T20:37:51.201Z"
   },
   {
    "duration": 7,
    "start_time": "2022-04-22T20:37:51.210Z"
   },
   {
    "duration": 62,
    "start_time": "2022-04-22T20:37:51.218Z"
   },
   {
    "duration": 31,
    "start_time": "2022-04-22T20:37:51.282Z"
   },
   {
    "duration": 9,
    "start_time": "2022-04-22T20:37:51.315Z"
   },
   {
    "duration": 20,
    "start_time": "2022-04-22T20:37:51.325Z"
   },
   {
    "duration": 5,
    "start_time": "2022-04-22T20:37:51.346Z"
   },
   {
    "duration": 7,
    "start_time": "2022-04-22T20:37:51.374Z"
   },
   {
    "duration": 17,
    "start_time": "2022-04-22T20:37:51.383Z"
   },
   {
    "duration": 4,
    "start_time": "2022-04-22T20:37:51.403Z"
   },
   {
    "duration": 20,
    "start_time": "2022-04-22T20:37:51.408Z"
   },
   {
    "duration": 49,
    "start_time": "2022-04-22T20:37:51.430Z"
   },
   {
    "duration": 5,
    "start_time": "2022-04-22T20:37:51.481Z"
   },
   {
    "duration": 6,
    "start_time": "2022-04-22T20:37:51.487Z"
   },
   {
    "duration": 8,
    "start_time": "2022-04-22T20:37:51.494Z"
   },
   {
    "duration": 5,
    "start_time": "2022-04-22T20:37:51.503Z"
   },
   {
    "duration": 9,
    "start_time": "2022-04-22T20:37:51.510Z"
   },
   {
    "duration": 13,
    "start_time": "2022-04-22T20:37:51.520Z"
   },
   {
    "duration": 76,
    "start_time": "2022-04-22T20:37:51.535Z"
   },
   {
    "duration": 8,
    "start_time": "2022-04-22T20:37:51.613Z"
   },
   {
    "duration": 11,
    "start_time": "2022-04-22T20:37:51.622Z"
   },
   {
    "duration": 48,
    "start_time": "2022-04-22T20:37:51.635Z"
   },
   {
    "duration": 39,
    "start_time": "2022-04-22T20:37:51.685Z"
   },
   {
    "duration": 11,
    "start_time": "2022-04-22T20:37:51.726Z"
   },
   {
    "duration": 36,
    "start_time": "2022-04-22T20:37:51.739Z"
   },
   {
    "duration": 14,
    "start_time": "2022-04-22T20:37:51.776Z"
   },
   {
    "duration": 15,
    "start_time": "2022-04-22T20:37:51.791Z"
   },
   {
    "duration": 14,
    "start_time": "2022-04-22T20:37:51.807Z"
   },
   {
    "duration": 15,
    "start_time": "2022-04-22T20:37:51.823Z"
   },
   {
    "duration": 38,
    "start_time": "2022-04-22T20:37:51.839Z"
   },
   {
    "duration": 8,
    "start_time": "2022-04-22T20:37:51.878Z"
   },
   {
    "duration": 6,
    "start_time": "2022-04-22T20:37:51.887Z"
   },
   {
    "duration": 10,
    "start_time": "2022-04-22T20:37:51.895Z"
   },
   {
    "duration": 17,
    "start_time": "2022-04-22T20:37:51.906Z"
   },
   {
    "duration": 54,
    "start_time": "2022-04-22T20:37:51.925Z"
   },
   {
    "duration": 6,
    "start_time": "2022-04-22T20:37:51.981Z"
   },
   {
    "duration": 8,
    "start_time": "2022-04-22T20:37:51.990Z"
   },
   {
    "duration": 905,
    "start_time": "2022-04-22T20:37:52.000Z"
   },
   {
    "duration": 6,
    "start_time": "2022-04-22T20:37:52.907Z"
   },
   {
    "duration": 14,
    "start_time": "2022-04-22T20:37:52.915Z"
   },
   {
    "duration": 6,
    "start_time": "2022-04-22T20:37:52.930Z"
   },
   {
    "duration": 44,
    "start_time": "2022-04-22T20:37:52.938Z"
   },
   {
    "duration": 8,
    "start_time": "2022-04-22T20:37:52.983Z"
   },
   {
    "duration": 136,
    "start_time": "2022-04-22T20:37:52.992Z"
   },
   {
    "duration": 14,
    "start_time": "2022-04-22T20:37:53.129Z"
   },
   {
    "duration": 28,
    "start_time": "2022-04-22T20:37:53.145Z"
   },
   {
    "duration": 14,
    "start_time": "2022-04-22T20:37:53.175Z"
   },
   {
    "duration": 10,
    "start_time": "2022-04-22T20:37:53.191Z"
   },
   {
    "duration": 125,
    "start_time": "2022-04-22T20:37:53.203Z"
   },
   {
    "duration": 15,
    "start_time": "2022-04-22T20:37:53.329Z"
   },
   {
    "duration": 8,
    "start_time": "2022-04-22T20:37:53.346Z"
   },
   {
    "duration": 33,
    "start_time": "2022-04-22T20:37:53.355Z"
   },
   {
    "duration": 11,
    "start_time": "2022-04-22T20:37:53.390Z"
   },
   {
    "duration": 136,
    "start_time": "2022-04-22T20:37:53.402Z"
   },
   {
    "duration": 422,
    "start_time": "2022-04-23T12:03:16.875Z"
   },
   {
    "duration": 57,
    "start_time": "2022-04-23T12:03:17.299Z"
   },
   {
    "duration": 19,
    "start_time": "2022-04-23T12:03:17.358Z"
   },
   {
    "duration": 13,
    "start_time": "2022-04-23T12:03:17.379Z"
   },
   {
    "duration": 5,
    "start_time": "2022-04-23T12:03:17.394Z"
   },
   {
    "duration": 7,
    "start_time": "2022-04-23T12:03:17.401Z"
   },
   {
    "duration": 15,
    "start_time": "2022-04-23T12:03:17.410Z"
   },
   {
    "duration": 31,
    "start_time": "2022-04-23T12:03:17.427Z"
   },
   {
    "duration": 39,
    "start_time": "2022-04-23T12:03:17.460Z"
   },
   {
    "duration": 14,
    "start_time": "2022-04-23T12:03:17.500Z"
   },
   {
    "duration": 5,
    "start_time": "2022-04-23T12:03:17.515Z"
   },
   {
    "duration": 13,
    "start_time": "2022-04-23T12:03:17.521Z"
   },
   {
    "duration": 50,
    "start_time": "2022-04-23T12:03:17.536Z"
   },
   {
    "duration": 3,
    "start_time": "2022-04-23T12:03:17.589Z"
   },
   {
    "duration": 18,
    "start_time": "2022-04-23T12:03:17.594Z"
   },
   {
    "duration": 9,
    "start_time": "2022-04-23T12:03:17.613Z"
   },
   {
    "duration": 5,
    "start_time": "2022-04-23T12:03:17.623Z"
   },
   {
    "duration": 8,
    "start_time": "2022-04-23T12:03:17.630Z"
   },
   {
    "duration": 9,
    "start_time": "2022-04-23T12:03:17.639Z"
   },
   {
    "duration": 8,
    "start_time": "2022-04-23T12:03:17.650Z"
   },
   {
    "duration": 13,
    "start_time": "2022-04-23T12:03:17.659Z"
   },
   {
    "duration": 24,
    "start_time": "2022-04-23T12:03:17.674Z"
   },
   {
    "duration": 39,
    "start_time": "2022-04-23T12:03:17.820Z"
   },
   {
    "duration": 11,
    "start_time": "2022-04-23T12:03:17.860Z"
   },
   {
    "duration": 30,
    "start_time": "2022-04-23T12:03:17.872Z"
   },
   {
    "duration": 13,
    "start_time": "2022-04-23T12:03:17.903Z"
   },
   {
    "duration": 31,
    "start_time": "2022-04-23T12:03:17.918Z"
   },
   {
    "duration": 9,
    "start_time": "2022-04-23T12:03:17.951Z"
   },
   {
    "duration": 16,
    "start_time": "2022-04-23T12:03:17.993Z"
   },
   {
    "duration": 10,
    "start_time": "2022-04-23T12:03:18.011Z"
   },
   {
    "duration": 8,
    "start_time": "2022-04-23T12:03:18.023Z"
   },
   {
    "duration": 4,
    "start_time": "2022-04-23T12:03:18.033Z"
   },
   {
    "duration": 9,
    "start_time": "2022-04-23T12:03:18.039Z"
   },
   {
    "duration": 29,
    "start_time": "2022-04-23T12:03:18.049Z"
   },
   {
    "duration": 24,
    "start_time": "2022-04-23T12:03:18.079Z"
   },
   {
    "duration": 7,
    "start_time": "2022-04-23T12:03:18.104Z"
   },
   {
    "duration": 7,
    "start_time": "2022-04-23T12:03:18.114Z"
   },
   {
    "duration": 1071,
    "start_time": "2022-04-23T12:03:18.123Z"
   },
   {
    "duration": 9,
    "start_time": "2022-04-23T12:03:19.195Z"
   },
   {
    "duration": 17,
    "start_time": "2022-04-23T12:03:19.205Z"
   },
   {
    "duration": 8,
    "start_time": "2022-04-23T12:03:19.224Z"
   },
   {
    "duration": 13,
    "start_time": "2022-04-23T12:03:19.233Z"
   },
   {
    "duration": 8,
    "start_time": "2022-04-23T12:03:19.247Z"
   },
   {
    "duration": 157,
    "start_time": "2022-04-23T12:03:19.256Z"
   },
   {
    "duration": 14,
    "start_time": "2022-04-23T12:03:19.415Z"
   },
   {
    "duration": 8,
    "start_time": "2022-04-23T12:03:19.430Z"
   },
   {
    "duration": 14,
    "start_time": "2022-04-23T12:03:19.439Z"
   },
   {
    "duration": 9,
    "start_time": "2022-04-23T12:03:19.455Z"
   },
   {
    "duration": 105,
    "start_time": "2022-04-23T12:03:19.493Z"
   },
   {
    "duration": 16,
    "start_time": "2022-04-23T12:03:19.600Z"
   },
   {
    "duration": 9,
    "start_time": "2022-04-23T12:03:19.618Z"
   },
   {
    "duration": 15,
    "start_time": "2022-04-23T12:03:19.629Z"
   },
   {
    "duration": 46,
    "start_time": "2022-04-23T12:03:19.646Z"
   },
   {
    "duration": 113,
    "start_time": "2022-04-23T12:03:19.694Z"
   }
  ],
  "kernelspec": {
   "display_name": "Python 3 (ipykernel)",
   "language": "python",
   "name": "python3"
  },
  "language_info": {
   "codemirror_mode": {
    "name": "ipython",
    "version": 3
   },
   "file_extension": ".py",
   "mimetype": "text/x-python",
   "name": "python",
   "nbconvert_exporter": "python",
   "pygments_lexer": "ipython3",
   "version": "3.9.7"
  },
  "toc": {
   "base_numbering": 1,
   "nav_menu": {},
   "number_sections": true,
   "sideBar": true,
   "skip_h1_title": true,
   "title_cell": "Table of Contents",
   "title_sidebar": "Contents",
   "toc_cell": false,
   "toc_position": {},
   "toc_section_display": true,
   "toc_window_display": false
  }
 },
 "nbformat": 4,
 "nbformat_minor": 5
}
