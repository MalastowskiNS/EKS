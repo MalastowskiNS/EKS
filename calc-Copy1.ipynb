{
 "cells": [
  {
   "cell_type": "code",
   "execution_count": 1,
   "id": "8e691d54-ea97-48d9-b089-1f94a8e31265",
   "metadata": {},
   "outputs": [],
   "source": [
    "import pandas as pd\n",
    "import numpy as np\n",
    "import matplotlib.pyplot as plt"
   ]
  },
  {
   "cell_type": "markdown",
   "id": "170c0f77-bdb6-40a7-ad0d-bda04c7468b0",
   "metadata": {},
   "source": [
    "## Свойства материалов"
   ]
  },
  {
   "cell_type": "code",
   "execution_count": 2,
   "id": "9e22c4ec-7006-4450-92a8-0f25b4c63331",
   "metadata": {},
   "outputs": [
    {
     "name": "stdout",
     "output_type": "stream",
     "text": [
      "Вязкость нефтепродуктов 0.0002903\n",
      "Плотность нефтепродуктов 685\n",
      "Коэффициент поверхностного натяжения нефтепродуктов 0.01612\n",
      "Плотность H2 5\n",
      "Вязкость H2 1.398e-05\n"
     ]
    }
   ],
   "source": [
    "visc = 0.0002903\n",
    "print('Вязкость нефтепродуктов', visc)\n",
    "roil = 685\n",
    "print('Плотность нефтепродуктов', roil)\n",
    "sigma = 0.01612\n",
    "print('Коэффициент поверхностного натяжения нефтепродуктов', sigma)\n",
    "rH2 = 5\n",
    "print('Плотность H2', rH2)\n",
    "viscH2 = 1.398e-05\n",
    "print('Вязкость H2', viscH2)"
   ]
  },
  {
   "cell_type": "markdown",
   "id": "692e8c96-4e97-4ade-ab9f-2eab649ae422",
   "metadata": {},
   "source": [
    "## Геометрия и скорости потока"
   ]
  },
  {
   "cell_type": "markdown",
   "id": "e78b03a8-8aa7-48f6-86c9-514653a4c1dd",
   "metadata": {},
   "source": [
    "Геометрия канала для подвода нефтепродуктов"
   ]
  },
  {
   "cell_type": "code",
   "execution_count": 3,
   "id": "c95a3604-0da5-434e-add1-e29b55b5d3c6",
   "metadata": {},
   "outputs": [
    {
     "name": "stdout",
     "output_type": "stream",
     "text": [
      "Площадь проходного сечения суммарного 0.005753041546886308\n"
     ]
    }
   ],
   "source": [
    "doil = 0.005\n",
    "ioil = 98*2+97\n",
    "Soil = (np.pi*doil**2)/4*ioil\n",
    "print('Площадь проходного сечения суммарного', Soil)"
   ]
  },
  {
   "cell_type": "code",
   "execution_count": 4,
   "id": "cc367ede-d2dd-42dc-aa2b-e6152b3741ba",
   "metadata": {},
   "outputs": [
    {
     "name": "stdout",
     "output_type": "stream",
     "text": [
      "Первое сечение канала подвода H2 0.045\n",
      "Второе сечение канала подвода H2 0.07775441817634737\n",
      "Третье сечение канала подвода H2 0.345\n"
     ]
    }
   ],
   "source": [
    "S1gas = 1.5*0.03\n",
    "print('Первое сечение канала подвода H2', S1gas)\n",
    "dgas = 0.015\n",
    "igas = 55*8\n",
    "S2gas = (np.pi*dgas**2)/4*igas\n",
    "print('Второе сечение канала подвода H2', S2gas)\n",
    "S3gas = 1.5*(0.36-0.13)\n",
    "print('Третье сечение канала подвода H2', S3gas)"
   ]
  },
  {
   "cell_type": "code",
   "execution_count": 5,
   "id": "0bd1f8f0-bebc-44f5-a98d-799e023cf7f2",
   "metadata": {},
   "outputs": [
    {
     "name": "stdout",
     "output_type": "stream",
     "text": [
      "Объемный расход H2 1.8795256300072116\n",
      "Объемный расход нефтепродуктов 0.02367315490673155\n"
     ]
    }
   ],
   "source": [
    "VFgas = 45663/3.3743/3600/2\n",
    "VFoil = 116756/685/3600/2\n",
    "print('Объемный расход H2', VFgas)\n",
    "print('Объемный расход нефтепродуктов', VFoil)"
   ]
  },
  {
   "cell_type": "code",
   "execution_count": 6,
   "id": "c70069a1-cf12-4e39-ac8f-ac5032839d8d",
   "metadata": {},
   "outputs": [
    {
     "name": "stdout",
     "output_type": "stream",
     "text": [
      "Расходная скорость газа в сечении 1 41.76723622238248\n",
      "Расходная скорость газа в сечении 2 24.172589469378305\n",
      "Расходная скорость газа в сечении 3 5.447900376832498\n"
     ]
    }
   ],
   "source": [
    "Vel_gas1 = VFgas/S1gas\n",
    "Vel_gas2 = VFgas/S2gas\n",
    "Vel_gas3 = VFgas/S3gas\n",
    "print ('Расходная скорость газа в сечении 1', Vel_gas1)\n",
    "print ('Расходная скорость газа в сечении 2', Vel_gas2)\n",
    "print ('Расходная скорость газа в сечении 3', Vel_gas3)"
   ]
  },
  {
   "cell_type": "markdown",
   "id": "b787f3cc-f8a2-474f-bd1b-98b3d5c90c89",
   "metadata": {},
   "source": [
    "## Коэффициент расхода и среднерасходная скорость в канале"
   ]
  },
  {
   "cell_type": "code",
   "execution_count": 7,
   "id": "dbb53134-b019-46c7-8744-eaaf5de9a10f",
   "metadata": {},
   "outputs": [
    {
     "name": "stdout",
     "output_type": "stream",
     "text": [
      "Относительная длина канала: 2.0\n"
     ]
    }
   ],
   "source": [
    "# Длина канала\n",
    "lc = 0.01 \n",
    "# Относительная длина канала (характерные значения 3<<6)\n",
    "lrel=lc/doil\n",
    "print('Относительная длина канала:', lrel)"
   ]
  },
  {
   "cell_type": "code",
   "execution_count": 8,
   "id": "12466fb6-8c9f-4600-a31e-84e062478f74",
   "metadata": {},
   "outputs": [],
   "source": [
    "Cd = 0.53"
   ]
  },
  {
   "cell_type": "markdown",
   "id": "c9ead521-ad80-4c43-b155-eb86ba039a36",
   "metadata": {},
   "source": [
    "**Число Рейнольдса**"
   ]
  },
  {
   "cell_type": "code",
   "execution_count": 9,
   "id": "4740289d-b23c-4bd3-bd12-5daf1dcbc79f",
   "metadata": {},
   "outputs": [],
   "source": [
    "Vel_oil = VFoil/Soil/0.73"
   ]
  },
  {
   "cell_type": "code",
   "execution_count": 10,
   "id": "4604fbff-63ee-4add-a60b-dd0bc3f063ad",
   "metadata": {},
   "outputs": [
    {
     "name": "stdout",
     "output_type": "stream",
     "text": [
      "Число Рейнольдса 66504.23611843944\n"
     ]
    }
   ],
   "source": [
    "Re = Vel_oil*doil*roil/visc\n",
    "print('Число Рейнольдса', Re)"
   ]
  },
  {
   "cell_type": "markdown",
   "id": "b0626086-b977-4bd3-9979-6c09217f909a",
   "metadata": {},
   "source": [
    "According to Nakayama коэффициент расхода:"
   ]
  },
  {
   "cell_type": "code",
   "execution_count": 11,
   "id": "4c8bd4e7-4b2a-4fe0-9672-e5d5c0537bfd",
   "metadata": {},
   "outputs": [
    {
     "name": "stdout",
     "output_type": "stream",
     "text": [
      "Коэффициент расхода по Nakayama 0.8750467209689788\n"
     ]
    }
   ],
   "source": [
    "Cd = pow(Re,5/6)/(17.11*lc/doil+ 1.65*pow(Re,0.8))\n",
    "print('Коэффициент расхода по Nakayama', Cd)"
   ]
  },
  {
   "cell_type": "markdown",
   "id": "9a81a7a1-cdde-41de-85e1-b7e41171d470",
   "metadata": {},
   "source": [
    "Примем среднее значение"
   ]
  },
  {
   "cell_type": "code",
   "execution_count": 12,
   "id": "e57ad485-7350-4db1-b0fd-c076474f1b0d",
   "metadata": {},
   "outputs": [],
   "source": [
    "Cd = 0.5"
   ]
  },
  {
   "cell_type": "code",
   "execution_count": 13,
   "id": "ae014318-4d40-49e3-8765-9bc05b12a517",
   "metadata": {},
   "outputs": [
    {
     "name": "stdout",
     "output_type": "stream",
     "text": [
      "Расходная скорость для нефтепродуктов 8.229787570209382\n"
     ]
    }
   ],
   "source": [
    "Vel_oil = VFoil/Soil/Cd\n",
    "print ('Расходная скорость для нефтепродуктов', Vel_oil)"
   ]
  },
  {
   "cell_type": "markdown",
   "id": "864b67d6-a8b2-456b-85e1-1e0285429508",
   "metadata": {},
   "source": [
    "**Пересчет Числа Рейнольдса**"
   ]
  },
  {
   "cell_type": "code",
   "execution_count": 14,
   "id": "cb5bfc9c-a89c-4c99-84c1-0f440c6a871a",
   "metadata": {},
   "outputs": [
    {
     "name": "stdout",
     "output_type": "stream",
     "text": [
      "Число Рейнольдса 97096.18473292157\n"
     ]
    }
   ],
   "source": [
    "Re = Vel_oil*doil*roil/visc\n",
    "print('Число Рейнольдса', Re)"
   ]
  },
  {
   "cell_type": "code",
   "execution_count": 15,
   "id": "6b35336b-0a0d-44b7-a2fc-b128f45e1bcc",
   "metadata": {},
   "outputs": [
    {
     "data": {
      "text/plain": [
       "8.229787570209382"
      ]
     },
     "execution_count": 15,
     "metadata": {},
     "output_type": "execute_result"
    }
   ],
   "source": [
    "Vel_oil"
   ]
  },
  {
   "cell_type": "code",
   "execution_count": 16,
   "id": "bcd30d65-a3ef-4767-83a0-c8b1cbb649e9",
   "metadata": {},
   "outputs": [
    {
     "data": {
      "text/plain": [
       "0.005"
      ]
     },
     "execution_count": 16,
     "metadata": {},
     "output_type": "execute_result"
    }
   ],
   "source": [
    "doil"
   ]
  },
  {
   "cell_type": "code",
   "execution_count": 17,
   "id": "8b373506-7cf2-429b-851c-19e6f0fc8ccb",
   "metadata": {},
   "outputs": [
    {
     "data": {
      "text/plain": [
       "685"
      ]
     },
     "execution_count": 17,
     "metadata": {},
     "output_type": "execute_result"
    }
   ],
   "source": [
    "roil"
   ]
  },
  {
   "cell_type": "code",
   "execution_count": 18,
   "id": "41802583-914a-4a47-8f9c-541d800e3612",
   "metadata": {},
   "outputs": [
    {
     "data": {
      "text/plain": [
       "0.0002903"
      ]
     },
     "execution_count": 18,
     "metadata": {},
     "output_type": "execute_result"
    }
   ],
   "source": [
    "visc"
   ]
  },
  {
   "cell_type": "markdown",
   "id": "29e79996-4111-4f5c-818f-ce69e596e2d5",
   "metadata": {},
   "source": [
    "## Распад капель"
   ]
  },
  {
   "cell_type": "code",
   "execution_count": 19,
   "id": "c2986289-9439-4d55-8f2c-1e25e02c0d3d",
   "metadata": {},
   "outputs": [
    {
     "name": "stdout",
     "output_type": "stream",
     "text": [
      "Массовый расход нефтепродуктов, на один канал 0.05534508911642017\n"
     ]
    }
   ],
   "source": [
    "G1oil = 116756/3600/2/ioil\n",
    "print('Массовый расход нефтепродуктов, на один канал', G1oil)"
   ]
  },
  {
   "cell_type": "markdown",
   "id": "952f60fc-9509-402c-8ba0-3c74d8124a90",
   "metadata": {},
   "source": [
    "**Минимальная скорость истечения из канала для распады струи**"
   ]
  },
  {
   "cell_type": "code",
   "execution_count": 20,
   "id": "a047cb3c-0bf7-46cb-b1c2-8181adce7c00",
   "metadata": {},
   "outputs": [
    {
     "name": "stdout",
     "output_type": "stream",
     "text": [
      "Критическая скорость истечения для распада струи 0.19404266217645424\n"
     ]
    }
   ],
   "source": [
    "Ukr = np.sqrt(8*sigma/doil/roil) \n",
    "print('Критическая скорость истечения для распада струи', Ukr)"
   ]
  },
  {
   "cell_type": "markdown",
   "id": "fc702a6b-c5ef-470e-9fc9-de433a7f80f7",
   "metadata": {},
   "source": [
    "**Число Вебера**"
   ]
  },
  {
   "cell_type": "code",
   "execution_count": 21,
   "id": "c6896aed-f5b6-41c0-95b6-29a8bb8d26e6",
   "metadata": {},
   "outputs": [
    {
     "name": "stdout",
     "output_type": "stream",
     "text": [
      "Число Вебера по топливу 14390.397445341005\n",
      "Число Вебера по H2 105.03939741124822\n"
     ]
    }
   ],
   "source": [
    "We_l = Vel_oil*Vel_oil*doil*roil/sigma\n",
    "We_g = Vel_oil*Vel_oil*doil*rH2/sigma\n",
    "print('Число Вебера по топливу', We_l)\n",
    "print('Число Вебера по H2', We_g)"
   ]
  },
  {
   "cell_type": "code",
   "execution_count": 22,
   "id": "55f3ce78-3f78-46e1-9272-8c0f5deda536",
   "metadata": {},
   "outputs": [
    {
     "data": {
      "text/plain": [
       "0.0012354757605884954"
      ]
     },
     "execution_count": 22,
     "metadata": {},
     "output_type": "execute_result"
    }
   ],
   "source": [
    "np.sqrt(We_l)/Re"
   ]
  },
  {
   "cell_type": "markdown",
   "id": "fb3f965f-7f48-41f5-a2e5-f2bf0fdd70b1",
   "metadata": {},
   "source": [
    "**Число Онезорге**"
   ]
  },
  {
   "cell_type": "code",
   "execution_count": 23,
   "id": "c054aebf-d4ff-4995-9962-1632c9193b34",
   "metadata": {},
   "outputs": [
    {
     "name": "stdout",
     "output_type": "stream",
     "text": [
      "Число Онезорге 0.0012354757605884954\n"
     ]
    }
   ],
   "source": [
    "Oh = visc/np.sqrt(roil*sigma*doil)\n",
    "print('Число Онезорге', Oh)"
   ]
  },
  {
   "cell_type": "markdown",
   "id": "d92433c4-19d5-47a5-a192-8a8b49402622",
   "metadata": {},
   "source": [
    "**Режимы распада по критериальным числам**"
   ]
  },
  {
   "cell_type": "markdown",
   "id": "888f5184-fcba-49d3-96e9-dd7b00cc68a7",
   "metadata": {},
   "source": [
    "**Вывод:** Second Wind induced break up regime"
   ]
  },
  {
   "cell_type": "markdown",
   "id": "212b267e-683d-4ed9-b88b-a2e0565c56b5",
   "metadata": {},
   "source": [
    "**Диаметр капли нефтепродуктов** (by Harmon [8])"
   ]
  },
  {
   "cell_type": "code",
   "execution_count": 24,
   "id": "94a79f3d-76ed-4b7e-8970-5695506728ab",
   "metadata": {},
   "outputs": [
    {
     "name": "stdout",
     "output_type": "stream",
     "text": [
      "Характерный дааметр капель 0.0004893140554623397\n"
     ]
    }
   ],
   "source": [
    "ddrop = 3330*pow(doil, 0.3)* pow(visc, 0.07)* pow(roil, -0.648)*pow(sigma, -0.15)*pow(Vel_oil, -0.55)*pow(rH2, -0.052)*pow(viscH2, 0.78)\n",
    "print('Характерный дааметр капель', ddrop)"
   ]
  },
  {
   "cell_type": "code",
   "execution_count": null,
   "id": "6e2e9937-c56b-47b3-b0a5-ed3a33b7def9",
   "metadata": {},
   "outputs": [],
   "source": []
  }
 ],
 "metadata": {
  "kernelspec": {
   "display_name": "Python 3 (ipykernel)",
   "language": "python",
   "name": "python3"
  },
  "language_info": {
   "codemirror_mode": {
    "name": "ipython",
    "version": 3
   },
   "file_extension": ".py",
   "mimetype": "text/x-python",
   "name": "python",
   "nbconvert_exporter": "python",
   "pygments_lexer": "ipython3",
   "version": "3.9.7"
  }
 },
 "nbformat": 4,
 "nbformat_minor": 5
}
